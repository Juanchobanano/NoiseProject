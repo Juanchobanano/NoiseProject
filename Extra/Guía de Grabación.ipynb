{
 "cells": [
  {
   "cell_type": "markdown",
   "metadata": {},
   "source": [
    "# Noise Project - Proyecto 2 Inteligencia Artificial."
   ]
  },
  {
   "cell_type": "markdown",
   "metadata": {},
   "source": [
    "El objetivo del presente notebook es estandarizar el proceso de grabación de los audios, localizaciones GPS, almacenamiento y el método de análisis que se utilizarán para el proyecto \"Noise Project\". "
   ]
  },
  {
   "cell_type": "markdown",
   "metadata": {},
   "source": [
    "# Aplicaciones que se utilizarán: \n",
    "\n",
    "1. GPS Logger: https://play.google.com/store/apps/details?id=com.mendhak.gpslogger&hl=es_419.\n",
    "Esta aplicación permite realizar un registro del GPS en distintos formatos (csv, GeoJson, etc), el cual, luego puede ser subido a google drive u otras aplicaciones de almacenamiento. Su principal ventaja es que sigue ejecutandose aún cuando el celular se encuentra bloqueado, i.e, corre en el background. Recomiendo descargarla e interactuar un poco con ella para entender como funciona a profundiad, la idea es que la utilicemos para guardar las localizaciones - en formato CSV (esta funcionalidad se debe activar en \"Opciones de Registro\") -, para luego cargarla al drive compartido que utilizaremos. También para finalidades de estadarizar el proceso de grabación, dentro de las configuraciones de la aplicación, indicar que las muestras se tomarán cada 30 SEGUNDOS.\n",
    "\n",
    "2. Grabadora de Voz: https://play.google.com/store/apps/details?id=com.splendapps.vox&hl=es_CO\n",
    "Esta aplicación permite realizar grabaciones del ambiente, permite compartir los archivos de audio por medio de Google Drive, así como correo, whatsapp, etc. Recomiendo descargarla y jugar con ella un rato. Cabe resaltar que los archivos quedan guardados en formato M4A."
   ]
  },
  {
   "cell_type": "markdown",
   "metadata": {},
   "source": [
    "# Proceso de grabación:\n",
    "\n",
    "En la próxima sesión debemos planear cómo vamos a llevar a cabo las \"caminatas\" a lo largo de la universidad, una vez definido lo anterior, seguir al pie de la letra la siguiente guía:\n",
    "\n",
    "1. Los nombres de los archivos GPS (i.e, los archivos CSV), deben ser guardados así: IDCelular-No.deGrabacion.\n",
    "2. Los nombres de los audios deben ser guardado así: IDCelular-No.deGrabacion-Día-HoraExacta-DB\n",
    "\n",
    "Ahora bien: explicamos en qué consiste cada variable: \n",
    "\n",
    "a. IDCelular: Es un número de identificador único para cada uno de nuestros celulares; para ser prácticos, lo podemos tomar directamente de nuestro número en la lista de personas inscritas al curso. Por ejemplo, IDCelular: 21\n",
    "\n",
    "b. No.deGrabación: Como su nombre lo indica, corresponde al número de grabación. Por ejemplo: No.deGrabación: 2\n",
    "\n",
    "c. Día: El formato que se utilizará será Día/Mes/Año, a manera de ejemplo, se registrará como 07102019 (i.e 7/10/2019, si el día es menor a 10, recomiendo colocar un 0 al inicio, es decir, si el dia es 7, lo registramos como 07). Algunos se preguntarán acerca de la relevancia de este dato dentro de nuestro proyecto: recuerden que queremos hacer un mapa de ruido de la universidad, ¡sería interesante saber cómo ese mapa varía a lo largo de la semana!\n",
    "\n",
    "d. HoraExacta: Corresponde a la hora exacta en que se graba el audio, en HORAS MILITARES, (BASTA CON COLOCAR SÓLO LA HORA Y EL MINUTO) a manera de ejemplo, considere HoraExacta: 0957 (i.e 9:57), ó HoraExacta: 2353 (i.e 23:53).\n",
    "\n",
    "e. DB: Numero de decibeles que se le tienen que \"susbir al audio\". En el título de ESTANDARTIZACIÓN (más abajo), se explica al detalle.\n",
    "\n",
    "Entonces..., si mis variables son \n",
    "\n",
    "IDCelular: 6, No.deGrabación: 2, Día: 07-10-2019, HoraExacta: 10:16, DB: 20.\n",
    "\n",
    "\n",
    "quedará algo así: \n",
    "\n",
    "1. 6-2.csv (archivo del GPS) y;\n",
    "\n",
    "2. 6-2-07102019-1016-20.m4a (archivo de Audio)\n"
   ]
  },
  {
   "cell_type": "markdown",
   "metadata": {},
   "source": [
    "# Proceso de Almacenamiento:"
   ]
  },
  {
   "cell_type": "markdown",
   "metadata": {},
   "source": [
    "Los archivos CSV (GPS) y los archivos M4A deben ser cargados a la siguiente carpeta de Google Drive: https://drive.google.com/drive/folders/1uabmwSJh3pQK10Y7Hm2TrlTVu6xsI6Hi?usp=sharing, en este momento, ya todos pueden subir, bajar e editar información es dicha carpeta.\n",
    "\n",
    "Es importante señalar que estoy archivos en formato M4A, deben ser convertidos a formato MP3 para poder cargarlos con la librería SCIPY, para luego poder analizar dicha información. Esta información inicialmente va a estar representada por una variable de AMPLITUD vs Tiempo. La cuestión aquí es que esta función se debe pasar a DECIBELES vs Tiempo, por internet se encuentra la fórmula."
   ]
  },
  {
   "cell_type": "markdown",
   "metadata": {},
   "source": [
    "# Estandarizacion:\n"
   ]
  },
  {
   "cell_type": "markdown",
   "metadata": {},
   "source": [
    "Uno de los mayores problemas con los que estamos lidiando, es con los distintos tipos de hardware del micrófono que tienen nuestros celulares, pueden haber algunos que capten una mayor cantidad de sonidos, mientras que otros no tanto. Para solucionar el problema anterior, sugerimos tomar un celular de referencia, es decir:\n",
    "\n",
    "1. Descargar la aplicación Medidor de Sonido, la cual permite medir el nivel de decibeles en un espacio: https://play.google.com/store/apps/details?id=com.soundtest.decibelmeter.soundmeter&hl=es_CO\n",
    "2. Antes de finalizar la clase, seleccionaremos el celular de una persona para ser el celular de referencia.\n",
    "3. La idea es que todo el mundo abra dicha aplicación en su celular, de tal manera que mida el nivel de decibeles en el recinto.\n",
    "4. Suponga que el celular de referencia marca 70 DB, mientras que el suyo marca 40 DB, por lo tanto, la variable DB (que se enunció en el título \"Proceso de Grabación\"), corresponderá a la diferencia entre lo que marca el celular de referencia, y lo que marca su celular, es decir, DB = 70 - 40 = 30. Con esta medida, sabremos cúanto \"decibeles\" debemos subirle a su audio, de tal manera que quede completamente estandarizada la grabación.\n"
   ]
  },
  {
   "cell_type": "markdown",
   "metadata": {},
   "source": [
    "# Por último...\n",
    "\n",
    "La idea es que la próxima clase podamos discutir las propuestas expuestas en este Notebook; de seguro algunas cosas se pueden optimizar o hacer mejor! Saludos :)\n",
    "\n",
    "Atentamente: Daniel Ríos y Juan Cepeda."
   ]
  }
 ],
 "metadata": {
  "kernelspec": {
   "display_name": "Python 3",
   "language": "python",
   "name": "python3"
  },
  "language_info": {
   "codemirror_mode": {
    "name": "ipython",
    "version": 3
   },
   "file_extension": ".py",
   "mimetype": "text/x-python",
   "name": "python",
   "nbconvert_exporter": "python",
   "pygments_lexer": "ipython3",
   "version": "3.7.3"
  }
 },
 "nbformat": 4,
 "nbformat_minor": 2
}
