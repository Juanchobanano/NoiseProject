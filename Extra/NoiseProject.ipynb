{
 "cells": [
  {
   "cell_type": "markdown",
   "metadata": {
    "colab_type": "text",
    "id": "ZUZw0A0VXNK9"
   },
   "source": [
    "# Proyecto Ruido UNAL- Proyecto 2"
   ]
  },
  {
   "cell_type": "markdown",
   "metadata": {
    "colab_type": "text",
    "id": "4wNUySerXhsJ"
   },
   "source": [
    "**Presentador por:**\n",
    "---\n",
    "\n",
    "---\n",
    "- **Juan Daniel Gomez Ríos.**\n",
    "- Estudiante de Ciencias de la Computación de la Universidad Nacional de Colombia.\n",
    "- Email: judgomezri@unal.edu.co\n",
    "- Google Site: \n",
    "\n",
    "---\n",
    "\n",
    "- **Juan Esteban Cepeda Baena.**\n",
    "- Estudiante de Ciencias de la Computación y Administración de Empresas de la Universidad Nacional de Colombia.\n",
    "- Email: jecepedab@unal.edu.co / juancepeda.gestion@gmail.com\n",
    "- Google Site: https://sites.google.com/view/juancepeda/\n",
    "\n",
    "---\n",
    "\n",
    "- **Carlos Ernesto Isaza Carvajal.**\n",
    "- Estudiante de Matemáticas de la Universidad Nacional de Colombia.\n",
    "- Email: ceisazac@unal.edu.co\n",
    "- Google Site:\n",
    "\n",
    "---\n",
    "\n",
    "- **Tania Valentina Delgado Castillo.**\n",
    "- Estudiante de Ciencias de la Computación de la Universidad Nacional de Colombia.\n",
    "- Email: tvcastillod@unal.edu.co\n",
    "- Google Site:"
   ]
  },
  {
   "cell_type": "markdown",
   "metadata": {
    "colab_type": "text",
    "id": "p8rKXS52Y5Ww"
   },
   "source": [
    "**1. Introducción.**\n",
    "\n",
    "---\n",
    "Lorem ipsum dolor sit amet, consectetur adipiscing elit. Donec nisi justo, lobortis a libero vel, tristique rhoncus nulla. Aenean non arcu vel elit ultricies interdum vel ut eros. Aliquam erat volutpat. In molestie turpis vel neque ornare, vitae porttitor orci elementum. Etiam pulvinar enim lobortis nibh sagittis egestas. Cras eu condimentum lorem. Fusce auctor, orci dapibus ullamcorper pharetra, turpis ipsum tincidunt tellus, nec finibus arcu massa vitae ante. Aliquam non bibendum justo."
   ]
  },
  {
   "cell_type": "markdown",
   "metadata": {
    "colab_type": "text",
    "id": "8Y2Qu7qPY-YK"
   },
   "source": [
    "**2. Estado del Arte.**\n",
    "\n",
    "---\n",
    "Lorem ipsum dolor sit amet, consectetur adipiscing elit. Donec nisi justo, lobortis a libero vel, tristique rhoncus nulla. Aenean non arcu vel elit ultricies interdum vel ut eros. Aliquam erat volutpat. In molestie turpis vel neque ornare, vitae porttitor orci elementum. Etiam pulvinar enim lobortis nibh sagittis egestas. Cras eu condimentum lorem. Fusce auctor, orci dapibus ullamcorper pharetra, turpis ipsum tincidunt tellus, nec finibus arcu massa vitae ante. Aliquam non bibendum justo."
   ]
  },
  {
   "cell_type": "markdown",
   "metadata": {
    "colab_type": "text",
    "id": "VjyapP2IZBKs"
   },
   "source": [
    "**3. Materiales y Métodos.**\n",
    "\n",
    "---\n",
    "Lorem ipsum dolor sit amet, consectetur adipiscing elit. Donec nisi justo, lobortis a libero vel, tristique rhoncus nulla. Aenean non arcu vel elit ultricies interdum vel ut eros. Aliquam erat volutpat. In molestie turpis vel neque ornare, vitae porttitor orci elementum. Etiam pulvinar enim lobortis nibh sagittis egestas. Cras eu condimentum lorem. Fusce auctor, orci dapibus ullamcorper pharetra, turpis ipsum tincidunt tellus, nec finibus arcu massa vitae ante. Aliquam non bibendum justo."
   ]
  },
  {
   "cell_type": "markdown",
   "metadata": {
    "colab_type": "text",
    "id": "zFNx-htIZeJm"
   },
   "source": [
    "\n",
    "**3.1 Modelo numérico**: "
   ]
  },
  {
   "cell_type": "markdown",
   "metadata": {
    "colab_type": "text",
    "id": "v6RzcGvcZeMC"
   },
   "source": [
    "**3.2 Herramientas computacionales:**\n",
    "\n",
    "Las herramientas computacionales o librerías utilizadas para el desarrollo del proyecto fueron: 1) Numpy, 2) google.colab, 3) Matplotlib, 4) Math, 5) Pandas, 6) Warnings, 7) Folium, 8) Socket, 9)stmplib, 10)ssl, 11)email y 12)geopy. A continuación se explica qué son y cómo fueron utilizadas:\n",
    "\n"
   ]
  },
  {
   "cell_type": "markdown",
   "metadata": {
    "colab_type": "text",
    "id": "5oTzQpOJZ_QU"
   },
   "source": [
    "**4. Resultados.**\n",
    "\n",
    "---\n",
    "\n",
    "A continuación, se presenta el código del programa, los resultados del algorítmo de entrenamiento y el algortímo de prueba."
   ]
  },
  {
   "cell_type": "code",
   "execution_count": 2,
   "metadata": {
    "colab": {
     "base_uri": "https://localhost:8080/",
     "height": 238
    },
    "colab_type": "code",
    "executionInfo": {
     "elapsed": 7825,
     "status": "ok",
     "timestamp": 1571972684157,
     "user": {
      "displayName": "Juan Esteban Cepeda Baena",
      "photoUrl": "https://lh3.googleusercontent.com/a-/AAuE7mDqOpLjDd-zk9tyUpqp8z-dzdJjUZGBprKMu-xftg=s64",
      "userId": "06764794568275068594"
     },
     "user_tz": 300
    },
    "id": "FP-jWl5fiL6i",
    "outputId": "6bb50188-dc29-408c-a69d-d537d8dc74e8"
   },
   "outputs": [],
   "source": [
    "# Install folium & scipy\n",
    "#!pip install folium\n",
    "#!pip install scipy"
   ]
  },
  {
   "cell_type": "code",
   "execution_count": 3,
   "metadata": {
    "colab": {},
    "colab_type": "code",
    "id": "5KlKQS1niRcq"
   },
   "outputs": [],
   "source": [
    "# Import libraries.\n",
    "import pandas as pd\n",
    "import numpy as np\n",
    "import scipy\n",
    "import scipy.io.wavfile\n",
    "import matplotlib.pyplot as plt\n",
    "import math\n",
    "import os\n",
    "import datetime\n",
    "\n",
    "import folium\n",
    "from folium import plugins\n",
    "from folium.plugins import HeatMap"
   ]
  },
  {
   "cell_type": "code",
   "execution_count": 4,
   "metadata": {
    "colab": {},
    "colab_type": "code",
    "id": "oVJqbM4Q0Qom"
   },
   "outputs": [],
   "source": [
    "# Graphing helper function\n",
    "def setup_graph(title='', x_label='', y_label='', fig_size=None):\n",
    "    fig = plt.figure()\n",
    "    if fig_size != None:\n",
    "        fig.set_size_inches(fig_size[0], fig_size[1])\n",
    "    ax = fig.add_subplot(111)\n",
    "    ax.set_title(title)\n",
    "    ax.set_xlabel(x_label)\n",
    "    ax.set_ylabel(y_label)\n",
    "\n",
    "# Noise Levels Messages.\n",
    "def noise_levels(db):\n",
    "    if(db <= 10): return \"Casi tranquilo, respirando\"\n",
    "    elif(db > 10 and db <= 20): return \"Hojas que aherrumbran, reloj que hace tictac\"\n",
    "    elif(db > 20 and db <= 30): return \"Susurro, zona rural tranquila\"\n",
    "    elif(db > 30 and db <= 40): return \"Biblioteca silenciosa, llamadas de aves\"\n",
    "    elif(db > 40 and db <= 50): return \"Oficina tranquila, lluvias moderadas\"\n",
    "    elif(db > 50 and db <= 60): return \"Conversación normal\"\n",
    "    elif(db > 60 and db <= 70): return \"Tráfico Ocupado, aspirador\"\n",
    "    elif(db > 70 and db <= 80): return \"Música de la carga, despertadores\"\n",
    "    elif(db > 80 and db <= 90): return \"Carro diesel, cortacéspedes\"\n",
    "    elif(db > 90 and db <= 100): return \"Motocicleta, secador de soplo\"\n",
    "    elif(db > 100 and db <= 110): return \"Conciertos, niño gritando\"\n",
    "    elif(db > 110 and db <= 120): return \"Umbral de dolor, trueno\"\n",
    "\n",
    "# Get audio-gps author.\n",
    "def author(id):\n",
    "    if id == 1: return \"Daniel\"\n",
    "    elif id == 2: return \"Juan Esteban\"\n",
    "    elif id == 3: return \"Carlos\"\n",
    "    elif id == 4: return \"Tania\"\n",
    "\n",
    "# Mean function.\n",
    "def getMean(lista):\n",
    "    suma = 0\n",
    "    for i in lista: \n",
    "        suma += i\n",
    "    return suma/len(lista)\n",
    "\n",
    "# Convert string to datetime.\n",
    "def convertToDatetime(date):\n",
    "    date = date.replace(\"T\", \" \").replace(\"Z\", \" \")[:19]\n",
    "    date = datetime.datetime.strptime(date, '%Y-%m-%d %H:%M:%S')\n",
    "    return date"
   ]
  },
  {
   "cell_type": "code",
   "execution_count": 5,
   "metadata": {
    "colab": {
     "base_uri": "https://localhost:8080/",
     "height": 122
    },
    "colab_type": "code",
    "executionInfo": {
     "elapsed": 19280,
     "status": "ok",
     "timestamp": 1571972708752,
     "user": {
      "displayName": "Juan Esteban Cepeda Baena",
      "photoUrl": "https://lh3.googleusercontent.com/a-/AAuE7mDqOpLjDd-zk9tyUpqp8z-dzdJjUZGBprKMu-xftg=s64",
      "userId": "06764794568275068594"
     },
     "user_tz": 300
    },
    "id": "N7DngY7pi_zg",
    "outputId": "676cf2a2-1351-47a0-9ce4-c0e0a6342af8"
   },
   "outputs": [],
   "source": [
    "# Mount drive in order to read files from it (only for Google Drive)\n",
    "#from google.colab import drive\n",
    "#drive.mount(\"/content/drive\")"
   ]
  },
  {
   "cell_type": "code",
   "execution_count": 6,
   "metadata": {
    "colab": {},
    "colab_type": "code",
    "id": "WGBL9-bcbSSq"
   },
   "outputs": [
    {
     "ename": "FileNotFoundError",
     "evalue": "[WinError 3] El sistema no puede encontrar la ruta especificada: './Almacenamiento de Audios y GPS/'",
     "output_type": "error",
     "traceback": [
      "\u001b[1;31m---------------------------------------------------------------------------\u001b[0m",
      "\u001b[1;31mFileNotFoundError\u001b[0m                         Traceback (most recent call last)",
      "\u001b[1;32m<ipython-input-6-3e18eef2fd73>\u001b[0m in \u001b[0;36m<module>\u001b[1;34m\u001b[0m\n\u001b[0;32m      5\u001b[0m \u001b[1;33m\u001b[0m\u001b[0m\n\u001b[0;32m      6\u001b[0m \u001b[1;31m# Get CSV files.\u001b[0m\u001b[1;33m\u001b[0m\u001b[1;33m\u001b[0m\u001b[1;33m\u001b[0m\u001b[0m\n\u001b[1;32m----> 7\u001b[1;33m \u001b[1;32mwith\u001b[0m \u001b[0mos\u001b[0m\u001b[1;33m.\u001b[0m\u001b[0mscandir\u001b[0m\u001b[1;33m(\u001b[0m\u001b[0mpathFile\u001b[0m\u001b[1;33m)\u001b[0m \u001b[1;32mas\u001b[0m \u001b[0mentries\u001b[0m\u001b[1;33m:\u001b[0m\u001b[1;33m\u001b[0m\u001b[1;33m\u001b[0m\u001b[0m\n\u001b[0m\u001b[0;32m      8\u001b[0m     \u001b[1;32mfor\u001b[0m \u001b[0mentry\u001b[0m \u001b[1;32min\u001b[0m \u001b[0mentries\u001b[0m\u001b[1;33m:\u001b[0m\u001b[1;33m\u001b[0m\u001b[1;33m\u001b[0m\u001b[0m\n\u001b[0;32m      9\u001b[0m         \u001b[1;32mif\u001b[0m\u001b[1;33m(\u001b[0m\u001b[0mentry\u001b[0m\u001b[1;33m.\u001b[0m\u001b[0mname\u001b[0m\u001b[1;33m.\u001b[0m\u001b[0mfind\u001b[0m\u001b[1;33m(\u001b[0m\u001b[1;34m\"csv\"\u001b[0m\u001b[1;33m)\u001b[0m \u001b[1;33m>\u001b[0m \u001b[1;36m0\u001b[0m\u001b[1;33m)\u001b[0m\u001b[1;33m:\u001b[0m\u001b[1;33m\u001b[0m\u001b[1;33m\u001b[0m\u001b[0m\n",
      "\u001b[1;31mFileNotFoundError\u001b[0m: [WinError 3] El sistema no puede encontrar la ruta especificada: './Almacenamiento de Audios y GPS/'"
     ]
    }
   ],
   "source": [
    "# Load audio & GPS files.\n",
    "pathFile =  \"./Almacenamiento de Audios y GPS/\"\n",
    "csv_files = list()\n",
    "sound_files = list()\n",
    "\n",
    "# Get CSV files.\n",
    "with os.scandir(pathFile) as entries:\n",
    "    for entry in entries:\n",
    "        if(entry.name.find(\"csv\") > 0):\n",
    "            csv_files.append(entry.name)\n",
    "            sound_files.append(entry.name[0:3])"
   ]
  },
  {
   "cell_type": "code",
   "execution_count": 7,
   "metadata": {
    "colab": {
     "base_uri": "https://localhost:8080/",
     "height": 221
    },
    "colab_type": "code",
    "executionInfo": {
     "elapsed": 956,
     "status": "ok",
     "timestamp": 1571972713511,
     "user": {
      "displayName": "Juan Esteban Cepeda Baena",
      "photoUrl": "https://lh3.googleusercontent.com/a-/AAuE7mDqOpLjDd-zk9tyUpqp8z-dzdJjUZGBprKMu-xftg=s64",
      "userId": "06764794568275068594"
     },
     "user_tz": 300
    },
    "id": "2Tnq3DOCmD1X",
    "outputId": "bfd90029-aa3d-420e-a1f5-a78372a2b623"
   },
   "outputs": [
    {
     "data": {
      "text/plain": [
       "[]"
      ]
     },
     "execution_count": 7,
     "metadata": {},
     "output_type": "execute_result"
    }
   ],
   "source": [
    "csv_files"
   ]
  },
  {
   "cell_type": "code",
   "execution_count": 0,
   "metadata": {
    "colab": {},
    "colab_type": "code",
    "id": "TlbkH_7nbSdu"
   },
   "outputs": [],
   "source": [
    "# Convert amplitude to decibels.\n",
    "def toDB(input_signal, compensation = 0):\n",
    "    # Compute dB of audio.\n",
    "    # https://stackoverflow.com/questions/2445756/how-can-i-calculate-audio-db-level\n",
    "    INCREASE = 40\n",
    "\n",
    "    if(max(input_signal) > abs(min(input_signal))): \n",
    "        max_amplitude = max(input_signal)\n",
    "    else: \n",
    "        max_amplitude = abs(min(input_signal))\n",
    "    input_signal_normalize = abs(input_signal / max_amplitude)\n",
    "\n",
    "    db = list()\n",
    "    for i in input_signal_normalize:\n",
    "        if i != 0: \n",
    "            db.append(abs(20 * math.log(abs(i), 10)) + INCREASE + compensation)\n",
    "        else:\n",
    "            db.append(0)\n",
    "    return db\n",
    "\n",
    "def addSecondsColumn(df):\n",
    "\n",
    "    df2 = pd.DataFrame()\n",
    "    for i in range(0, len(df) - 1):\n",
    "        d1 = convertToDatetime(df[\"time\"].iloc[i])\n",
    "        d2 = convertToDatetime(df[\"time\"].iloc[i+1])\n",
    "        diff = abs((d2-d1).seconds)\n",
    "        data = df.iloc[i]\n",
    "      \n",
    "        if diff <= 30:\n",
    "          new_row = [d1 - datetime.timedelta(hours = 5), data[\"lat\"], data[\"lon\"], diff]\n",
    "          df2 = df2.append([new_row], ignore_index=True)\n",
    "\n",
    "    df2.columns=[\"time\", \"lat\", \"lon\", \"seconds\"]\n",
    "    return df2\n",
    "\n",
    "def getNoiseDataframe(df, time_array, input_signal, compensation):\n",
    "\n",
    "    # Initialize noise dataframe.\n",
    "    noise = pd.DataFrame()\n",
    "\n",
    "    # Seconds counter.\n",
    "    seconds = 0\n",
    "    frame_duration = 0\n",
    "\n",
    "    # Process noise levels associate with time.\n",
    "    for i in range(0, len(df)): #len(df)\n",
    "\n",
    "        try:\n",
    "            print(\"Processing...\")\n",
    "\n",
    "            # Get frame duration.\n",
    "            frame_duration += df.iloc[i][3]\n",
    "\n",
    "            # Find index.\n",
    "            for t in list(time_array):\n",
    "              if abs(frame_duration - t) < 0.00001:\n",
    "                  array_pos = list(time_array).index(frame_duration)\n",
    "                  break\n",
    "\n",
    "            # Get audio partition.\n",
    "            audio_partition = input_signal[seconds : array_pos]\n",
    "\n",
    "            # Compute dB of audio partition.\n",
    "            db = toDB(audio_partition, compensation = compensation)\n",
    "            mean_db = getMean(db)\n",
    "\n",
    "            # Append analysis \n",
    "            print(\"Mean DB: \", mean_db)\n",
    "            noise = noise.append([[mean_db/100, noise_levels(mean_db)]], ignore_index = True)\n",
    "\n",
    "            # Increase seconds.\n",
    "            seconds += frame_duration\n",
    "\n",
    "        except: \n",
    "            print(\"Error!\")\n",
    "            break\n",
    "\n",
    "    noise.columns=[\"Noise\", \"Description\"]\n",
    "    return noise"
   ]
  },
  {
   "cell_type": "code",
   "execution_count": 8,
   "metadata": {
    "colab": {
     "base_uri": "https://localhost:8080/",
     "height": 629
    },
    "colab_type": "code",
    "executionInfo": {
     "elapsed": 3374,
     "status": "error",
     "timestamp": 1571972794579,
     "user": {
      "displayName": "Juan Esteban Cepeda Baena",
      "photoUrl": "https://lh3.googleusercontent.com/a-/AAuE7mDqOpLjDd-zk9tyUpqp8z-dzdJjUZGBprKMu-xftg=s64",
      "userId": "06764794568275068594"
     },
     "user_tz": 300
    },
    "id": "7BI_XduUHeUO",
    "outputId": "41eb1ac3-fb52-402e-c5c3-ee6afa350372"
   },
   "outputs": [
    {
     "name": "stdout",
     "output_type": "stream",
     "text": [
      "Autor:  Daniel\n",
      "1-2-0910-0947-0.csv\n",
      "1-2\n",
      "Date:  0910 , Hour:  0947 , Compensation:  0\n",
      "                 time         lat           lon  seconds\n",
      "0 2019-10-09 09:46:53  4,63461145  -74,08051489        4\n",
      "1 2019-10-09 09:46:57  4,63466901  -74,08054614        4\n",
      "2 2019-10-09 09:47:01  4,63465182  -74,08051943        4\n",
      "3 2019-10-09 09:47:05  4,63458137  -74,08051934        4\n",
      "4 2019-10-09 09:47:09  4,63470972  -74,08050805        4\n",
      "5 2019-10-09 09:47:13  4,63468026  -74,08048798        4\n",
      "6 2019-10-09 09:47:17  4,63458626  -74,08051535        3\n",
      "7 2019-10-09 09:47:20  4,63462926  -74,08040057        6\n",
      "8 2019-10-09 09:47:26  4,63469813  -74,08034267        4\n",
      "9 2019-10-09 09:47:30  4,63474068  -74,08038092        3\n"
     ]
    },
    {
     "ename": "ValueError",
     "evalue": "ignored",
     "output_type": "error",
     "traceback": [
      "\u001b[0;31m---------------------------------------------------------------------------\u001b[0m",
      "\u001b[0;31mValueError\u001b[0m                                Traceback (most recent call last)",
      "\u001b[0;32m<ipython-input-8-aac8afd15884>\u001b[0m in \u001b[0;36m<module>\u001b[0;34m()\u001b[0m\n\u001b[1;32m     27\u001b[0m \u001b[0;34m\u001b[0m\u001b[0m\n\u001b[1;32m     28\u001b[0m     \u001b[0;31m# Load audio file.\u001b[0m\u001b[0;34m\u001b[0m\u001b[0;34m\u001b[0m\u001b[0;34m\u001b[0m\u001b[0m\n\u001b[0;32m---> 29\u001b[0;31m     \u001b[0;34m(\u001b[0m\u001b[0msample_rate\u001b[0m\u001b[0;34m,\u001b[0m \u001b[0minput_signal\u001b[0m\u001b[0;34m)\u001b[0m \u001b[0;34m=\u001b[0m \u001b[0mscipy\u001b[0m\u001b[0;34m.\u001b[0m\u001b[0mio\u001b[0m\u001b[0;34m.\u001b[0m\u001b[0mwavfile\u001b[0m\u001b[0;34m.\u001b[0m\u001b[0mread\u001b[0m\u001b[0;34m(\u001b[0m\u001b[0mpathFile\u001b[0m \u001b[0;34m+\u001b[0m \u001b[0msound_files\u001b[0m\u001b[0;34m[\u001b[0m\u001b[0;36m5\u001b[0m\u001b[0;34m]\u001b[0m \u001b[0;34m+\u001b[0m \u001b[0;34m\".wav\"\u001b[0m\u001b[0;34m)\u001b[0m\u001b[0;34m\u001b[0m\u001b[0;34m\u001b[0m\u001b[0m\n\u001b[0m\u001b[1;32m     30\u001b[0m     \u001b[0mtime_array\u001b[0m \u001b[0;34m=\u001b[0m \u001b[0mnp\u001b[0m\u001b[0;34m.\u001b[0m\u001b[0marange\u001b[0m\u001b[0;34m(\u001b[0m\u001b[0;36m0\u001b[0m\u001b[0;34m,\u001b[0m \u001b[0mlen\u001b[0m\u001b[0;34m(\u001b[0m\u001b[0minput_signal\u001b[0m\u001b[0;34m)\u001b[0m\u001b[0;34m/\u001b[0m\u001b[0msample_rate\u001b[0m\u001b[0;34m,\u001b[0m \u001b[0;36m1\u001b[0m\u001b[0;34m/\u001b[0m\u001b[0msample_rate\u001b[0m\u001b[0;34m)\u001b[0m\u001b[0;34m\u001b[0m\u001b[0;34m\u001b[0m\u001b[0m\n\u001b[1;32m     31\u001b[0m     \u001b[0maudio_duration_minutes\u001b[0m \u001b[0;34m=\u001b[0m \u001b[0mtime_array\u001b[0m\u001b[0;34m[\u001b[0m\u001b[0;34m-\u001b[0m\u001b[0;36m1\u001b[0m\u001b[0;34m]\u001b[0m \u001b[0;34m/\u001b[0m \u001b[0;36m60\u001b[0m\u001b[0;34m\u001b[0m\u001b[0;34m\u001b[0m\u001b[0m\n",
      "\u001b[0;32m/usr/local/lib/python3.6/dist-packages/scipy/io/wavfile.py\u001b[0m in \u001b[0;36mread\u001b[0;34m(filename, mmap)\u001b[0m\n\u001b[1;32m    250\u001b[0m             \u001b[0;32mif\u001b[0m \u001b[0mchunk_id\u001b[0m \u001b[0;34m==\u001b[0m \u001b[0;34mb'fmt '\u001b[0m\u001b[0;34m:\u001b[0m\u001b[0;34m\u001b[0m\u001b[0;34m\u001b[0m\u001b[0m\n\u001b[1;32m    251\u001b[0m                 \u001b[0mfmt_chunk_received\u001b[0m \u001b[0;34m=\u001b[0m \u001b[0;32mTrue\u001b[0m\u001b[0;34m\u001b[0m\u001b[0;34m\u001b[0m\u001b[0m\n\u001b[0;32m--> 252\u001b[0;31m                 \u001b[0mfmt_chunk\u001b[0m \u001b[0;34m=\u001b[0m \u001b[0m_read_fmt_chunk\u001b[0m\u001b[0;34m(\u001b[0m\u001b[0mfid\u001b[0m\u001b[0;34m,\u001b[0m \u001b[0mis_big_endian\u001b[0m\u001b[0;34m)\u001b[0m\u001b[0;34m\u001b[0m\u001b[0;34m\u001b[0m\u001b[0m\n\u001b[0m\u001b[1;32m    253\u001b[0m                 \u001b[0mformat_tag\u001b[0m\u001b[0;34m,\u001b[0m \u001b[0mchannels\u001b[0m\u001b[0;34m,\u001b[0m \u001b[0mfs\u001b[0m \u001b[0;34m=\u001b[0m \u001b[0mfmt_chunk\u001b[0m\u001b[0;34m[\u001b[0m\u001b[0;36m1\u001b[0m\u001b[0;34m:\u001b[0m\u001b[0;36m4\u001b[0m\u001b[0;34m]\u001b[0m\u001b[0;34m\u001b[0m\u001b[0;34m\u001b[0m\u001b[0m\n\u001b[1;32m    254\u001b[0m                 \u001b[0mbit_depth\u001b[0m \u001b[0;34m=\u001b[0m \u001b[0mfmt_chunk\u001b[0m\u001b[0;34m[\u001b[0m\u001b[0;36m6\u001b[0m\u001b[0;34m]\u001b[0m\u001b[0;34m\u001b[0m\u001b[0;34m\u001b[0m\u001b[0m\n",
      "\u001b[0;32m/usr/local/lib/python3.6/dist-packages/scipy/io/wavfile.py\u001b[0m in \u001b[0;36m_read_fmt_chunk\u001b[0;34m(fid, is_big_endian)\u001b[0m\n\u001b[1;32m     92\u001b[0m \u001b[0;34m\u001b[0m\u001b[0m\n\u001b[1;32m     93\u001b[0m     \u001b[0;32mif\u001b[0m \u001b[0mformat_tag\u001b[0m \u001b[0;32mnot\u001b[0m \u001b[0;32min\u001b[0m \u001b[0mKNOWN_WAVE_FORMATS\u001b[0m\u001b[0;34m:\u001b[0m\u001b[0;34m\u001b[0m\u001b[0;34m\u001b[0m\u001b[0m\n\u001b[0;32m---> 94\u001b[0;31m         \u001b[0;32mraise\u001b[0m \u001b[0mValueError\u001b[0m\u001b[0;34m(\u001b[0m\u001b[0;34m\"Unknown wave file format\"\u001b[0m\u001b[0;34m)\u001b[0m\u001b[0;34m\u001b[0m\u001b[0;34m\u001b[0m\u001b[0m\n\u001b[0m\u001b[1;32m     95\u001b[0m \u001b[0;34m\u001b[0m\u001b[0m\n\u001b[1;32m     96\u001b[0m     \u001b[0;31m# move file pointer to next chunk\u001b[0m\u001b[0;34m\u001b[0m\u001b[0;34m\u001b[0m\u001b[0;34m\u001b[0m\u001b[0m\n",
      "\u001b[0;31mValueError\u001b[0m: Unknown wave file format"
     ]
    }
   ],
   "source": [
    "for i in range(4,5): #len(csv_files)\n",
    "\n",
    "    print(\"Autor: \", author(int(csv_files[i][0])))\n",
    "    print(csv_files[i])\n",
    "    print(sound_files[i])\n",
    "    \n",
    "    # Set gps and sound path file.\n",
    "    gpsPath = pathFile + csv_files[i] \n",
    "    soundPath = pathFile + sound_files[i] + \".wav\"\n",
    "\n",
    "    # Get date, hour & compensation.\n",
    "    date = csv_files[i][4:8]\n",
    "    hour = csv_files[i][9:13]\n",
    "    compensation = int(csv_files[i][14])\n",
    "    print(\"Date: \", date, \", Hour: \", hour, \", Compensation: \", compensation)\n",
    "\n",
    "    # Read gps file and add seconds column.\n",
    "    \n",
    "    try:\n",
    "      df = pd.read_csv(gpsPath, delimiter=\";\", error_bad_lines=False)\n",
    "      df = addSecondsColumn(df)\n",
    "    except:\n",
    "      df = pd.read_csv(gpsPath, delimiter=\",\", error_bad_lines=False)\n",
    "      df = addSecondsColumn(df)\n",
    "    #df = df.iloc[0:5]\n",
    "    print(df.head(10))\n",
    "\n",
    "    # Load audio file.\n",
    "    (sample_rate, input_signal) = scipy.io.wavfile.read(pathFile + sound_files[5] + \".wav\")\n",
    "    time_array = np.arange(0, len(input_signal)/sample_rate, 1/sample_rate)   \n",
    "    audio_duration_minutes = time_array[-1] / 60\n",
    "    print(\"Sound ready! Duration in minutes: \", audio_duration_minutes)\n",
    "\n",
    "    # Get noise dataframe.\n",
    "    noise = getNoiseDataframe(df, time_array, input_signal, compensation)\n",
    "    print(noise)\n",
    "\n",
    "    # Append noise dataframe to dataframe.\n",
    "    df = df.join(noise)\n",
    "    print(df)"
   ]
  },
  {
   "cell_type": "code",
   "execution_count": 0,
   "metadata": {
    "colab": {
     "base_uri": "https://localhost:8080/",
     "height": 355
    },
    "colab_type": "code",
    "executionInfo": {
     "elapsed": 926,
     "status": "ok",
     "timestamp": 1571836935497,
     "user": {
      "displayName": "Juan Esteban Cepeda Baena",
      "photoUrl": "https://lh3.googleusercontent.com/a-/AAuE7mDqOpLjDd-zk9tyUpqp8z-dzdJjUZGBprKMu-xftg=s64",
      "userId": "06764794568275068594"
     },
     "user_tz": 300
    },
    "id": "25XqqSKcSc98",
    "outputId": "78b664e9-27d9-437e-e02b-367cc2b570ac"
   },
   "outputs": [
    {
     "data": {
      "text/html": [
       "<div>\n",
       "<style scoped>\n",
       "    .dataframe tbody tr th:only-of-type {\n",
       "        vertical-align: middle;\n",
       "    }\n",
       "\n",
       "    .dataframe tbody tr th {\n",
       "        vertical-align: top;\n",
       "    }\n",
       "\n",
       "    .dataframe thead th {\n",
       "        text-align: right;\n",
       "    }\n",
       "</style>\n",
       "<table border=\"1\" class=\"dataframe\">\n",
       "  <thead>\n",
       "    <tr style=\"text-align: right;\">\n",
       "      <th></th>\n",
       "      <th>time</th>\n",
       "      <th>lat</th>\n",
       "      <th>lon</th>\n",
       "      <th>seconds</th>\n",
       "    </tr>\n",
       "  </thead>\n",
       "  <tbody>\n",
       "    <tr>\n",
       "      <th>0</th>\n",
       "      <td>2019-10-09 16:12:46</td>\n",
       "      <td>4,63763125</td>\n",
       "      <td>-74,08134413</td>\n",
       "      <td>4</td>\n",
       "    </tr>\n",
       "    <tr>\n",
       "      <th>1</th>\n",
       "      <td>2019-10-09 16:12:50</td>\n",
       "      <td>4,63749096</td>\n",
       "      <td>-74,08119514</td>\n",
       "      <td>7</td>\n",
       "    </tr>\n",
       "    <tr>\n",
       "      <th>2</th>\n",
       "      <td>2019-10-09 16:12:57</td>\n",
       "      <td>4,63739131</td>\n",
       "      <td>-74,08118894</td>\n",
       "      <td>6</td>\n",
       "    </tr>\n",
       "    <tr>\n",
       "      <th>3</th>\n",
       "      <td>2019-10-09 16:13:02</td>\n",
       "      <td>4,6375499</td>\n",
       "      <td>-74,0810766</td>\n",
       "      <td>7</td>\n",
       "    </tr>\n",
       "    <tr>\n",
       "      <th>4</th>\n",
       "      <td>2019-10-09 16:13:09</td>\n",
       "      <td>4,63750763</td>\n",
       "      <td>-74,08123927</td>\n",
       "      <td>7</td>\n",
       "    </tr>\n",
       "    <tr>\n",
       "      <th>5</th>\n",
       "      <td>2019-10-09 16:13:02</td>\n",
       "      <td>4,6374615</td>\n",
       "      <td>-74,0810585</td>\n",
       "      <td>21</td>\n",
       "    </tr>\n",
       "    <tr>\n",
       "      <th>6</th>\n",
       "      <td>2019-10-09 16:13:23</td>\n",
       "      <td>4,63725853</td>\n",
       "      <td>-74,08109697</td>\n",
       "      <td>5</td>\n",
       "    </tr>\n",
       "    <tr>\n",
       "      <th>7</th>\n",
       "      <td>2019-10-09 16:13:19</td>\n",
       "      <td>4,6373274</td>\n",
       "      <td>-74,0809115</td>\n",
       "      <td>15</td>\n",
       "    </tr>\n",
       "    <tr>\n",
       "      <th>8</th>\n",
       "      <td>2019-10-09 16:13:34</td>\n",
       "      <td>4,63720933</td>\n",
       "      <td>-74,08122604</td>\n",
       "      <td>4</td>\n",
       "    </tr>\n",
       "    <tr>\n",
       "      <th>9</th>\n",
       "      <td>2019-10-09 16:13:27</td>\n",
       "      <td>4,6371442</td>\n",
       "      <td>-74,0808959</td>\n",
       "      <td>17</td>\n",
       "    </tr>\n",
       "  </tbody>\n",
       "</table>\n",
       "</div>"
      ],
      "text/plain": [
       "                 time         lat           lon  seconds\n",
       "0 2019-10-09 16:12:46  4,63763125  -74,08134413        4\n",
       "1 2019-10-09 16:12:50  4,63749096  -74,08119514        7\n",
       "2 2019-10-09 16:12:57  4,63739131  -74,08118894        6\n",
       "3 2019-10-09 16:13:02   4,6375499   -74,0810766        7\n",
       "4 2019-10-09 16:13:09  4,63750763  -74,08123927        7\n",
       "5 2019-10-09 16:13:02   4,6374615   -74,0810585       21\n",
       "6 2019-10-09 16:13:23  4,63725853  -74,08109697        5\n",
       "7 2019-10-09 16:13:19   4,6373274   -74,0809115       15\n",
       "8 2019-10-09 16:13:34  4,63720933  -74,08122604        4\n",
       "9 2019-10-09 16:13:27   4,6371442   -74,0808959       17"
      ]
     },
     "execution_count": 62,
     "metadata": {
      "tags": []
     },
     "output_type": "execute_result"
    }
   ],
   "source": [
    "df.head(10)"
   ]
  },
  {
   "cell_type": "markdown",
   "metadata": {
    "colab_type": "text",
    "id": "0k6FWYzbSihe"
   },
   "source": [
    "## Draw gps road."
   ]
  },
  {
   "cell_type": "code",
   "execution_count": 0,
   "metadata": {
    "colab": {
     "base_uri": "https://localhost:8080/",
     "height": 703
    },
    "colab_type": "code",
    "executionInfo": {
     "elapsed": 924,
     "status": "ok",
     "timestamp": 1571836941645,
     "user": {
      "displayName": "Juan Esteban Cepeda Baena",
      "photoUrl": "https://lh3.googleusercontent.com/a-/AAuE7mDqOpLjDd-zk9tyUpqp8z-dzdJjUZGBprKMu-xftg=s64",
      "userId": "06764794568275068594"
     },
     "user_tz": 300
    },
    "id": "W9Uj2e7SSX5O",
    "outputId": "f10519a5-5ec6-4059-b12d-879605e257be"
   },
   "outputs": [
    {
     "data": {
      "text/html": [
       "<div style=\"width:100%;\"><div style=\"position:relative;width:100%;height:0;padding-bottom:60%;\"><iframe src=\"data:text/html;charset=utf-8;base64,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\" style=\"position:absolute;width:100%;height:100%;left:0;top:0;border:none !important;\" allowfullscreen webkitallowfullscreen mozallowfullscreen></iframe></div></div>"
      ],
      "text/plain": [
       "<folium.folium.Map at 0x7fdda356d550>"
      ]
     },
     "execution_count": 63,
     "metadata": {
      "tags": []
     },
     "output_type": "execute_result"
    }
   ],
   "source": [
    "# Initialize map.\n",
    "lat = df.iloc[0][\"lat\"]\n",
    "lon = df.iloc[0][\"lon\"]\n",
    "map_hooray = folium.Map(location=[4.6365, -74.0815], zoom_start = 17) #, width = 800, height = 480)\n",
    "\n",
    "# Get Data.\n",
    "latitude = list()\n",
    "longitude = list()\n",
    "weight = list()\n",
    "\n",
    "for i in range(0, len(df)):\n",
    "    latitude.append(float(str(df.iloc[i][\"lat\"]).replace(\",\",\".\")))\n",
    "    longitude.append(float(str(df.iloc[i][\"lon\"]).replace(\",\",\".\")))\n",
    "    #weight.append(float(str(df.iloc[i][\"Noise\"]).replace(\",\",\".\")))\n",
    "\n",
    "data = pd.DataFrame(data={\"Latitude\": latitude, \"Longitude\": longitude }) #\"Weight\":weight})\n",
    "#print(data)\n",
    "\n",
    "# List comprehension to make out list of lists\n",
    "heat_data = [[row['Latitude'],row['Longitude']] for index, row in data.iterrows()] # , row[\"Weight\"]] \n",
    "\n",
    "# Plot it on the map\n",
    "#HeatMap(heat_data).add_to(map_hooray)\n",
    "\n",
    "#add markers\n",
    "folium.Marker(heat_data[0], popup='<i>Inicio Trayecto</i>',).add_to(map_hooray)\n",
    "folium.Marker(heat_data[-1], popup='<i>Fin Trayecto</i>',).add_to(map_hooray)\n",
    "\n",
    "folium.PolyLine(heat_data, maxval = 1.25, color=\"red\", weight=2.5, opacity=1).add_to(map_hooray)\n",
    "\n",
    "# Display the map\n",
    "map_hooray\n",
    "\n",
    "#HeatMap(data).add_to(map_hooray)\n",
    "#map_hooray\n"
   ]
  },
  {
   "cell_type": "markdown",
   "metadata": {
    "colab_type": "text",
    "id": "yBpYbS82_l5E"
   },
   "source": [
    "## Procesamiento de un Audio"
   ]
  },
  {
   "cell_type": "code",
   "execution_count": 0,
   "metadata": {
    "colab": {},
    "colab_type": "code",
    "id": "OUapH-VbFohy"
   },
   "outputs": [],
   "source": []
  },
  {
   "cell_type": "code",
   "execution_count": 0,
   "metadata": {
    "colab": {
     "base_uri": "https://localhost:8080/",
     "height": 51
    },
    "colab_type": "code",
    "executionInfo": {
     "elapsed": 605,
     "status": "ok",
     "timestamp": 1571791453815,
     "user": {
      "displayName": "Juan Esteban Cepeda Baena",
      "photoUrl": "https://lh3.googleusercontent.com/a-/AAuE7mDqOpLjDd-zk9tyUpqp8z-dzdJjUZGBprKMu-xftg=s64",
      "userId": "06764794568275068594"
     },
     "user_tz": 300
    },
    "id": "PMyHrhMCbSYI",
    "outputId": "1fd608a4-dc6d-4774-9dde-5159f7c03b41"
   },
   "outputs": [
    {
     "name": "stdout",
     "output_type": "stream",
     "text": [
      "['4-1-1110-0939-0.csv', '4-2-1110-1139-0.csv', 'M-1-1016-0940-0.csv', '1-1-0910-0920-0.csv', '1-3-0910-1613-0.csv', '1-2-0910-0947-0.csv']\n",
      "['4-1', '4-2', 'M-1', '1-1', '1-3', '1-2']\n"
     ]
    }
   ],
   "source": [
    "print(csv_files)\n",
    "print(sound_files)"
   ]
  },
  {
   "cell_type": "code",
   "execution_count": 0,
   "metadata": {
    "colab": {
     "base_uri": "https://localhost:8080/",
     "height": 397
    },
    "colab_type": "code",
    "executionInfo": {
     "elapsed": 11100,
     "status": "ok",
     "timestamp": 1571791960423,
     "user": {
      "displayName": "Juan Esteban Cepeda Baena",
      "photoUrl": "https://lh3.googleusercontent.com/a-/AAuE7mDqOpLjDd-zk9tyUpqp8z-dzdJjUZGBprKMu-xftg=s64",
      "userId": "06764794568275068594"
     },
     "user_tz": 300
    },
    "id": "JOQIIxPEbSnr",
    "outputId": "61a1d62c-8d05-4cca-d0bc-f8cbb5f04daa"
   },
   "outputs": [
    {
     "name": "stdout",
     "output_type": "stream",
     "text": [
      "176400\n",
      "[  0   0   0 ... 128 134 135]\n",
      "Convertion to DB ready!\n"
     ]
    },
    {
     "data": {
      "image/png": "[encoded data removed]",
      "text/plain": [
       "<Figure size 576x288 with 1 Axes>"
      ]
     },
     "metadata": {
      "tags": []
     },
     "output_type": "display_data"
    },
    {
     "name": "stdout",
     "output_type": "stream",
     "text": [
      "57.36915022584115\n",
      "      Noise\n",
      "0  57.36915\n"
     ]
    }
   ],
   "source": [
    "noise = pd.DataFrame()\n",
    "seconds = 0\n",
    "frame_duration = df2.iloc[0][3]\n",
    "\n",
    "for t in list(time_array):\n",
    "    if abs(frame_duration - t) < 0.00001:\n",
    "       array_pos = list(time_array).index(frame_duration)\n",
    "       break\n",
    "\n",
    "print(array_pos)\n",
    "print(input_signal[seconds:array_pos])\n",
    "\n",
    "audio_partition = input_signal[seconds:array_pos]\n",
    "\n",
    "# Compute dB of audio.\n",
    "db = toDB(audio_partition)\n",
    "print(\"Convertion to DB ready!\")\n",
    "    \n",
    "setup_graph(title='Voice 001', x_label='time (in seconds)', y_label='Decibels (dB)', fig_size=(8,4))\n",
    "_ = plt.plot(time_array[seconds : array_pos], db, c = \"red\")\n",
    "plt.show()\n",
    "\n",
    "# Print mean db.\n",
    "mean_db = getMean(db)\n",
    "print(mean_db)\n",
    "noise_levels(mean_db)\n",
    "\n",
    "noise = noise.append([mean_db], ignore_index = False)\n",
    "noise.columns=[\"Noise\"]\n",
    "\n",
    "print(noise)"
   ]
  },
  {
   "cell_type": "code",
   "execution_count": 0,
   "metadata": {
    "colab": {
     "base_uri": "https://localhost:8080/",
     "height": 34
    },
    "colab_type": "code",
    "executionInfo": {
     "elapsed": 602,
     "status": "ok",
     "timestamp": 1571791630672,
     "user": {
      "displayName": "Juan Esteban Cepeda Baena",
      "photoUrl": "https://lh3.googleusercontent.com/a-/AAuE7mDqOpLjDd-zk9tyUpqp8z-dzdJjUZGBprKMu-xftg=s64",
      "userId": "06764794568275068594"
     },
     "user_tz": 300
    },
    "id": "Zhx9ZsCKFKnb",
    "outputId": "8e1e4759-a55c-4eb6-cb1b-2ef39ebce968"
   },
   "outputs": [
    {
     "data": {
      "text/plain": [
       "4.0"
      ]
     },
     "execution_count": 39,
     "metadata": {
      "tags": []
     },
     "output_type": "execute_result"
    }
   ],
   "source": [
    "time_array[176400]"
   ]
  },
  {
   "cell_type": "code",
   "execution_count": 0,
   "metadata": {
    "colab": {
     "base_uri": "https://localhost:8080/",
     "height": 350
    },
    "colab_type": "code",
    "executionInfo": {
     "elapsed": 680,
     "status": "error",
     "timestamp": 1571790429088,
     "user": {
      "displayName": "Juan Esteban Cepeda Baena",
      "photoUrl": "https://lh3.googleusercontent.com/a-/AAuE7mDqOpLjDd-zk9tyUpqp8z-dzdJjUZGBprKMu-xftg=s64",
      "userId": "06764794568275068594"
     },
     "user_tz": 300
    },
    "id": "cAFiCpeliUJ5",
    "outputId": "a08c34c0-205a-4f61-bacb-0fef1a160762"
   },
   "outputs": [
    {
     "ename": "FileNotFoundError",
     "evalue": "ignored",
     "output_type": "error",
     "traceback": [
      "\u001b[0;31m---------------------------------------------------------------------------\u001b[0m",
      "\u001b[0;31mFileNotFoundError\u001b[0m                         Traceback (most recent call last)",
      "\u001b[0;32m<ipython-input-18-d9141d833729>\u001b[0m in \u001b[0;36m<module>\u001b[0;34m()\u001b[0m\n\u001b[1;32m      1\u001b[0m \u001b[0mpathFile\u001b[0m \u001b[0;34m=\u001b[0m  \u001b[0;34m\"/content/drive/My Drive/Noveno Semestre/Intro. Inteligencia Artificial/NoiseProject/Voz 001.wav\"\u001b[0m\u001b[0;34m\u001b[0m\u001b[0;34m\u001b[0m\u001b[0m\n\u001b[1;32m      2\u001b[0m \u001b[0;34m\u001b[0m\u001b[0m\n\u001b[0;32m----> 3\u001b[0;31m \u001b[0;34m(\u001b[0m\u001b[0msample_rate\u001b[0m\u001b[0;34m,\u001b[0m \u001b[0minput_signal\u001b[0m\u001b[0;34m)\u001b[0m \u001b[0;34m=\u001b[0m \u001b[0mscipy\u001b[0m\u001b[0;34m.\u001b[0m\u001b[0mio\u001b[0m\u001b[0;34m.\u001b[0m\u001b[0mwavfile\u001b[0m\u001b[0;34m.\u001b[0m\u001b[0mread\u001b[0m\u001b[0;34m(\u001b[0m\u001b[0mpathFile\u001b[0m\u001b[0;34m)\u001b[0m\u001b[0;34m\u001b[0m\u001b[0;34m\u001b[0m\u001b[0m\n\u001b[0m\u001b[1;32m      4\u001b[0m \u001b[0mtime_array\u001b[0m \u001b[0;34m=\u001b[0m \u001b[0mnp\u001b[0m\u001b[0;34m.\u001b[0m\u001b[0marange\u001b[0m\u001b[0;34m(\u001b[0m\u001b[0;36m0\u001b[0m\u001b[0;34m,\u001b[0m \u001b[0mlen\u001b[0m\u001b[0;34m(\u001b[0m\u001b[0minput_signal\u001b[0m\u001b[0;34m)\u001b[0m\u001b[0;34m/\u001b[0m\u001b[0msample_rate\u001b[0m\u001b[0;34m,\u001b[0m \u001b[0;36m1\u001b[0m\u001b[0;34m/\u001b[0m\u001b[0msample_rate\u001b[0m\u001b[0;34m)\u001b[0m\u001b[0;34m\u001b[0m\u001b[0;34m\u001b[0m\u001b[0m\n\u001b[1;32m      5\u001b[0m \u001b[0msetup_graph\u001b[0m\u001b[0;34m(\u001b[0m\u001b[0mtitle\u001b[0m\u001b[0;34m=\u001b[0m\u001b[0;34m'Voice 001'\u001b[0m\u001b[0;34m,\u001b[0m \u001b[0mx_label\u001b[0m\u001b[0;34m=\u001b[0m\u001b[0;34m'time (in seconds)'\u001b[0m\u001b[0;34m,\u001b[0m \u001b[0my_label\u001b[0m\u001b[0;34m=\u001b[0m\u001b[0;34m'Amplitude'\u001b[0m\u001b[0;34m,\u001b[0m \u001b[0mfig_size\u001b[0m\u001b[0;34m=\u001b[0m\u001b[0;34m(\u001b[0m\u001b[0;36m8\u001b[0m\u001b[0;34m,\u001b[0m\u001b[0;36m4\u001b[0m\u001b[0;34m)\u001b[0m\u001b[0;34m)\u001b[0m\u001b[0;34m\u001b[0m\u001b[0;34m\u001b[0m\u001b[0m\n",
      "\u001b[0;32m/usr/local/lib/python3.6/dist-packages/scipy/io/wavfile.py\u001b[0m in \u001b[0;36mread\u001b[0;34m(filename, mmap)\u001b[0m\n\u001b[1;32m    231\u001b[0m         \u001b[0mmmap\u001b[0m \u001b[0;34m=\u001b[0m \u001b[0;32mFalse\u001b[0m\u001b[0;34m\u001b[0m\u001b[0;34m\u001b[0m\u001b[0m\n\u001b[1;32m    232\u001b[0m     \u001b[0;32melse\u001b[0m\u001b[0;34m:\u001b[0m\u001b[0;34m\u001b[0m\u001b[0;34m\u001b[0m\u001b[0m\n\u001b[0;32m--> 233\u001b[0;31m         \u001b[0mfid\u001b[0m \u001b[0;34m=\u001b[0m \u001b[0mopen\u001b[0m\u001b[0;34m(\u001b[0m\u001b[0mfilename\u001b[0m\u001b[0;34m,\u001b[0m \u001b[0;34m'rb'\u001b[0m\u001b[0;34m)\u001b[0m\u001b[0;34m\u001b[0m\u001b[0;34m\u001b[0m\u001b[0m\n\u001b[0m\u001b[1;32m    234\u001b[0m \u001b[0;34m\u001b[0m\u001b[0m\n\u001b[1;32m    235\u001b[0m     \u001b[0;32mtry\u001b[0m\u001b[0;34m:\u001b[0m\u001b[0;34m\u001b[0m\u001b[0;34m\u001b[0m\u001b[0m\n",
      "\u001b[0;31mFileNotFoundError\u001b[0m: [Errno 2] No such file or directory: '/content/drive/My Drive/Noveno Semestre/Intro. Inteligencia Artificial/NoiseProject/Voz 001.wav'"
     ]
    }
   ],
   "source": [
    "# Load file.\n",
    "pathFile =  \"/content/drive/My Drive/Noveno Semestre/Intro. Inteligencia Artificial/NoiseProject/Voz 001.wav\"\n",
    "\n",
    "(sample_rate, input_signal) = scipy.io.wavfile.read(pathFile)\n",
    "time_array = np.arange(0, len(input_signal)/sample_rate, 1/sample_rate)\n",
    "setup_graph(title='Voice 001', x_label='time (in seconds)', y_label='Amplitude', fig_size=(8,4))\n",
    "_ = plt.plot(time_array, input_signal)"
   ]
  },
  {
   "cell_type": "code",
   "execution_count": 0,
   "metadata": {
    "colab": {},
    "colab_type": "code",
    "id": "mOgKMz99uFUL"
   },
   "outputs": [],
   "source": [
    "# Compute dB of audio.\n",
    "# https://stackoverflow.com/questions/2445756/how-can-i-calculate-audio-db-level\n",
    "if(max(input_signal) > abs(min(input_signal))): \n",
    "    max_amplitude = max(input_signal)\n",
    "else: \n",
    "    max_amplitude = abs(min(input_signal))\n",
    "input_signal_normalize = abs(input_signal / max_amplitude)\n",
    "\n",
    "db = list()\n",
    "for i in input_signal_normalize:\n",
    "    if i != 0: \n",
    "       db.append(abs(20 * math.log(abs(i), 10)) + 40)\n",
    "    else:\n",
    "       db.append(0)"
   ]
  },
  {
   "cell_type": "code",
   "execution_count": 0,
   "metadata": {
    "colab": {
     "base_uri": "https://localhost:8080/",
     "height": 295
    },
    "colab_type": "code",
    "executionInfo": {
     "elapsed": 1337,
     "status": "ok",
     "timestamp": 1571667897757,
     "user": {
      "displayName": "Juan Esteban Cepeda Baena",
      "photoUrl": "https://lh3.googleusercontent.com/a-/AAuE7mDqOpLjDd-zk9tyUpqp8z-dzdJjUZGBprKMu-xftg=s64",
      "userId": "06764794568275068594"
     },
     "user_tz": 300
    },
    "id": "taXnpx_jxfVb",
    "outputId": "89909147-99ac-49bd-c6e7-b31d10b77751"
   },
   "outputs": [
    {
     "data": {
      "image/png": "[encoded data removed]",
      "text/plain": [
       "<Figure size 576x288 with 1 Axes>"
      ]
     },
     "metadata": {
      "tags": []
     },
     "output_type": "display_data"
    }
   ],
   "source": [
    "(sample_rate, input_signal) = scipy.io.wavfile.read(pathFile)\n",
    "setup_graph(title='Voice 001', x_label='time (in seconds)', y_label='Decibels (dB)', fig_size=(8,4))\n",
    "_ = plt.plot(time_array, db, c = \"red\")"
   ]
  },
  {
   "cell_type": "code",
   "execution_count": 0,
   "metadata": {
    "colab": {
     "base_uri": "https://localhost:8080/",
     "height": 52
    },
    "colab_type": "code",
    "executionInfo": {
     "elapsed": 511,
     "status": "ok",
     "timestamp": 1571667899026,
     "user": {
      "displayName": "Juan Esteban Cepeda Baena",
      "photoUrl": "https://lh3.googleusercontent.com/a-/AAuE7mDqOpLjDd-zk9tyUpqp8z-dzdJjUZGBprKMu-xftg=s64",
      "userId": "06764794568275068594"
     },
     "user_tz": 300
    },
    "id": "RWBdCKWhuAoz",
    "outputId": "641701c1-2579-4649-9c8e-614cc8cd5e39"
   },
   "outputs": [
    {
     "name": "stdout",
     "output_type": "stream",
     "text": [
      "67.74380848042243\n"
     ]
    },
    {
     "data": {
      "text/plain": [
       "'Tráfico Ocupado, aspirador'"
      ]
     },
     "execution_count": 16,
     "metadata": {
      "tags": []
     },
     "output_type": "execute_result"
    }
   ],
   "source": [
    "mean_db = getMean(db)\n",
    "print(mean_db)\n",
    "noise_levels(mean_db)"
   ]
  },
  {
   "cell_type": "code",
   "execution_count": 0,
   "metadata": {
    "colab": {},
    "colab_type": "code",
    "id": "fKU_A0fEjonu"
   },
   "outputs": [],
   "source": [
    "!pip install AudioSegment"
   ]
  },
  {
   "cell_type": "code",
   "execution_count": 0,
   "metadata": {
    "colab": {},
    "colab_type": "code",
    "id": "X6CFs5CUkBjL"
   },
   "outputs": [],
   "source": [
    "\n",
    "# Packages reqd: pydub, ffmpeg\n",
    "\n",
    "# pydub - pip install pydub\n",
    "\n",
    "# ffmpeg: \n",
    "# sudo add-apt-repository ppa:kirillshkrogalev/ffmpeg-next\n",
    "# sudo apt-get update\n",
    "# sudo apt-get install ffmpeg\n",
    "\n",
    "## Load the m4a files (in M4a_files.tar.gz) \n",
    "\n",
    "!tar -xvzf M4a_files.tar.gz\n",
    "\n",
    "## Delete unwanted files (here: Tapping files)\n",
    "\n",
    "!find M4a_files/ -name 'tapping_results.*' -delete\n",
    "\n",
    "## Converting to wav\n",
    "# Using pydub\n",
    "\n",
    "# Convert all file extensions to m4a (if required)\n",
    "\n",
    "import os,sys\n",
    "folder = '/content/drive/My Drive/Noveno Semestre/Intro. Inteligencia Artificial/NoiseProject/'\n",
    "for filename in os.listdir(folder):\n",
    "       infilename = os.path.join(folder,filename)\n",
    "       if not os.path.isfile(infilename): continue\n",
    "       oldbase = os.path.splitext(filename)\n",
    "       newname = infilename.replace('.tmp', '.m4a')\n",
    "       output = os.rename(infilename, newname)\n",
    "\n",
    "\n",
    "      \n",
    "# Convert m4a extension files to wav extension files\n",
    "      \n",
    "import os\n",
    "import argparse\n",
    "\n",
    "from pydub import AudioSegment\n",
    "\n",
    "formats_to_convert = ['.m4a']\n",
    "\n",
    "for (dirpath, dirnames, filenames) in os.walk(\"/content/drive/My Drive/Noveno Semestre/Intro. Inteligencia Artificial/NoiseProject/\"):\n",
    "    for filename in filenames:\n",
    "        if filename.endswith(tuple(formats_to_convert)):\n",
    "\n",
    "            filepath = dirpath + '/' + filename\n",
    "            (path, file_extension) = os.path.splitext(filepath)\n",
    "            file_extension_final = file_extension.replace('.', '')\n",
    "            try:\n",
    "                track = AudioSegment.from_file(filepath,\n",
    "                        file_extension_final)\n",
    "                wav_filename = filename.replace(file_extension_final, 'wav')\n",
    "                wav_path = dirpath + '/' + wav_filename\n",
    "                print('CONVERTING: ' + str(filepath))\n",
    "                file_handle = track.export(wav_path, format='wav')\n",
    "                os.remove(filepath)\n",
    "            except:\n",
    "                print(\"ERROR CONVERTING \" + str(filepath))\n",
    "\n",
    "# Rename folder M4a_files as wav_files\n",
    "!mv M4a_files wav_files"
   ]
  },
  {
   "cell_type": "markdown",
   "metadata": {
    "colab_type": "text",
    "id": "rhEha_K5nUz9"
   },
   "source": [
    "Dibujar lineas en Folium\n",
    "\n",
    "https://github.com/jwass/folium/commit/865eda47ddcec937ab22fa39503cebb11a754a69#commitcomment-6469995\n",
    "\n",
    "\n",
    "Mapa ruido\n",
    "\n",
    "https://www.kaggle.com/daveianhickey/how-to-folium-for-maps-heatmaps-time-analysis\n",
    "\n",
    "Dibujar con indicadores: \n",
    "\n",
    "https://www.kdnuggets.com/2018/09/visualising-geospatial-data-python-folium.html"
   ]
  },
  {
   "cell_type": "code",
   "execution_count": 0,
   "metadata": {
    "colab": {
     "base_uri": "https://localhost:8080/",
     "height": 208
    },
    "colab_type": "code",
    "executionInfo": {
     "elapsed": 3018,
     "status": "ok",
     "timestamp": 1570022849937,
     "user": {
      "displayName": "Juan Daniel Gomez Rios",
      "photoUrl": "",
      "userId": "02143487681949799120"
     },
     "user_tz": 300
    },
    "id": "VXJzHRvqnVON",
    "outputId": "5ad78121-5fe8-4a8b-feef-0d3122b1b7f4"
   },
   "outputs": [
    {
     "name": "stdout",
     "output_type": "stream",
     "text": [
      "Requirement already satisfied: folium in /usr/local/lib/python3.6/dist-packages (0.8.3)\n",
      "Requirement already satisfied: requests in /usr/local/lib/python3.6/dist-packages (from folium) (2.21.0)\n",
      "Requirement already satisfied: numpy in /usr/local/lib/python3.6/dist-packages (from folium) (1.16.5)\n",
      "Requirement already satisfied: branca>=0.3.0 in /usr/local/lib/python3.6/dist-packages (from folium) (0.3.1)\n",
      "Requirement already satisfied: jinja2 in /usr/local/lib/python3.6/dist-packages (from folium) (2.10.1)\n",
      "Requirement already satisfied: six in /usr/local/lib/python3.6/dist-packages (from folium) (1.12.0)\n",
      "Requirement already satisfied: chardet<3.1.0,>=3.0.2 in /usr/local/lib/python3.6/dist-packages (from requests->folium) (3.0.4)\n",
      "Requirement already satisfied: certifi>=2017.4.17 in /usr/local/lib/python3.6/dist-packages (from requests->folium) (2019.9.11)\n",
      "Requirement already satisfied: urllib3<1.25,>=1.21.1 in /usr/local/lib/python3.6/dist-packages (from requests->folium) (1.24.3)\n",
      "Requirement already satisfied: idna<2.9,>=2.5 in /usr/local/lib/python3.6/dist-packages (from requests->folium) (2.8)\n",
      "Requirement already satisfied: MarkupSafe>=0.23 in /usr/local/lib/python3.6/dist-packages (from jinja2->folium) (1.1.1)\n"
     ]
    }
   ],
   "source": [
    "!pip install folium"
   ]
  },
  {
   "cell_type": "code",
   "execution_count": 0,
   "metadata": {
    "colab": {},
    "colab_type": "code",
    "id": "TT8HJQHTn-1E"
   },
   "outputs": [],
   "source": [
    "import folium"
   ]
  },
  {
   "cell_type": "code",
   "execution_count": 0,
   "metadata": {
    "colab": {
     "base_uri": "https://localhost:8080/",
     "height": 703
    },
    "colab_type": "code",
    "executionInfo": {
     "elapsed": 463,
     "status": "ok",
     "timestamp": 1571667976004,
     "user": {
      "displayName": "Juan Esteban Cepeda Baena",
      "photoUrl": "https://lh3.googleusercontent.com/a-/AAuE7mDqOpLjDd-zk9tyUpqp8z-dzdJjUZGBprKMu-xftg=s64",
      "userId": "06764794568275068594"
     },
     "user_tz": 300
    },
    "id": "u0vB1fGOnbHz",
    "outputId": "e1930820-122a-46c6-d1fe-a7214025f100"
   },
   "outputs": [
    {
     "data": {
      "text/html": [
       "<div style=\"width:100%;\"><div style=\"position:relative;width:100%;height:0;padding-bottom:60%;\"><iframe src=\"data:text/html;charset=utf-8;base64,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\" style=\"position:absolute;width:100%;height:100%;left:0;top:0;border:none !important;\" allowfullscreen webkitallowfullscreen mozallowfullscreen></iframe></div></div>"
      ],
      "text/plain": [
       "<folium.folium.Map at 0x7fd3be4b70b8>"
      ]
     },
     "execution_count": 20,
     "metadata": {
      "tags": []
     },
     "output_type": "execute_result"
    }
   ],
   "source": [
    "\n",
    "coordinates = [\n",
    "    [46.379,-740.819],\n",
    "    [46.379,-740.819],\n",
    "    [46.379,-740.819],\n",
    "    [46.379,-740.819],\n",
    "    [46.379,-740.819]\n",
    "]\n",
    "\n",
    "\n",
    "# Create the map and add the line\n",
    "m = folium.Map(location=[46.379, 740.819], zoom_start=12)\n",
    "#m.line(coordinates, line_color='#FF0000', line_weight=5)\n",
    "\n",
    "m"
   ]
  },
  {
   "cell_type": "code",
   "execution_count": 0,
   "metadata": {
    "colab": {
     "base_uri": "https://localhost:8080/",
     "height": 703
    },
    "colab_type": "code",
    "executionInfo": {
     "elapsed": 724,
     "status": "ok",
     "timestamp": 1571836404389,
     "user": {
      "displayName": "Juan Esteban Cepeda Baena",
      "photoUrl": "https://lh3.googleusercontent.com/a-/AAuE7mDqOpLjDd-zk9tyUpqp8z-dzdJjUZGBprKMu-xftg=s64",
      "userId": "06764794568275068594"
     },
     "user_tz": 300
    },
    "id": "zdpoHCqEnpR9",
    "outputId": "d8fc2cb3-56b0-4744-a288-0d0597648be0"
   },
   "outputs": [
    {
     "data": {
      "text/html": [
       "<div style=\"width:100%;\"><div style=\"position:relative;width:100%;height:0;padding-bottom:60%;\"><iframe src=\"data:text/html;charset=utf-8;base64,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\" style=\"position:absolute;width:100%;height:100%;left:0;top:0;border:none !important;\" allowfullscreen webkitallowfullscreen mozallowfullscreen></iframe></div></div>"
      ],
      "text/plain": [
       "<folium.folium.Map at 0x7fdda3537a58>"
      ]
     },
     "execution_count": 44,
     "metadata": {
      "tags": []
     },
     "output_type": "execute_result"
    }
   ],
   "source": [
    "from folium import plugins\n",
    "from folium.plugins import HeatMap\n",
    "import pandas as pd\n",
    "\n",
    "\n",
    "d = {'Latitude': [4.6379, 4.6378, 4.6377, 4.6376, 4.6375, 4.6356], 'Longitude': [-74.0819, -74.0818, -74.0817, -74.0816, -74.0815, -74.0845], 'Noise': [1,1,1,1,1,45]}\n",
    "df_acc = pd.DataFrame(data=d)\n",
    "\n",
    "map_hooray = folium.Map(location=[4.6365, -74.0815],\n",
    "                    zoom_start = 16)\n",
    "\n",
    "# Ensure you're handing it floats\n",
    "df_acc['Latitude'] = df_acc['Latitude'].astype(float)\n",
    "df_acc['Longitude'] = df_acc['Longitude'].astype(float)\n",
    "df_acc['Noise'] = df_acc['Noise'].astype(float)\n",
    "\n",
    "# Filter the DF for rows, then columns, then remove NaNs\n",
    "#heat_df = df_acc[df_acc['Speed_limit']=='30'] # Reducing data size so it runs faster\n",
    "#heat_df = heat_df[heat_df['Year']=='2007'] # Reducing data size so it runs faster\n",
    "heat_df = df_acc[['Latitude', 'Longitude','Noise']]\n",
    "heat_df = heat_df.dropna(axis=0, subset=['Latitude','Longitude','Noise'])\n",
    "\n",
    "# List comprehension to make out list of lists\n",
    "heat_data = [[row['Latitude'],row['Longitude'], row['Noise']] for index, row in heat_df.iterrows()]\n",
    "\n",
    "# Plot it on the map\n",
    "HeatMap(heat_data).add_to(map_hooray)\n",
    "\n",
    "# Display the map\n",
    "map_hooray"
   ]
  },
  {
   "cell_type": "code",
   "execution_count": 0,
   "metadata": {
    "colab": {},
    "colab_type": "code",
    "id": "IkI5ABBov04V"
   },
   "outputs": [],
   "source": []
  }
 ],
 "metadata": {
  "colab": {
   "machine_shape": "hm",
   "name": "NoiseProject.ipynb",
   "provenance": []
  },
  "kernelspec": {
   "display_name": "Python 3",
   "language": "python",
   "name": "python3"
  },
  "language_info": {
   "codemirror_mode": {
    "name": "ipython",
    "version": 3
   },
   "file_extension": ".py",
   "mimetype": "text/x-python",
   "name": "python",
   "nbconvert_exporter": "python",
   "pygments_lexer": "ipython3",
   "version": "3.7.3"
  }
 },
 "nbformat": 4,
 "nbformat_minor": 1
}
