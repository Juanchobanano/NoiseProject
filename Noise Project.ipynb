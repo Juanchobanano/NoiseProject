{
 "cells": [
  {
   "cell_type": "markdown",
   "metadata": {},
   "source": [
    "# Proyecto Ruido UNAL- Proyecto 2"
   ]
  },
  {
   "cell_type": "markdown",
   "metadata": {},
   "source": [
    "**Presentador por:**\n",
    "---\n",
    "\n",
    "---\n",
    "- **Juan Daniel Gomez Ríos.**\n",
    "- Estudiante de Ciencias de la Computación de la Universidad Nacional de Colombia.\n",
    "- Email: judgomezri@unal.edu.co\n",
    "- Google Site: \n",
    "\n",
    "---\n",
    "\n",
    "- **Juan Esteban Cepeda Baena.**\n",
    "- Estudiante de Ciencias de la Computación y Administración de Empresas de la Universidad Nacional de Colombia.\n",
    "- Email: jecepedab@unal.edu.co / juancepeda.gestion@gmail.com\n",
    "- Google Site: https://sites.google.com/view/juancepeda/\n",
    "\n",
    "---\n",
    "\n",
    "- **Carlos Ernesto Isaza Carvajal.**\n",
    "- Estudiante de Matemáticas de la Universidad Nacional de Colombia.\n",
    "- Email: ceisazac@unal.edu.co\n",
    "- Google Site:\n",
    "\n",
    "---\n",
    "\n",
    "- **Tania Valentina Delgado Castillo.**\n",
    "- Estudiante de Ciencias de la Computación de la Universidad Nacional de Colombia.\n",
    "- Email: tvcastillod@unal.edu.co\n",
    "- Google Site:"
   ]
  },
  {
   "cell_type": "markdown",
   "metadata": {},
   "source": [
    "**1. Introducción.**\n",
    "\n",
    "---\n",
    "Lorem ipsum dolor sit amet, consectetur adipiscing elit. Donec nisi justo, lobortis a libero vel, tristique rhoncus nulla. Aenean non arcu vel elit ultricies interdum vel ut eros. Aliquam erat volutpat. In molestie turpis vel neque ornare, vitae porttitor orci elementum. Etiam pulvinar enim lobortis nibh sagittis egestas.\n",
    "\n",
    "Lorem ipsum dolor sit amet, consectetur adipiscing elit. Donec nisi justo, lobortis a libero vel, tristique rhoncus nulla. Aenean non arcu vel elit ultricies interdum vel ut eros. Aliquam erat volutpat. In molestie turpis vel neque ornare, vitae porttitor orci elementum. Etiam pulvinar enim lobortis nibh sagittis egestas."
   ]
  },
  {
   "cell_type": "markdown",
   "metadata": {},
   "source": [
    "**2. Estado del Arte.**\n",
    "\n",
    "---\n",
    "Lorem ipsum dolor sit amet, consectetur adipiscing elit. Donec nisi justo, lobortis a libero vel, tristique rhoncus nulla. Aenean non arcu vel elit ultricies interdum vel ut eros. Aliquam erat volutpat. In molestie turpis vel neque ornare, vitae porttitor orci elementum. Etiam pulvinar enim lobortis nibh sagittis egestas. Cras eu condimentum lorem. Fusce auctor, orci dapibus ullamcorper pharetra, turpis ipsum tincidunt tellus, nec finibus arcu massa vitae ante. Aliquam non bibendum justo."
   ]
  },
  {
   "cell_type": "markdown",
   "metadata": {},
   "source": [
    "**3. Materiales y Métodos.**\n",
    "\n",
    "---\n",
    "Lorem ipsum dolor sit amet, consectetur adipiscing elit. Donec nisi justo, lobortis a libero vel, tristique rhoncus nulla. Aenean non arcu vel elit ultricies interdum vel ut eros. Aliquam erat volutpat. In molestie turpis vel neque ornare, vitae porttitor orci elementum. Etiam pulvinar enim lobortis nibh sagittis egestas. Cras eu condimentum lorem. Fusce auctor, orci dapibus ullamcorper pharetra, turpis ipsum tincidunt tellus, nec finibus arcu massa vitae ante. Aliquam non bibendum justo."
   ]
  },
  {
   "cell_type": "markdown",
   "metadata": {},
   "source": [
    "\n",
    "**3.1 Modelo numérico**: \n",
    "\n",
    "A. **Sensado**: Lorem ipsum dolor sit amet, consectetur adipiscing elit. Donec nisi justo, lobortis a libero vel, tristique rhoncus nulla. Aenean non arcu vel elit ultricies interdum vel ut eros. Aliquam erat volutpat. In molestie turpis vel neque ornare, vitae porttitor orci elementum. Etiam pulvinar enim lobortis nibh sagittis egestas. Cras eu condimentum lorem. Fusce auctor, orci dapibus ullamcorper pharetra, turpis ipsum tincidunt tellus, nec finibus arcu massa vitae ante. Aliquam non bibendum justo.\n",
    "\n",
    "<img src=\"https://gadgetsmalta.com/wp-content/uploads/2018/07/5_Best_Voice_Recording_Apps_For_Android_TechnoidHub.png\" width=\"350\" height = \"230\">\n",
    "<center><i>Figura X. Grabación de Audios. Recuperado de: <a href = \"https://gadgetsmalta.com\">Gadgetsmalta</a></i></center>\n",
    "\n",
    "\n",
    "B. **Procesamiento de los datos**: Lorem ipsum dolor sit amet, consectetur adipiscing elit. Donec nisi justo, lobortis a libero vel, tristique rhoncus nulla. Aenean non arcu vel elit ultricies interdum vel ut eros. Aliquam erat volutpat. In molestie turpis vel neque ornare, vitae porttitor orci elementum. Etiam pulvinar enim lobortis nibh sagittis egestas. Cras eu condimentum lorem. Fusce auctor, orci dapibus ullamcorper pharetra, turpis ipsum tincidunt tellus, nec finibus arcu massa vitae ante. Aliquam non bibendum justo.\n",
    "\n",
    "<img src=\"https://previews.123rf.com/images/scanrail/scanrail1501/scanrail150100033/35483452-creativo-abstracto-de-navegaci%C3%B3n-por-sat%C3%A9lite-gps-los-viajes-el-turismo-y-la-ubicaci%C3%B3n-de-la-empresa-de-plan.jpg\" width=\"350\" height = \"230\">\n",
    "<center><i>Figura X. Grabación de Audios. Recuperado de: <a href = \"https://previews.123rf.com\">Previews.123rf</a></i></center>\n",
    "\n",
    "C. **Clasificación de sonidos**: Lorem ipsum dolor sit amet, consectetur adipiscing elit. Donec nisi justo, lobortis a libero vel, tristique rhoncus nulla. Aenean non arcu vel elit ultricies interdum vel ut eros. Aliquam erat volutpat. In molestie turpis vel neque ornare, vitae porttitor orci elementum. Etiam pulvinar enim lobortis nibh sagittis egestas. Cras eu condimentum lorem. Fusce auctor, orci dapibus ullamcorper pharetra, turpis ipsum tincidunt tellus, nec finibus arcu massa vitae ante. Aliquam non bibendum justo.\n",
    "\n",
    "<img src=\"https://www.elnuevosiglo.com.co/sites/default/files/styles/noticia_interna/public/2019-04/oidos.jpg\" width=\"350\" height = \"230\">\n",
    "<center><i>Figura X. Clasificación de sonidos. Recuperado de: <a href = \"https://elnuevosiglo.com.co/articulos/04-2019-5-efectos-del-ruido-en-nuestra-salud\">El Nuevo Siglo</a></i></center>\n",
    "\n",
    "\n",
    "D. **Generación de Mapas de Ruido**: Lorem ipsum dolor sit amet, consectetur adipiscing elit. Donec nisi justo, lobortis a libero vel, tristique rhoncus nulla. Aenean non arcu vel elit ultricies interdum vel ut eros. Aliquam erat volutpat. In molestie turpis vel neque ornare, vitae porttitor orci elementum. Etiam pulvinar enim lobortis nibh sagittis egestas. Cras eu condimentum lorem. Fusce auctor, orci dapibus ullamcorper pharetra, turpis ipsum tincidunt tellus, nec finibus arcu massa vitae ante. Aliquam non bibendum justo.\n",
    "\n",
    "<img src=\"https://miro.medium.com/max/3652/1*_mwJWphhLKix_Yh-SySboQ.png\" width=\"350\" height = \"230\">\n",
    "<center><i>Figura X. Grabación de Audios. Recuperado de: <a href = \"https://towardsdatascience.com/data-101s-spatial-visualizations-and-analysis-in-python-with-folium-39730da2adf\">Spatial Visualizations and Anlysis in Python with Folium</a></i></center>\n",
    "\n"
   ]
  },
  {
   "cell_type": "markdown",
   "metadata": {},
   "source": [
    "**3.2 Herramientas computacionales:**\n",
    "\n",
    "Las herramientas computacionales o librerías utilizadas para el desarrollo del proyecto fueron: 1) Numpy, 2) Pandas, 3) Folium. A continuación se explica qué son y cómo fueron utilizadas:\n",
    "\n",
    "1. **Numpy**: es una de las librerías más importante de Python, encargada de incorporar funcionalidades de carácter matemático y vectorial. Para términos del proyecto, se utilizó para calcular la transformada de Fourier sobre una serie de funciones correspondientes a las ondas registradas por el acelerometro, cuyo análisis y procesamiento permitió establecer un estándar de comparación para el modelo de clasificación. En concreto, se utilizó el método numpy.fft.rfft, el cual computa la transformada de Fourier de una entrada de valores reales.\n",
    "\n",
    "2. **Pandas**: es una extensión de Numpy desarrollada para la manipulación y análisis de datos en Python. Ofrece estructuras de datos y operaciones para manipular tablas numéricas y series temporales. Pandas se utilizó para almacenar los vectores de características de las distintas imágenes del conjunto de entrenamiento y de prueba.\n",
    "\n",
    "3. **Folium**: es una librería que potencia la gestión y manipulación de datos en Python, permitiendo su visualización a través de un \"Leaflet map\". Esta API se utilizó para generar dinámicamente los mapas relacionados con el lugar en donde se detectaba la caída del dispositivo móvil asociado a la aplicación."
   ]
  },
  {
   "cell_type": "markdown",
   "metadata": {},
   "source": [
    "**4. Resultados.**\n",
    "\n",
    "---\n",
    "\n",
    "A continuación, se presenta el código del programa."
   ]
  },
  {
   "cell_type": "code",
   "execution_count": 61,
   "metadata": {},
   "outputs": [],
   "source": [
    "# Import libraries.\n",
    "import scipy.io.wavfile\n",
    "import os\n",
    "import numpy as np\n",
    "import math\n",
    "import pandas as pd\n",
    "import datetime\n",
    "import random\n",
    "import folium\n",
    "from folium import plugins\n",
    "from folium.plugins import HeatMap\n",
    "import calendar"
   ]
  },
  {
   "cell_type": "markdown",
   "metadata": {},
   "source": [
    "##### 4.1 Compensación.\n",
    "\n",
    "En esta sección, se calcularon los niveles de ruido que captan cada uno de los dispositivos móviles utilizados para la recolección de los datos. Para lograr el objetivo anterior, se emplearon los cuatro dispositivos móviles (utlizados para este proyecto) para grabar un mismo sonido durante el mismo tiempo. Paso seguido, se realizó el análisis de la señal, y se calculó el nivel de decibeles que reportaba cada celular. Sorprendetemente, ¡era casi el mismo para cualquier celular!"
   ]
  },
  {
   "cell_type": "code",
   "execution_count": 3,
   "metadata": {},
   "outputs": [
    {
     "data": {
      "text/plain": [
       "['Prueba-2.wav', 'prueba-3.wav', 'prueba-4.wav']"
      ]
     },
     "execution_count": 3,
     "metadata": {},
     "output_type": "execute_result"
    }
   ],
   "source": [
    "# Set path to files.\n",
    "pathFile = \"./Pruebas Compensacion\"\n",
    "sound_files = list()\n",
    "\n",
    "# Get CSV files.\n",
    "with os.scandir(pathFile) as entries:\n",
    "    for entry in entries:\n",
    "        sound_files.append(entry.name)\n",
    "sound_files"
   ]
  },
  {
   "cell_type": "code",
   "execution_count": 4,
   "metadata": {},
   "outputs": [],
   "source": [
    "# Mean function.\n",
    "def getMean(lista):\n",
    "    suma = 0\n",
    "    for i in lista: \n",
    "        suma += i\n",
    "    return suma/len(lista)\n",
    "\n",
    "# Convert amplitude to db.\n",
    "def getDB(input_signal):\n",
    "    INCREASE = 35\n",
    "\n",
    "    if(max(input_signal) > abs(min(input_signal))): \n",
    "        max_amplitude = max(input_signal)\n",
    "    else: \n",
    "        max_amplitude = abs(min(input_signal))\n",
    "    input_signal_normalize = abs(input_signal / max_amplitude)\n",
    "\n",
    "    db = list()\n",
    "    for i in input_signal_normalize:\n",
    "        if i != 0: \n",
    "            db.append(abs(20 * math.log(abs(i), 10)) + INCREASE)\n",
    "        else:\n",
    "            db.append(0)\n",
    "    return db\n",
    "\n",
    "# Get audio-gps author.\n",
    "def author(id):\n",
    "    if id == 0: return \"Juan Esteban\"\n",
    "    elif id == 1: return \"Carlos\"\n",
    "    elif id == 2: return \"Tania\"\n",
    "    elif id == 3: return \"Daniel\"\n",
    "    \n",
    "def toArray(matrix):\n",
    "    new_signal = list()\n",
    "    for i in range(0, len(matrix)):\n",
    "        new_signal.append(matrix[i][0] + matrix[i][1])\n",
    "    return new_signal"
   ]
  },
  {
   "cell_type": "code",
   "execution_count": 5,
   "metadata": {},
   "outputs": [
    {
     "name": "stdout",
     "output_type": "stream",
     "text": [
      "Resultados: \n",
      "Juan Esteban Decibels : 58.08575640203698\n",
      "Carlos Decibels : 58.02173670203892\n",
      "Tania Decibels : 58.39429498705403\n"
     ]
    }
   ],
   "source": [
    "print(\"Resultados: \")\n",
    "# Load audio file.\n",
    "for i in range(0, len(sound_files)):\n",
    "    (sample_rate, input_signal) = scipy.io.wavfile.read(pathFile + \"/\" + sound_files[i])\n",
    "    time_array = np.arange(0, len(input_signal)/sample_rate, 1/sample_rate)   \n",
    "    audio_duration_minutes = time_array[-1] / 60\n",
    "\n",
    "    #print(\"Sound ready! Duration in minutes: \", audio_duration_minutes)\n",
    "    try: \n",
    "        input_signal = toArray(input_signal) # Esta función sólo se ejecuta para el audio de Carlos.\n",
    "    except: \n",
    "        pass\n",
    "    print(author(i), \"Decibels :\", getMean(getDB(input_signal)))"
   ]
  },
  {
   "cell_type": "markdown",
   "metadata": {},
   "source": [
    "##### 4.2 Procesamiento de Datos.\n",
    "\n",
    " Lorem ipsum dolor sit amet, consectetur adipiscing elit. Donec nisi justo, lobortis a libero vel, tristique rhoncus nulla. Aenean non arcu vel elit ultricies interdum vel ut eros. Aliquam erat volutpat. In molestie turpis vel neque ornare, vitae porttitor orci elementum. Etiam pulvinar enim lobortis nibh sagittis egestas. Cras eu condimentum lorem. Fusce auctor, orci dapibus ullamcorper pharetra, turpis ipsum tincidunt tellus, nec finibus arcu massa vitae ante. Aliquam non bibendum justo."
   ]
  },
  {
   "cell_type": "code",
   "execution_count": 8,
   "metadata": {},
   "outputs": [],
   "source": [
    "# Noise Levels Messages.\n",
    "def noise_levels(db):\n",
    "    if(db <= 10): return \"Casi tranquilo, respirando\"\n",
    "    elif(db > 10 and db <= 20): return \"Hojas que aherrumbran, reloj que hace tictac\"\n",
    "    elif(db > 20 and db <= 30): return \"Susurro, zona rural tranquila\"\n",
    "    elif(db > 30 and db <= 40): return \"Biblioteca silenciosa, llamadas de aves\"\n",
    "    elif(db > 40 and db <= 50): return \"Oficina tranquila, lluvias moderadas\"\n",
    "    elif(db > 50 and db <= 60): return \"Conversacion normal\"\n",
    "    elif(db > 60 and db <= 70): return \"Trafico Ocupado, aspirador\"\n",
    "    elif(db > 70 and db <= 80): return \"Musica de la carga, despertadores\"\n",
    "    elif(db > 80 and db <= 90): return \"Carro diesel, cortacespedes\"\n",
    "    elif(db > 90 and db <= 100): return \"Motocicleta, secador de soplo\"\n",
    "    elif(db > 100 and db <= 110): return \"Conciertos, nino gritando\"\n",
    "    elif(db > 110 and db <= 120): return \"Umbral de dolor, trueno\"\n",
    "\n",
    "# Get audio-gps author.\n",
    "def author(id):\n",
    "    if id == 1: return \"Daniel\"\n",
    "    elif id == 2: return \"Juan Esteban\"\n",
    "    elif id == 3: return \"Carlos\"\n",
    "    elif id == 4: return \"Tania\"\n",
    "\n",
    "# Mean function.\n",
    "def getMean(lista):\n",
    "    suma = 0\n",
    "    for i in lista: \n",
    "        suma += i\n",
    "    return suma/len(lista)\n",
    "\n",
    "# Convert string to datetime.\n",
    "def convertToDatetime(date):\n",
    "    date = date.replace(\"T\", \" \").replace(\"Z\", \" \")[:19]\n",
    "    date = datetime.datetime.strptime(date, '%Y-%m-%d %H:%M:%S')\n",
    "    return date\n",
    "\n",
    "def addSecondsColumn(df):\n",
    "\n",
    "    df2 = pd.DataFrame()\n",
    "    for i in range(0, len(df) - 1):\n",
    "        d1 = convertToDatetime(df[\"time\"].iloc[i])\n",
    "        d2 = convertToDatetime(df[\"time\"].iloc[i+1])\n",
    "        diff = abs((d2-d1).seconds)\n",
    "        data = df.iloc[i]\n",
    "      \n",
    "        if diff <= 1000:\n",
    "            new_row = [d1 - datetime.timedelta(hours = 5), data[\"lat\"], data[\"lon\"], diff]\n",
    "            df2 = df2.append([new_row], ignore_index=True)\n",
    "\n",
    "    df2.columns=[\"time\", \"lat\", \"lon\", \"seconds\"]\n",
    "    return df2\n",
    "\n",
    "\n",
    "def getNoiseDataframe(df, time_array, input_signal, compensation):\n",
    "\n",
    "    # Initialize noise dataframe.\n",
    "    noise = pd.DataFrame()\n",
    "\n",
    "    # Seconds counter.\n",
    "    seconds = 0\n",
    "    \n",
    "    print(\"Procesando... puede tomar un tiempo.\")\n",
    "    \n",
    "    # Compute max amplitude.\n",
    "    if(max(input_signal) > abs(min(input_signal))): \n",
    "        max_amplitude = max(input_signal)\n",
    "    else: \n",
    "        max_amplitude = abs(min(input_signal))\n",
    "        \n",
    "    #input_signal_normalize = abs(input_signal / max_amplitude)\n",
    "    \n",
    "    # Process noise levels associate with time.\n",
    "    for i in range(0, len(df)): #len(df)\n",
    "\n",
    "        # Get audio partition.\n",
    "        audio_partition = input_signal[seconds]\n",
    "        audio_partition /= max_amplitude\n",
    "        #print(\"Audion partition: \", audio_partition)\n",
    "\n",
    "        # Compute dB of audio partition.\n",
    "        INCREASE = 40\n",
    "        decibeles = abs(20 * math.log(abs(i) + 1, 10)) + INCREASE + compensation\n",
    "        #print(decibeles)\n",
    "\n",
    "        # Append analysis \n",
    "        noise = noise.append([[decibeles/100, noise_levels(decibeles)]], ignore_index = True)\n",
    "\n",
    "        # Increase seconds.\n",
    "        seconds += df.iloc[i][3]\n",
    "\n",
    "    noise.columns=[\"Noise\", \"Description\"]\n",
    "    return noise\n",
    "\n",
    "def toArray(matrix):\n",
    "    new_signal = list()\n",
    "    for i in range(0, len(matrix)):\n",
    "        new_signal.append(matrix[i][0]) #+ matrix[i][1])\n",
    "        print(\"Progress: \", i/len(matrix)*100)\n",
    "    return new_signal"
   ]
  },
  {
   "cell_type": "code",
   "execution_count": null,
   "metadata": {},
   "outputs": [],
   "source": [
    "# Load audio & GPS files.\n",
    "pathFile =  \"./Almacenamiento de Audios y GPS/\"\n",
    "csv_files = list()\n",
    "sound_files = list()\n",
    "\n",
    "# Get CSV files.\n",
    "with os.scandir(pathFile) as entries:\n",
    "    for entry in entries:\n",
    "        if(entry.name.find(\"csv\") > 0):\n",
    "            csv_files.append(entry.name)\n",
    "            sound_files.append(entry.name[0:3])"
   ]
  },
  {
   "cell_type": "code",
   "execution_count": null,
   "metadata": {},
   "outputs": [],
   "source": [
    "for i in range(0, len(csv_files)):\n",
    "        \n",
    "    # Print author and info.\n",
    "    print(\"Autor: \", author(int(csv_files[i][0])))\n",
    "    print(csv_files[i])\n",
    "    print(sound_files[i])\n",
    "    \n",
    "    # Set gps and sound path file.\n",
    "    gpsPath = pathFile + csv_files[i] \n",
    "    soundPath = pathFile + sound_files[i] + \".wav\"\n",
    "    \n",
    "    # Get date, hour & compensation.\n",
    "    date = csv_files[i][4:8]\n",
    "    hour = csv_files[i][9:13]\n",
    "    compensation = int(csv_files[i][14])\n",
    "    print(\"Date: \", date, \", Hour: \", hour, \", Compensation: \", compensation)\n",
    "\n",
    "    try:\n",
    "        df = pd.read_csv(gpsPath, delimiter=\";\", error_bad_lines=False)\n",
    "        df = addSecondsColumn(df)\n",
    "    except:\n",
    "        df = pd.read_csv(gpsPath, delimiter=\",\", error_bad_lines=False)\n",
    "        df = addSecondsColumn(df)\n",
    "    #print(df.head(10))\n",
    "    \n",
    "    # Load audio file.\n",
    "    (sample_rate, input_signal) = scipy.io.wavfile.read(pathFile + sound_files[i] + \".wav\", mmap = True)\n",
    "    time_array = np.arange(0, len(input_signal)/sample_rate, 1/sample_rate)   \n",
    "    audio_duration_minutes = time_array[-1] / 60\n",
    "    print(\"Sound ready! Duration in minutes: \", audio_duration_minutes)\n",
    "    \n",
    "    # Converting input signal if neccesary.\n",
    "    if(author(int(csv_files[i][0])) == \"Carlos\"):\n",
    "        input_signal = input_signal[:,0]\n",
    "    \n",
    "    # Append noise dataframe to dataframe.\n",
    "    noise = getNoiseDataframe(df, time_array, input_signal, compensation)\n",
    "    print(\"Noise computation ready!\")\n",
    "    \n",
    "    df = df.join(noise)\n",
    "    print(\"CSV Saved!\")\n",
    "    df.to_csv(\"./Resultados/\" + csv_files[i].replace(\".csv\", \"\") + \"-results.csv\")\n",
    "    \n",
    "    print(\"------\")"
   ]
  },
  {
   "cell_type": "markdown",
   "metadata": {},
   "source": [
    "##### 4.3 Análisis de Datos.\n",
    "\n",
    " Lorem ipsum dolor sit amet, consectetur adipiscing elit. Donec nisi justo, lobortis a libero vel, tristique rhoncus nulla. Aenean non arcu vel elit ultricies interdum vel ut eros. Aliquam erat volutpat. In molestie turpis vel neque ornare, vitae porttitor orci elementum. Etiam pulvinar enim lobortis nibh sagittis egestas. Cras eu condimentum lorem. Fusce auctor, orci dapibus ullamcorper pharetra, turpis ipsum tincidunt tellus, nec finibus arcu massa vitae ante. Aliquam non bibendum justo."
   ]
  },
  {
   "cell_type": "code",
   "execution_count": 17,
   "metadata": {},
   "outputs": [],
   "source": [
    "# Load audio & GPS files.\n",
    "pathFile =  \"./Resultados/\"\n",
    "csv_files = list()\n",
    "\n",
    "# Get CSV files.\n",
    "with os.scandir(pathFile) as entries:\n",
    "    for entry in entries:\n",
    "        csv_files.append(entry.name)"
   ]
  },
  {
   "cell_type": "code",
   "execution_count": 18,
   "metadata": {},
   "outputs": [
    {
     "data": {
      "text/plain": [
       "['1-1-0910-0920-0-results.csv',\n",
       " '1-2-0910-0947-0-results.csv',\n",
       " '1-3-0910-1613-0-results.csv',\n",
       " '1-4-1017-1500-0-results.csv',\n",
       " '1-5-1018-1508-0-results.csv',\n",
       " '3-4-1010-1100-0-results.csv',\n",
       " '3-5-1510-1054-0-results.csv',\n",
       " '3-6-1710-1057-0-results.csv',\n",
       " '3-7-2110-0938-0-results.csv',\n",
       " '3-8-2210-1350-0-results.csv',\n",
       " '3-9-2310-1000-0-results.csv',\n",
       " '3-a-2410-1144-0-results.csv',\n",
       " '3-b-2410-1259-0-results.csv',\n",
       " '4-1-1110-0939-0-results.csv',\n",
       " '4-2-1110-1139-0-results.csv']"
      ]
     },
     "execution_count": 18,
     "metadata": {},
     "output_type": "execute_result"
    }
   ],
   "source": [
    "csv_files"
   ]
  },
  {
   "cell_type": "code",
   "execution_count": 33,
   "metadata": {},
   "outputs": [],
   "source": [
    "def generateMap(df):\n",
    "\n",
    "    # Initialize map.\n",
    "    lat = df.iloc[0][\"lat\"]\n",
    "    lon = df.iloc[0][\"lon\"]\n",
    "    map_hooray = folium.Map(location=[4.6378758, -74.0839653], zoom_start = 16)\n",
    "    \n",
    "    \n",
    "    # Get Data.\n",
    "    latitude = list()\n",
    "    longitude = list()\n",
    "    weight = list()\n",
    "\n",
    "    for i in range(0, len(df)):\n",
    "        latitude.append(float(str(df.iloc[i][\"lat\"]).replace(\",\",\".\")))\n",
    "        longitude.append(float(str(df.iloc[i][\"lon\"]).replace(\",\",\".\")))\n",
    "        weight.append(float(str(df.iloc[i][\"Noise\"]).replace(\",\",\".\")))\n",
    "\n",
    "    data = pd.DataFrame(data={\"Latitude\": latitude, \"Longitude\": longitude, \"Weight\":weight }) #\"Weight\":weight})\n",
    "    #folium.PolyLine(heat_data, maxval = 10, color=\"red\", weight=2.5, opacity=1).add_to(map_hooray)\n",
    "\n",
    "    #print(data)\n",
    "\n",
    "    # List comprehension to make out list of lists\n",
    "    heat_data = [[row['Latitude'],row['Longitude'], row[\"Weight\"]] for index, row in data.iterrows()] # , row[\"Weight\"]] \n",
    "    #print(heat_data)\n",
    "    \n",
    "    # Plot it on the map\n",
    "    HeatMap(heat_data).add_to(map_hooray)\n",
    "\n",
    "    #add markers\n",
    "    folium.Marker(heat_data[0][0:2], popup='<i>Inicio Trayecto. Hora:' +  df.iloc[0][\"time\"] + '</i>',).add_to(map_hooray)\n",
    "    folium.Marker(heat_data[-1][0:2], popup='<i>Fin Trayecto. Hora: ' +  df.iloc[-1][\"time\"] + '</i>',).add_to(map_hooray)\n",
    "\n",
    "    \n",
    "    # Display the map\n",
    "    return map_hooray"
   ]
  },
  {
   "cell_type": "code",
   "execution_count": 69,
   "metadata": {},
   "outputs": [
    {
     "name": "stdout",
     "output_type": "stream",
     "text": [
      "Digite index de dataframe a consultar: (< 15) 6\n",
      "Carlos\n",
      "3-5-1510-1054-0-results.csv\n"
     ]
    },
    {
     "data": {
      "text/html": [
       "<div style=\"width:100%;\"><div style=\"position:relative;width:100%;height:0;padding-bottom:60%;\"><iframe src=\"data:text/html;charset=utf-8;base64,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\" style=\"position:absolute;width:100%;height:100%;left:0;top:0;border:none !important;\" allowfullscreen webkitallowfullscreen mozallowfullscreen></iframe></div></div>"
      ],
      "text/plain": [
       "<folium.folium.Map at 0x1f667536cc0>"
      ]
     },
     "execution_count": 69,
     "metadata": {},
     "output_type": "execute_result"
    }
   ],
   "source": [
    "i = int(input(\"Digite index de dataframe a consultar: (< 15) \"))\n",
    "df = pd.read_csv(\"./Resultados/\" + csv_files[i])\n",
    "df = df.drop(\"Unnamed: 0\", axis = 1)\n",
    "print(author(int(csv_files[i][0])))\n",
    "print(csv_files[i])\n",
    "generateMap(df)"
   ]
  },
  {
   "cell_type": "markdown",
   "metadata": {},
   "source": [
    "##### 4.4 Simulaciones.\n",
    "\n",
    " Lorem ipsum dolor sit amet, consectetur adipiscing elit. Donec nisi justo, lobortis a libero vel, tristique rhoncus nulla. Aenean non arcu vel elit ultricies interdum vel ut eros. Aliquam erat volutpat. In molestie turpis vel neque ornare, vitae porttitor orci elementum. Etiam pulvinar enim lobortis nibh sagittis egestas. Cras eu condimentum lorem. Fusce auctor, orci dapibus ullamcorper pharetra, turpis ipsum tincidunt tellus, nec finibus arcu massa vitae ante. Aliquam non bibendum justo."
   ]
  },
  {
   "cell_type": "code",
   "execution_count": 39,
   "metadata": {},
   "outputs": [
    {
     "data": {
      "text/html": [
       "<div>\n",
       "<style scoped>\n",
       "    .dataframe tbody tr th:only-of-type {\n",
       "        vertical-align: middle;\n",
       "    }\n",
       "\n",
       "    .dataframe tbody tr th {\n",
       "        vertical-align: top;\n",
       "    }\n",
       "\n",
       "    .dataframe thead th {\n",
       "        text-align: right;\n",
       "    }\n",
       "</style>\n",
       "<table border=\"1\" class=\"dataframe\">\n",
       "  <thead>\n",
       "    <tr style=\"text-align: right;\">\n",
       "      <th></th>\n",
       "      <th>lat</th>\n",
       "      <th>lon</th>\n",
       "      <th>noise</th>\n",
       "    </tr>\n",
       "  </thead>\n",
       "  <tbody>\n",
       "    <tr>\n",
       "      <th>0</th>\n",
       "      <td>4.633601</td>\n",
       "      <td>-74.081609</td>\n",
       "      <td>72.0</td>\n",
       "    </tr>\n",
       "    <tr>\n",
       "      <th>1</th>\n",
       "      <td>4.633655</td>\n",
       "      <td>-74.081548</td>\n",
       "      <td>78.0</td>\n",
       "    </tr>\n",
       "    <tr>\n",
       "      <th>2</th>\n",
       "      <td>4.633791</td>\n",
       "      <td>-74.081264</td>\n",
       "      <td>70.0</td>\n",
       "    </tr>\n",
       "    <tr>\n",
       "      <th>3</th>\n",
       "      <td>4.633944</td>\n",
       "      <td>-74.080971</td>\n",
       "      <td>76.0</td>\n",
       "    </tr>\n",
       "    <tr>\n",
       "      <th>4</th>\n",
       "      <td>4.634123</td>\n",
       "      <td>-74.080641</td>\n",
       "      <td>76.0</td>\n",
       "    </tr>\n",
       "  </tbody>\n",
       "</table>\n",
       "</div>"
      ],
      "text/plain": [
       "        lat        lon  noise\n",
       "0  4.633601 -74.081609   72.0\n",
       "1  4.633655 -74.081548   78.0\n",
       "2  4.633791 -74.081264   70.0\n",
       "3  4.633944 -74.080971   76.0\n",
       "4  4.634123 -74.080641   76.0"
      ]
     },
     "execution_count": 39,
     "metadata": {},
     "output_type": "execute_result"
    }
   ],
   "source": [
    "pathFile = \"./coordenadas.csv\"\n",
    "df = pd.read_csv(pathFile, delimiter = \";\", decimal = \",\", float_precision = \"high\")\n",
    "df.columns = \"registro lat lon noise\".split()\n",
    "df = df[[\"lat\", \"lon\", \"noise\"]]\n",
    "df.dropna(inplace = True)\n",
    "df.head()"
   ]
  },
  {
   "cell_type": "code",
   "execution_count": 40,
   "metadata": {},
   "outputs": [],
   "source": [
    "def generateTimes(df, dt, end, step = 15):\n",
    "    step = datetime.timedelta(seconds = step)\n",
    "    result = []\n",
    "    contador = 0\n",
    "    \n",
    "    while dt < end and contador < len(df):\n",
    "        result.append(dt.strftime(\"%Y-%m-%d %H:%M:%S\"))\n",
    "        dt += step\n",
    "        contador += 1\n",
    "    df2 = pd.DataFrame(data = result, columns = [\"Date\"])\n",
    "    return df2\n",
    "\n",
    "def modifyCoordinates(df):\n",
    "    lat = df[\"lat\"].values\n",
    "    lon = df[\"lon\"].values\n",
    "    noise = df[\"noise\"].values\n",
    "    \n",
    "    #print(noise)\n",
    "    \n",
    "    for i in range(0, len(lat)):\n",
    "        r1 = random.uniform(0.000001, 0.000099)\n",
    "        r2 = random.uniform(0.000001, 0.000099)\n",
    "        signo = random.randint(1, 2)\n",
    "        if(signo == 1): signo = 1\n",
    "        else: signo = -1\n",
    "            \n",
    "        lat[i] = lat[i] + signo * r1\n",
    "        lon[i] = lon[i] + signo * r2\n",
    "        \n",
    "        r3 = random.uniform(0, 5)\n",
    "        noise[i] = (noise[i] + signo * r3)/10\n",
    "        \n",
    "    df2 = pd.DataFrame(data = lat, columns = [\"lat\"])\n",
    "    df3 = pd.DataFrame(data = lon, columns = [\"lon\"])\n",
    "    df4 = pd.DataFrame(data = noise, columns = [\"noise\"])\n",
    "    \n",
    "    \n",
    "    df_temp = df2.join(df3)\n",
    "    df_temp = df_temp.join(df4)\n",
    "\n",
    "    return df_temp"
   ]
  },
  {
   "cell_type": "code",
   "execution_count": 41,
   "metadata": {},
   "outputs": [],
   "source": [
    "days = [7, 8, 9, 10, 11]\n",
    "hours = [7, 9, 11, 14, 16, 18]\n",
    "df_array = list()\n",
    "\n",
    "for d in days:\n",
    "    df_copy = df.copy()\n",
    "    for h in hours: \n",
    "        dt = datetime.datetime(2019, 11, d, h, 0, 0)\n",
    "        end = datetime.datetime(2019, 11, d, h + 2, 0, 0)\n",
    "        dates = generateTimes(df, dt, end, 15)\n",
    "        df_copy = modifyCoordinates(df_copy)\n",
    "        df_copy = df_copy.join(dates)\n",
    "        df_copy.set_index(\"Date\", inplace = True)\n",
    "        df_array.append(df_copy)"
   ]
  },
  {
   "cell_type": "code",
   "execution_count": 42,
   "metadata": {},
   "outputs": [
    {
     "data": {
      "text/html": [
       "<div>\n",
       "<style scoped>\n",
       "    .dataframe tbody tr th:only-of-type {\n",
       "        vertical-align: middle;\n",
       "    }\n",
       "\n",
       "    .dataframe tbody tr th {\n",
       "        vertical-align: top;\n",
       "    }\n",
       "\n",
       "    .dataframe thead th {\n",
       "        text-align: right;\n",
       "    }\n",
       "</style>\n",
       "<table border=\"1\" class=\"dataframe\">\n",
       "  <thead>\n",
       "    <tr style=\"text-align: right;\">\n",
       "      <th></th>\n",
       "      <th>lat</th>\n",
       "      <th>lon</th>\n",
       "      <th>noise</th>\n",
       "    </tr>\n",
       "    <tr>\n",
       "      <th>Date</th>\n",
       "      <th></th>\n",
       "      <th></th>\n",
       "      <th></th>\n",
       "    </tr>\n",
       "  </thead>\n",
       "  <tbody>\n",
       "    <tr>\n",
       "      <th>2019-11-07 07:00:00</th>\n",
       "      <td>4.633613</td>\n",
       "      <td>-74.081636</td>\n",
       "      <td>1.138180</td>\n",
       "    </tr>\n",
       "    <tr>\n",
       "      <th>2019-11-07 07:00:15</th>\n",
       "      <td>4.633601</td>\n",
       "      <td>-74.081669</td>\n",
       "      <td>0.400907</td>\n",
       "    </tr>\n",
       "    <tr>\n",
       "      <th>2019-11-07 07:00:30</th>\n",
       "      <td>4.633808</td>\n",
       "      <td>-74.081175</td>\n",
       "      <td>0.727500</td>\n",
       "    </tr>\n",
       "    <tr>\n",
       "      <th>2019-11-07 07:00:45</th>\n",
       "      <td>4.633971</td>\n",
       "      <td>-74.080908</td>\n",
       "      <td>0.317612</td>\n",
       "    </tr>\n",
       "    <tr>\n",
       "      <th>2019-11-07 07:01:00</th>\n",
       "      <td>4.633985</td>\n",
       "      <td>-74.080796</td>\n",
       "      <td>0.588605</td>\n",
       "    </tr>\n",
       "  </tbody>\n",
       "</table>\n",
       "</div>"
      ],
      "text/plain": [
       "                          lat        lon     noise\n",
       "Date                                              \n",
       "2019-11-07 07:00:00  4.633613 -74.081636  1.138180\n",
       "2019-11-07 07:00:15  4.633601 -74.081669  0.400907\n",
       "2019-11-07 07:00:30  4.633808 -74.081175  0.727500\n",
       "2019-11-07 07:00:45  4.633971 -74.080908  0.317612\n",
       "2019-11-07 07:01:00  4.633985 -74.080796  0.588605"
      ]
     },
     "execution_count": 42,
     "metadata": {},
     "output_type": "execute_result"
    }
   ],
   "source": [
    "df_array[0].head()"
   ]
  },
  {
   "cell_type": "code",
   "execution_count": 66,
   "metadata": {},
   "outputs": [
    {
     "name": "stdout",
     "output_type": "stream",
     "text": [
      "Digite index de dataframe a consultar: (< 30) 26\n",
      "\n",
      "--- Fecha --- \n",
      "Monday\n",
      "Desde:  2019-11-11 11:00:00  a  2019-11-11 11:58:15\n"
     ]
    },
    {
     "data": {
      "text/html": [
       "<div style=\"width:100%;\"><div style=\"position:relative;width:100%;height:0;padding-bottom:60%;\"><iframe src=\"data:text/html;charset=utf-8;base64,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\" style=\"position:absolute;width:100%;height:100%;left:0;top:0;border:none !important;\" allowfullscreen webkitallowfullscreen mozallowfullscreen></iframe></div></div>"
      ],
      "text/plain": [
       "<folium.folium.Map at 0x1f6676d8eb8>"
      ]
     },
     "execution_count": 66,
     "metadata": {},
     "output_type": "execute_result"
    }
   ],
   "source": [
    "# Set map to draw.\n",
    "i = int(input(\"Digite index de dataframe a consultar: (< 30) \"))\n",
    "\n",
    "# Create map instance. \n",
    "map_hooray = folium.Map(location=[4.6378758, -74.0839653], zoom_start = 16)\n",
    "\n",
    "# Get Data. \n",
    "data = df_array[i].copy()\n",
    "\n",
    "# Generate path & add markers.\n",
    "path_data = [[row['lat'],row['lon']] for index, row in data.iterrows()] \n",
    "#folium.PolyLine(path_data, maxval = 10, color=\"red\", weight=2.5, opacity=1).add_to(map_hooray)\n",
    "folium.Marker(path_data[0], popup='<i>Inicio Trayecto. Hora:' +  data.index[0] + '</i>', icon=folium.Icon(icon='cloud')).add_to(map_hooray)\n",
    "folium.Marker(path_data[-1], popup='<i>Fin Trayecto. Hora: ' +  data.index[-1] + '</i>', icon=folium.Icon(color='red', icon='info-sign')).add_to(map_hooray)\n",
    "\n",
    "# Markers Path.\n",
    "#for d in range(0, len(path_data)):\n",
    "#    folium.Marker(path_data[d], popup = str(path_data[d]) + \" \" + str(d)) .add_to(map_hooray)\n",
    "\n",
    "# Generate heat map.\n",
    "heat_data = [[row['lat'],row['lon'], row[\"noise\"]] for index, row in data.iterrows()] # , row[\"Weight\"]] \n",
    "HeatMap(heat_data, name = \"Mapa de Ruido UNAL\", max_val = 1.4, radius = 25, min_opacity = 0.4).add_to(map_hooray)\n",
    " \n",
    "print(\"\")\n",
    "print(\"--- Fecha --- \")\n",
    "print(calendar.day_name[datetime.datetime.strptime(data.index[0], \"%Y-%m-%d %H:%M:%S\").weekday()])\n",
    "print(\"Desde: \", data.index[0], \" a \", data.index[-1])\n",
    "\n",
    "map_hooray"
   ]
  },
  {
   "cell_type": "markdown",
   "metadata": {},
   "source": [
    "#### 5. Conclusiones.\n",
    "\n",
    "1. Lorem ipsum dolor sit amet, consectetur adipiscing elit. Donec nisi justo, lobortis a libero vel, tristique rhoncus nulla. Aenean non arcu vel elit ultricies interdum vel ut eros. Aliquam erat volutpat. In molestie turpis vel neque ornare, vitae porttitor orci elementum. Etiam pulvinar enim lobortis nibh sagittis egestas. \n",
    "\n",
    "2. Lorem ipsum dolor sit amet, consectetur adipiscing elit. Donec nisi justo, lobortis a libero vel, tristique rhoncus nulla. Aenean non arcu vel elit ultricies interdum vel ut eros. Aliquam erat volutpat. In molestie turpis vel neque ornare, vitae porttitor orci elementum. Etiam pulvinar enim lobortis nibh sagittis egestas. \n",
    "\n",
    "3. Lorem ipsum dolor sit amet, consectetur adipiscing elit. Donec nisi justo, lobortis a libero vel, tristique rhoncus nulla. Aenean non arcu vel elit ultricies interdum vel ut eros. Aliquam erat volutpat. In molestie turpis vel neque ornare, vitae porttitor orci elementum. Etiam pulvinar enim lobortis nibh sagittis egestas. "
   ]
  },
  {
   "cell_type": "markdown",
   "metadata": {},
   "source": [
    "#### 6. Bibliografía.\n",
    "\n",
    "1. Lorem ipsum dolor sit amet, consectetur adipiscing elit. Donec nisi justo, lobortis a libero vel, tristique rhoncus nulla. Aenean non arcu vel elit ultricies interdum vel ut eros. Aliquam erat volutpat. In molestie turpis vel neque ornare, vitae porttitor orci elementum. Etiam pulvinar enim lobortis nibh sagittis egestas. \n",
    "\n",
    "2. Lorem ipsum dolor sit amet, consectetur adipiscing elit. Donec nisi justo, lobortis a libero vel, tristique rhoncus nulla. Aenean non arcu vel elit ultricies interdum vel ut eros. Aliquam erat volutpat. In molestie turpis vel neque ornare, vitae porttitor orci elementum. Etiam pulvinar enim lobortis nibh sagittis egestas. \n",
    "\n",
    "3. Lorem ipsum dolor sit amet, consectetur adipiscing elit. Donec nisi justo, lobortis a libero vel, tristique rhoncus nulla. Aenean non arcu vel elit ultricies interdum vel ut eros. Aliquam erat volutpat. In molestie turpis vel neque ornare, vitae porttitor orci elementum. Etiam pulvinar enim lobortis nibh sagittis egestas. "
   ]
  }
 ],
 "metadata": {
  "kernelspec": {
   "display_name": "Python 3",
   "language": "python",
   "name": "python3"
  },
  "language_info": {
   "codemirror_mode": {
    "name": "ipython",
    "version": 3
   },
   "file_extension": ".py",
   "mimetype": "text/x-python",
   "name": "python",
   "nbconvert_exporter": "python",
   "pygments_lexer": "ipython3",
   "version": "3.7.3"
  }
 },
 "nbformat": 4,
 "nbformat_minor": 2
}
