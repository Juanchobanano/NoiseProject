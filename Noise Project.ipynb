{
 "cells": [
  {
   "cell_type": "markdown",
   "metadata": {},
   "source": [
    "# Proyecto Ruido UNAL- Proyecto 2"
   ]
  },
  {
   "cell_type": "markdown",
   "metadata": {},
   "source": [
    "**Presentador por:**\n",
    "---\n",
    "\n",
    "---\n",
    "\n",
    "- **Juan Esteban Cepeda Baena.**\n",
    "- Estudiante de Ciencias de la Computación y Administración de Empresas de la Universidad Nacional de Colombia.\n",
    "- Email: jecepedab@unal.edu.co / juancepeda.gestion@gmail.com\n",
    "- Google Site: https://sites.google.com/view/juancepeda/\n",
    "\n",
    "---"
   ]
  },
  {
   "cell_type": "markdown",
   "metadata": {},
   "source": [
    "### 1. Introducción.\n",
    "\n",
    "---\n",
    "\n",
    "La construcción de mapas de ruido juega un papel fundamental para la adopción de planes de acción para prevenir y reducir el ruido ambiental, en especial, cuando los niveles de exposición pueden ser nocivos en la salud humana; generando enfermedades (producidas por el estrés y la ansiedad) y problemas auditivos (pérdida de la capacidad auditiva debido a los altos niveles de exposición al ruido), lo que resulta en una disminución de la calidad de vida de las personas. Este fenómeno no sólo afecta a los seres humanos, como lo demuestra el estudio realizado por la Asociación Bogotana de Ornitología en 2012, en el cual señala una grave disminución de las aves copetonas en la ciudad de Bogotá debido a que los altos niveles de ruido no le permitía a las hembras escuchar el canto de los machos (el cual utilizan los machos para atraer a las hembras) (El Tiempo, 13 de febrero 2012).\n",
    "\n",
    "El presente trabajo aborda la conceptualización, metodología y desarrollo de una serie de mapas de ruido de la Universidad Nacional de Colombia: Sede Bogotá, en donde se identifican las zonas con mayor ruido en el campus, dando cabida al desarrollo de futuros planes de acción para su control y disminución. Lo anterior resulta de gran importancia, pues autores como Guerrero (2008) enfatizan sobre los efectos negativos del ruido sobre la concentración, la cual es un proceso psíquico fundamental para el proceso de aprendizaje. Adicionalmente, se presenta un algorítmo de aprendizaje de máquina (el cual utiliza el Modelo K-vecinos más cercanos), capaz de distinguir entre ruido y no-ruido, lo cual permite categorizar de una manera más acertada las muestras de sonido tomadas en la universidad."
   ]
  },
  {
   "cell_type": "markdown",
   "metadata": {},
   "source": [
    "### 2. Estado del Arte.\n",
    "\n",
    "---\n",
    "En los últimos años se han llevado a cabo numerosos proyectos alrededor de esta problemática, en particular, se tomó como referencia el proyecto [Sounds Of New York City (SONYC)](https://wp.nyu.edu/sonyc/), el cual inició en 2015 y actualmente sigue en desarrollo. El objetivo del proyecto es comprender el comportamiento del ruido en diversos ambientes de la ciudad de Nueva York con el fin de identificar y mitigar las fuentes de contaminación acústica, esto con ayuda de una red distribuida de sensores y la participación de ciudadanos para generar informes de ruido.\n",
    "\n",
    "Algunos aspectos importantes que se desarrollan en ese proyecto son: el desarrollo de una plataforma de detección inteligente que permite el monitoreo en tiempo real del ruido, una descripción precisa de la clasificación de sonidos y el análisis de ruido a gran escala por medio de redes neuronales. Con la información obtenida se busca generar medidas de mitigación de ruido, además de intervención en zonas de manera estratégica. Finalmente, elementos como el aprendizaje automático, visualización y análisis de datos fueron importantes para el desarrollo del proyecto.\n",
    "\n",
    "Por otro lado, en Colombia se realizó una propuesta de [Diseño de red de vigilancia de ruido en los municipios del área metropolitana del Valle de Aburrá](http://www.scielo.org.co/scielo.php?script=sci_arttext&pid=S1692-33242009000100003). Esta propuesta fue hecha con el objetivo de evaluar zonas críticas que presentan altos niveles de ruido y perjudican ciertas zonas residenciales. Adicionalmente se contaba con fuentes de información como estudios previos y mapas acústicos suministrados por los planes de ordenamiento territorial (POT) del área metropolitana. Ahora bien: también es importante mencionar que la Secretaría Distrital de Ambiente en Bogotá cuenta con un sistema de monitoreo de ruido de las operaciones aéreas del Aeropuerto Internacional El Dorado. El [Sistema Automático de Monitoreo de Ruido (GEMS Global Environment Management System)](http://ambientebogota.gov.co/ruido) cuenta con tres estaciones ubicadas en diferentes puntos de la ciudad y los datos recolectados corresponden a registros de los niveles de presión sonora(dB), datos de radar y meteorológicos.\n",
    "\n",
    "<img src=\"https://s18798.pcdn.co/sonyc/wp-content/uploads/sites/2188/2015/06/CPS_diagram-1024x685.png\"\n",
    " width=\"350\" height = \"230\">\n",
    "<center><i>Figura X. Proyecto SONYC. Recuperado de: <a href = \"https://wp.nyu.edu/sonyc/\">Sonyc: Sounds of New York City</a></i></center>"
   ]
  },
  {
   "cell_type": "markdown",
   "metadata": {},
   "source": [
    "### 3. Materiales y Métodos.\n",
    "\n",
    "---\n",
    "A continuación, se describe la metodología de sensado, almacenamiento, procesamiento y análisis de los datos que se llevó cabo para construir una serie de mapas de ruido de la Universidad Nacional de Colombia: Sede Bogotá. Adicionalmente, se presenta el método que se utilizó para desarrollar y entrenar un agente de inteligencia artificial capaz de clasificar un audio entre ruido y no-ruido.\n",
    "\n",
    "**A. Sensado**: Este proceso consistió en definir la metodología y procedimiento para llevar a cabo las grabaciones de audio junto con el registro de las ubicaciones GPS. A continuación, se describe detalladamente cada aspecto del sensado:\n",
    "\n",
    "***I) Aplicaciones para tomar los registros***: Para realizar las grabaciones de audio y registrar las ubicaciones GPS del recorrido, se utilizaron las siguientes aplicaciones:\n",
    "\n",
    "1.\t[GPS Logger](https://play.google.com/store/apps/details?id=com.mendhak.gpslogger&hl=es_419): Esta aplicación permite realizar registros de la ubicación GPS en distintos formatos (csv, GeoJson, etc), el cual, luego puede ser subido a google drive u otras aplicaciones de almacenamiento. Su principal ventaja es que sigue ejecutándose aun cuando el celular se encuentra bloqueado, i.e, corre en el background. Se guardaron las localizaciones en formato CSV, con un intervalo de registro de 15 segundos (toma de muestras).\n",
    "\n",
    "2.\t [Voice Recorder](https://play.google.com/store/apps/details?id=com.splendapps.vox&hl=en_US):\n",
    "Esta aplicación permite realizar grabaciones del ambiente. Además, permite compartir los archivos de audio por medio de Google Drive, así como correo, whatsapp, etc. Los archivos de audio se guardaron en formato WAV.\n",
    "\n",
    "***II) Proceso de grabación***: Con el objetivo de estandarizar el nombre de los archivos de audio y de las ubicaciones GPS, se definió el siguiente formato: \n",
    "\n",
    "1. Nombre Archivos GPS (i.e, los archivos CSV): IDCelular-No.deGrabacion.\n",
    "2. Nombre Archivos de audio: IDCelular-No.deGrabacion-Día-HoraExacta\n",
    "\n",
    "En donde, \n",
    "\n",
    "a. IDCelular: Es un número de identificación único para cada uno de los celulares. Por ejemplo, IDCelular: 21. Así, dado el código de un archivo, se sabe qué persona lo tomó.\n",
    "\n",
    "b. No.deGrabación: Como su nombre lo indica, corresponde al número de grabación. Por ejemplo: No.deGrabación: 2.\n",
    "\n",
    "c. Día: El formato que se utilizó para registrar la fecha de los archivos fue Día/Mes, a manera de ejemplo, se registrará como 0710 (i.e 7/10 [7 de Octubre]; si el día era menor a 10, se colocaba un 0 al inicio, es decir, si el día es 7, se registraba como 07). Esto con el fin de analizar el comportamiento del mapa de ruido a lo largo de la semana.\n",
    "\n",
    "d. HoraExacta: Corresponde a la hora exacta en que se graba el audio en horas militares. A manera de ejemplo, considere HoraExacta: 0957 (i.e 9:57), ó HoraExacta: 2353 (i.e 23:53). \n",
    "\n",
    "<img src=\"https://gadgetsmalta.com/wp-content/uploads/2018/07/5_Best_Voice_Recording_Apps_For_Android_TechnoidHub.png\" width=\"350\" height = \"230\">\n",
    "<center><i>Figura X. Grabación de Audios. Recuperado de: <a href = \"https://gadgetsmalta.com\">Gadgetsmalta</a></i></center>\n",
    "\n",
    "***III) Proceso de Almacenamiento***: Los archivos CSV (GPS) y los archivos de audio se cargaron a la siguiente dirección de Google Drive: https://drive.google.com/drive/folders/1uabmwSJh3pQK10Y7Hm2TrlTVu6xsI6Hi?usp=sharing.\n",
    "\n",
    "***IV) Estandarización de audios***: Inicialmente, se tuvo la preocupación de que los distintos tipos de hardware del micrófono integrados a los celulares pudieran generar una distorsión en la comparabilidad de las muestras obtenidas, puesto a que existía la posibilidad de que algunos celulares pudiesen captar una mayor cantidad de ruido que otros. Para solucionar este problema, se procedió a grabar el mismo sonido ambiente simultáneamente con los cuatro dispositivos utilizados para realizar los mapas de ruido. Lo anterior, con el objetivo de calcular el nivel de ruido captado por cada celular, y definir planes de acción de acuerdo con las diferencias que pudiesen existir. Este proceso se discute más adelanta en la sección \"Compensación\".\n",
    "\n",
    "**B. Procesamiento de Datos**: En esta etapa se definieron las reglas para asociar cada uno de los archivos de audio con su respectivo recorrido (archivo GPS): Los archivos que contienen las ubicaciones GPS consisten en 3 columnas, a saber: Fecha, Latitud y Longitud. Así, lo que se quería, era asociar a cada fila del registro GPS, dos columnas adicionales: Ruido y Tipo de Ruido. Una vez construidas las tablas con las columnas adicionales, se procedía a guardarlas como archivos CSV en la carpeta \"Resultados\". Este algoritmo se describe detalladamente en la sección \"Procesamiento de Datos\".\n",
    "\n",
    "**C. Clasificación de audios**: Para abordar el problema de clasificación de audios (es decir, reconocer si un audio es un SONIDO o es un RUIDO), se utilizó la \"coherencia\" como la medida estadística base para el desarrollo del clasificador. La coherencia es una medida estadística utilizada para examinar la relación entre dos señales o dos conjuntos de datos. Adicionalmente, se emplea usualmente para estimar la transfencia de poder entre el input y el ouput de un sistema lineal. Así, la coherencia entre dos señales $x(t)$ y $y(t)$ es una función definida como: $C_{xy}(f) = {\\frac{{\\mid{ G_{xy}(f) }\\mid}^2}{G_{xx}(f)G_{yy}(f)}}$, donde $G_{xy}(f)$ es la densidad espectral cruzada entre $x$ y $y$ y $G_{xx}(f)$ y $G_{yy}(f)$ es la densidad autoespectral de $x$ y $y$ respectivamente. Así, se utilizó el método K-vecinos más cercanos o en inglés \"k-nearest neighbors (k-nn)\", en donde los objetos a comparar son las señales, y la distancia entre ellas se definió como la \"coherencia\" entre ellas y un nuevo input. Este modelo, a partir de una estimación basada en un conjunto de entrenamiento, permite calcular la función de densidad $F(x/Cj)$ de las predictoras $x$ por cada clase $Cj$ , es decir, estima el valor de la función de densidad de probabilidad de que un elemento $x$ pertenezca a la clase $Cj$.\n",
    "\n",
    "<img src=\"https://www.houseofbots.com/images/news/2542/cover.png\" width=\"400\" height = \"230\">\n",
    "<center><i>Figura X. Modelo K-vecinos más cercanos. Recuperado de: <a href = \"https://houseofbots.com\">House of Bots</a></i></center>\n",
    "\n",
    "\n",
    "**D. Generación de Mapas de Ruido**: Con base en las tablas generadas en la etapa de Procesamiento de Datos, se utilizó la librería Folium para generar los mapas de ruido asociados a las tablas. En particular, el plugin utilizado fue \"HeatMap\", el cual recibe como parámetro una serie de 3-tuplas, las cuales están constituídas por: (Latitud, Longitud, Peso), en donde el peso corresponde al nivel de ruido registrado en la posición GPS. Adicionalmente, con base en los resultados de los datos recolectados, se realizó una serie de simulaciones de mapas de ruido de la universidad, las cuales corresponden a los niveles de ruidos que se generan de lunes a viernes, en los horarios: 7:00 a 9:00, 9:00 a 11:00, 11:00 a 13:00, 14:00 a 16:00 y 16:00 a 18:00. Lo anterior, se presenta más adelante.\n",
    "\n",
    "<img src=\"https://miro.medium.com/max/3652/1*_mwJWphhLKix_Yh-SySboQ.png\" width=\"350\" height = \"230\">\n",
    "<center><i>Figura X. Grabación de Audios. Recuperado de: <a href = \"https://towardsdatascience.com/data-101s-spatial-visualizations-and-analysis-in-python-with-folium-39730da2adf\">Spatial Visualizations and Anlysis in Python with Folium</a></i></center>\n",
    "\n"
   ]
  },
  {
   "cell_type": "markdown",
   "metadata": {},
   "source": [
    "Las herramientas computacionales o librerías utilizadas para el desarrollo del proyecto fueron: 1) Numpy, 2) Pandas, 3) Folium, 4) Math, entre otras. A continuación se explica qué son y cómo fueron utilizadas:\n",
    "\n",
    "**1. Numpy**: es una de las librerías más importante de Python, encargada de incorporar funcionalidades de carácter matemático y vectorial. \n",
    "\n",
    "**2. Pandas**: es una extensión de Numpy desarrollada para la manipulación y análisis de datos en Python. Ofrece estructuras de datos y operaciones para manipular tablas numéricas y series temporales. Pandas se utilizó para construir las tablas ruido.\n",
    "\n",
    "**3. Folium**: es una librería que potencia la gestión y manipulación de datos en Python, permitiendo su visualización a través de un \"Leaflet map\". Esta API se utilizó para generar los mapas de ruido de la Universidad Nacional de Colombia: Sede Bogotá.\n",
    "\n",
    "**4. Math**: corresponde a una librería de Python que provee acceso a las funciones matemáticas definidas por el estándar de C. Esta librería se utilizó para calcular las distancias entre dos partículas antes de una colisión, y para calcular el ángulo de incidencia de las mismas al momento de su encuentro. Entre las funciones utilizadas se encuentra: sqrt, degrees, asin, radians, entre otros."
   ]
  },
  {
   "cell_type": "markdown",
   "metadata": {},
   "source": [
    "### 4. Resultados.\n",
    "\n",
    "---\n",
    "\n",
    "A continuación, se presenta el código del programa, el cual se distribuye en cuatro secciones, a saber: Compensación, Clasificación de audios, Procesamiento de Datos, Análisis de Datos y Simulaciones. En cada una de ellas, se explica el objetivo de la sección, y los algoritmos desarrollados para resolver cada problema."
   ]
  },
  {
   "cell_type": "code",
   "execution_count": 2,
   "metadata": {},
   "outputs": [],
   "source": [
    "# Import libraries.\n",
    "import os\n",
    "import numpy as np\n",
    "import math\n",
    "import pandas as pd\n",
    "import datetime\n",
    "import random\n",
    "import calendar\n",
    "import time\n",
    "\n",
    "import folium\n",
    "from folium import plugins\n",
    "from folium.plugins import HeatMap\n",
    "\n",
    "import scipy\n",
    "import scipy.io.wavfile\n",
    "from scipy import signal\n",
    "from playsound import playsound\n",
    "\n",
    "import warnings\n",
    "warnings.filterwarnings(\"ignore\")\n",
    "\n",
    "import matplotlib.pyplot as plt\n",
    "%matplotlib inline"
   ]
  },
  {
   "cell_type": "markdown",
   "metadata": {},
   "source": [
    "**4.1 Compensación.**\n",
    "\n",
    "---\n",
    "Como se mencionó previamente, el objetivo de esta sección era determinar una plan de acción para estandarizar los niveles de ruido captados por cada celular. Así, para solucionar este problema, se procedió a grabar el mismo sonido ambiente simultáneamente con los cuatro dispositivos utilizados para llevar a cabo el sensado. Lo anterior, con el objetivo de calcular el nivel de ruido captado por cada celular. A continuación, se presentan los resultados de este ejercicio y se explican las funciones utilizadas.\n",
    "\n",
    "\n",
    "$4.1.1. getMean(array)$: Esta función recibe como parámetro una lista de valores, y retorna el promedio de los valores contenidos en ella.\n",
    "\n",
    "$4.1.2. getDB(audio_{signal})$: Esta función recibe como parámetro una señal de audio, sobre la cual se calculan los decibeles asociados al sonido. Para ello, primero se normaliza la señal, dividiendo todos los valores contenidos en la lista entre el máximo valor de la lista. Paso seguido, se aplica la función $f(x) = abs(20 * log_{10}(x))$ sobre los valores computados, i.e, los decibeles. Finalmente, se retorna una lista de decibeles.\n",
    "\n",
    "$4.1.3. getAurhot(id)$: Esta función recibe por parámetro un número (del 0 al 3), y retorna el nombre de uno de los integrantes, dependiendo de la identificación de su celular."
   ]
  },
  {
   "cell_type": "code",
   "execution_count": 18,
   "metadata": {},
   "outputs": [],
   "source": [
    "# Mean function.\n",
    "def getMean(lista):\n",
    "    suma = 0\n",
    "    for i in lista: \n",
    "        suma += i\n",
    "    return suma/len(lista)\n",
    "\n",
    "# Convert amplitude to db.\n",
    "def getDB(input_signal):\n",
    "    INCREASE = 35\n",
    "\n",
    "    if(max(input_signal) > abs(min(input_signal))): \n",
    "        max_amplitude = max(input_signal)\n",
    "    else: \n",
    "        max_amplitude = abs(min(input_signal))\n",
    "    input_signal_normalize = abs(input_signal / max_amplitude)\n",
    "\n",
    "    db = list()\n",
    "    for i in input_signal_normalize:\n",
    "        if i != 0: \n",
    "            db.append(abs(20 * math.log(abs(i), 10)) + INCREASE)\n",
    "        else:\n",
    "            db.append(0)\n",
    "    return db\n",
    "\n",
    "# Get audio-gps author.\n",
    "def getAuthor(id):\n",
    "    if id == 2: return \"Juan Esteban\"\n",
    "    elif id == 3: return \"Carlos\"\n",
    "    elif id == 4: return \"Tania\"\n",
    "    elif id == 1: return \"Daniel\""
   ]
  },
  {
   "cell_type": "code",
   "execution_count": 20,
   "metadata": {},
   "outputs": [
    {
     "name": "stdout",
     "output_type": "stream",
     "text": [
      "['Prueba-2.wav', 'prueba-3.wav', 'prueba-4.wav']\n",
      "Resultados: \n",
      "Daniel Decibels : 58.08575640203698\n",
      "Juan Esteban Decibels : 57.88565204826785\n",
      "Carlos Decibels : 58.39429498705403\n"
     ]
    }
   ],
   "source": [
    "# Set path to files.\n",
    "pathFile = \"./Pruebas Compensacion\"\n",
    "sound_files = list()\n",
    "\n",
    "# Get CSV files.\n",
    "with os.scandir(pathFile) as entries:\n",
    "    for entry in entries:\n",
    "        sound_files.append(entry.name)\n",
    "print(sound_files)\n",
    "\n",
    "print(\"Resultados: \")\n",
    "# Load audio file.\n",
    "for i in range(0, len(sound_files)):\n",
    "    (sample_rate, input_signal) = scipy.io.wavfile.read(pathFile + \"/\" + sound_files[i])\n",
    "    time_array = np.arange(0, len(input_signal)/sample_rate, 1/sample_rate)   \n",
    "    audio_duration_minutes = time_array[-1] / 60\n",
    "    try: \n",
    "        input_signal = input_signal[:,0]\n",
    "    except: \n",
    "        pass\n",
    "    print(getAuthor(i + 1), \"Decibels :\", getMean(getDB(input_signal)))"
   ]
  },
  {
   "cell_type": "markdown",
   "metadata": {},
   "source": [
    "Como se observa, los niveles de ruido captados por cada celular son muy similares, por lo cual se descartó tener que definir un plan de acción para estandarizar el micrófono de los dispositivos móviles. Con esto en mente, procedemos a trabajar en la clasificación de sonidos."
   ]
  },
  {
   "cell_type": "markdown",
   "metadata": {},
   "source": [
    "**4.2 Clasificación de Audios.**\n",
    "\n",
    "---\n",
    "Como se presentó previamente, el objetivo de esta sección es construir un clasificador que distinga un sonido de un ruido. Lo anterior, con base en una medida estadística utilizada en el procesamiento de señales conocida como la \"coherencia\" ($𝐶{xy}(𝑓), donde $x$ y $y$ son señales)$. A continuación, se explica el funcionamiento de la clase $NearestNeighbors$:\n",
    "\n",
    "4.2.1 $NearestNeighbors()$: Para el desarrollo del clasificador, se partió de la construcción de una clase. Para inicializar esta clase, es necesario indicar tres parámetros, a saber: $X$, $Y$ y $neighbors$, donde $X$ corresponde a una lista con el nombre de los audios, $Y$ corresponde a una lista con las categorías de los audios contenidos en $X$ y $neighbors$ es la cantidad de los $k$-vecinos más cercanos a encontrar por el clasificador.\n",
    "\n",
    "4.2.1.1 $init(X, y, neighbors)$: Esta función, se encarga de asignar los valores de entrada previamente enunciados, a variables locales de la clase.\n",
    "\n",
    "4.2.1.2 $processSound(sound, sound_{class})$: Este método recibe por parámetro el nombre de un archivo de audio y la clase del audio (i.e corresponde a un string que le permite determinar al clasificador si el nombre del archivo de audio pasado por parámetro pertenece al conjunto de entrenamiento o al conjunto de prueba, lo anterior, con la finalidad de construir correctamente la ruta al archivo). Paso seguido, con la librería $scipy$, se carga el audio asociado a la ruta, y posteriormente, se transforma la frecuencia de la señal a 4000Hz, de tal manera que todos los audios queden con la misma frecuencia de muestreo para facilitar su comparación\n",
    "\n",
    "4.2.1.3 $predict(sound)$: Esta función recibe por parámetro el nombre de un archivo de audio. Paso seguido, utiliza la función $processSound$ para cargar el archivo y cargar cada uno de los audios contenidos en el conjunto de entrenamiento. De esta manera, va calculando par a par la coherencia entre el input de la función $predict$ y cada uno de los archivos de entrenamiento. Una vez calculada la coherencia, procede a calcular el promedio de esta medida, la cual se va a definir con la distancia entre dichos objetos. De esta manera, la función termina por construir una lista de valores que contiene cada una de las distancias entre cada objeto del conjunto de entrenamiento y el input, sobre la cual se computan las $k$-distancias más cercanas, para luego retornar un array de dos posiciones indicando la probabilidad de que pertenezca a la clase \"RUIDO\" y a la clase \"SONIDO\".\n",
    "\n",
    "4.2.1.4 $plotResults(categories_{array})$: Esta función recibe por parámetro un array de dos posiciones cuyos valores corresponden a la probabilidad de que un cierto sonido pertenezca a la clase \"RUIDO\" y a la clase \"SONIDO\". A continuación, procede a imprimir por pantalla una gráfica de barras con esta información.\n",
    "\n",
    "4.2.2 $setLabel(filename)$: Este método recibe por parámetro el nombre de un archivo de audio. Si el nombre del archivo contiene la palabra \"ruido\", la función retorna 0; en caso contrario, retorna 1.\n"
   ]
  },
  {
   "cell_type": "code",
   "execution_count": 5,
   "metadata": {},
   "outputs": [],
   "source": [
    "class NearestNeighbors():\n",
    "    \n",
    "    # Load data.\n",
    "    def __init__(self, X, y, neighbors = 5):\n",
    "        self.sounds = X\n",
    "        self.labels = y\n",
    "        self.neighbors = neighbors\n",
    "        #print(\"Classifier initialize!\")\n",
    "        \n",
    "    def predict(self, sound):\n",
    "        \n",
    "        categories = [0, 0]\n",
    "        signal_to_predict = self.processSound(sound, \"test\")\n",
    "        similar_vector = list()\n",
    "        \n",
    "        # Compute audio similarity.\n",
    "        for s in self.sounds:\n",
    "            training_sound = self.processSound(s, \"training\")\n",
    "            fs = 10e3\n",
    "            f, Cxy = scipy.signal.coherence(signal_to_predict, training_sound, fs, nperseg=1024)\n",
    "            similar_vector.append(Cxy.mean())\n",
    "            training_sound = None\n",
    "            #print(s, Cxy.mean())\n",
    "            \n",
    "            f = None\n",
    "            Cxy = None\n",
    "            \n",
    "        # Select K-nearest neigbors.\n",
    "        temp = similar_vector.copy()\n",
    "        nearest_neighbors = list()\n",
    "        contador = 0\n",
    "        \n",
    "        while(contador < self.neighbors):\n",
    "            element = min(temp)\n",
    "            nearest_neighbors.append(element)\n",
    "            temp.remove(element)\n",
    "            contador += 1\n",
    "        \n",
    "        temp = list()\n",
    "            \n",
    "        for k in nearest_neighbors:\n",
    "            \n",
    "            index = similar_vector.index(k)\n",
    "            if labels[index] == 0: \n",
    "                categories[0] += 1\n",
    "            else: \n",
    "                categories[1] += 1\n",
    "                \n",
    "        for c in range(0, len(categories)):\n",
    "            categories[c] = categories[c] / self.neighbors #len(self.sounds)\n",
    "        \n",
    "        #print(\"Nearest Neighbors: \")\n",
    "        #print(nearest_neighbors)\n",
    "            \n",
    "        temp = list()\n",
    "        nearest_neighbors = list()\n",
    "        contador = 0\n",
    "        signal_to_predict = list()\n",
    "        similar_vector = list()\n",
    "        \n",
    "        return categories\n",
    "    \n",
    "    # Process Sound.\n",
    "    def processSound(self, sound, sound_type):\n",
    "        \n",
    "        # Load audio.\n",
    "        if(sound_type == \"training\"): pathFile =  \"./Audios/training_set/\" + str(sound)\n",
    "        else: pathFile =  \"./Audios/test_set/\" + str(sound)\n",
    "        \n",
    "        (sample_rate, input_signal) = scipy.io.wavfile.read(pathFile, mmap = True)\n",
    "\n",
    "        # Convert to mono.\n",
    "        try:\n",
    "            input_signal = input_signal[:,0]\n",
    "        except: \n",
    "            pass\n",
    "    \n",
    "        # Calculate time array (max 10 seconds).\n",
    "        #time_array = np.arange(0, len(input_signal)/sample_rate, 1/sample_rate)   \n",
    "        #audio_duration_minutes = time_array[-1] / 60\n",
    "\n",
    "        # Print audio duration.\n",
    "        #print(\"Sound ready! Duration in minutes: \", audio_duration_minutes)\n",
    "\n",
    "        # Convert input signal to 4000 hz.\n",
    "        input_signal_4000hz = [input_signal[i] for i in range(0, len(input_signal), sample_rate//4000)]\n",
    "        \n",
    "        # Return process audio.\n",
    "        #print(len(input_signal_4000hz))\n",
    "        return input_signal_4000hz\n",
    "        \n",
    "    # Get Euclidean Distance between two points.\n",
    "    \"\"\"\n",
    "    def getEuclideanDistance(self, p1, p2):\n",
    "        distance = 0\n",
    "        for i in range(0, len(p1)):\n",
    "            distance += (p1[i] - p2[i])**2\n",
    "        return math.sqrt(distance)\n",
    "    \"\"\"\n",
    "    \n",
    "    # Plot results. \n",
    "    def plotResults(self, res):\n",
    "        \n",
    "        if res[0] < res[1]: print(\"Audio classified as: NOISE.\")\n",
    "        elif res[1] < res[0]: print(\"Audio classified as: SOUND.\")\n",
    "        \n",
    "        plt.bar([\"Sound\", \"Noise\"], res, width = 0.5, hatch = \"/\", color = \"#33C1FF\", edgecolor = \"black\")\n",
    "        plt.ylabel(\"Probability\")\n",
    "        plt.title(\"Audio Classification\")\n",
    "        plt.ylim(0, 1)\n",
    "        plt.show()"
   ]
  },
  {
   "cell_type": "code",
   "execution_count": 6,
   "metadata": {},
   "outputs": [],
   "source": [
    "# Graphing helper function\n",
    "def setup_graph(title='', x_label='', y_label='', fig_size=None):\n",
    "    fig = plt.figure()\n",
    "    if fig_size != None:\n",
    "        fig.set_size_inches(fig_size[0], fig_size[1])\n",
    "    ax = fig.add_subplot(111)\n",
    "    ax.set_title(title)\n",
    "    ax.set_xlabel(x_label)\n",
    "    ax.set_ylabel(y_label)\n",
    "    \n",
    "def setLabel(file_name):\n",
    "    if(file_name.find(\"ruido\")) >= 0: return 0\n",
    "    else: return 1"
   ]
  },
  {
   "cell_type": "markdown",
   "metadata": {},
   "source": [
    "**Entrenamiento del Clasificador.**\n",
    "\n",
    "---\n",
    "A continuación, se cargan los datos de entrenamiento del clasificador, y de acuerdo al nombre del archivo, se le asigna su categoría o \"label\" correspondiente."
   ]
  },
  {
   "cell_type": "code",
   "execution_count": 7,
   "metadata": {
    "scrolled": false
   },
   "outputs": [
    {
     "name": "stdout",
     "output_type": "stream",
     "text": [
      "Noise Label: 0\n",
      "Not-Noise Label: 1\n",
      "\n",
      "Training Set:\n",
      "Audio           Label\n",
      "\n",
      "ruido_1.wav  => 0\n",
      "ruido_10.wav  => 0\n",
      "ruido_2.wav  => 0\n",
      "ruido_3.wav  => 0\n",
      "ruido_4.wav  => 0\n",
      "ruido_5.wav  => 0\n",
      "ruido_6.wav  => 0\n",
      "ruido_7.wav  => 0\n",
      "ruido_8.wav  => 0\n",
      "ruido_9.wav  => 0\n",
      "sonido_1.wav  => 1\n",
      "sonido_10.wav  => 1\n",
      "sonido_2.wav  => 1\n",
      "sonido_3.wav  => 1\n",
      "sonido_4.wav  => 1\n",
      "sonido_5.wav  => 1\n",
      "sonido_6.wav  => 1\n",
      "sonido_7.wav  => 1\n",
      "sonido_8.wav  => 1\n",
      "sonido_9.wav  => 1\n",
      "\n"
     ]
    }
   ],
   "source": [
    "# Load Training data.\n",
    "sound_files = list()\n",
    "with os.scandir(\"./Audios/training_set\") as entries:\n",
    "    for entry in entries:\n",
    "        sound_files.append(entry.name)\n",
    "\n",
    "labels = list()\n",
    "for s in sound_files:\n",
    "    labels.append(setLabel(s))\n",
    "    \n",
    "print(\"Noise Label: 0\")\n",
    "print(\"Not-Noise Label: 1\")\n",
    "print(\"\")\n",
    "print(\"Training Set:\")\n",
    "print(\"Audio\", \"          Label\")\n",
    "print(\"\")\n",
    "for s in sound_files:\n",
    "    print(s, \" => \" + str(labels[sound_files.index(s)]))\n",
    "print(\"\")\n"
   ]
  },
  {
   "cell_type": "markdown",
   "metadata": {},
   "source": [
    "**Testeo y Optimización del Clasificador.**\n",
    "\n",
    "---\n",
    "En esta subsección, se carga el conjunto de datos de prueba, y se procede a computar el mejor valor de $k$, en donde $k$ corresponde a la cantidad de vecinos más cercanos que utilizará el clasificiador. "
   ]
  },
  {
   "cell_type": "code",
   "execution_count": 8,
   "metadata": {},
   "outputs": [],
   "source": [
    "# Load Test data.\n",
    "test_data = list()\n",
    "with os.scandir(\"./Audios/test_set\") as entries:\n",
    "    for entry in entries:\n",
    "        test_data.append(entry.name)"
   ]
  },
  {
   "cell_type": "code",
   "execution_count": 9,
   "metadata": {
    "scrolled": true
   },
   "outputs": [
    {
     "name": "stdout",
     "output_type": "stream",
     "text": [
      "Test Data\n",
      "\n",
      "ruido_11.wav\n",
      "ruido_12.wav\n",
      "ruido_13.wav\n",
      "ruido_14.wav\n",
      "ruido_15.wav\n",
      "sonido_11.wav\n",
      "sonido_12.wav\n",
      "sonido_13.wav\n",
      "sonido_14.wav\n",
      "sonido_15.wav\n"
     ]
    }
   ],
   "source": [
    "print(\"Test Data\")\n",
    "print(\"\")\n",
    "for s in test_data:\n",
    "    print(s)"
   ]
  },
  {
   "cell_type": "code",
   "execution_count": 186,
   "metadata": {},
   "outputs": [
    {
     "name": "stdout",
     "output_type": "stream",
     "text": [
      "\n",
      "Number of Neighbors:  3\n",
      "Accuracy Rate:  0.4\n",
      "Error Rate:  0.6\n",
      "Sensitivty:  0.429\n",
      "Specificity:  0.333\n",
      "---\n",
      "\n",
      "Number of Neighbors:  4\n",
      "Accuracy Rate:  0.4\n",
      "Error Rate:  0.6\n",
      "Sensitivty:  0.429\n",
      "Specificity:  0.333\n",
      "---\n",
      "\n",
      "Number of Neighbors:  5\n",
      "Accuracy Rate:  0.6\n",
      "Error Rate:  0.4\n",
      "Sensitivty:  0.6\n",
      "Specificity:  0.6\n",
      "---\n",
      "\n",
      "Number of Neighbors:  6\n",
      "Accuracy Rate:  0.7\n",
      "Error Rate:  0.3\n",
      "Sensitivty:  0.625\n",
      "Specificity:  1.0\n",
      "---\n",
      "\n",
      "Number of Neighbors:  7\n",
      "Accuracy Rate:  0.5\n",
      "Error Rate:  0.5\n",
      "Sensitivty:  0.5\n",
      "Specificity:  0.5\n",
      "---\n",
      "\n",
      "Number of Neighbors:  8\n",
      "Accuracy Rate:  0.7\n",
      "Error Rate:  0.3\n",
      "Sensitivty:  0.625\n",
      "Specificity:  1.0\n",
      "---\n",
      "\n",
      "Number of Neighbors:  9\n",
      "Accuracy Rate:  0.8\n",
      "Error Rate:  0.2\n",
      "Sensitivty:  0.714\n",
      "Specificity:  1.0\n",
      "---\n"
     ]
    }
   ],
   "source": [
    "# Optimizing the model.\n",
    "for k in range(3, 10):\n",
    "\n",
    "    # Initialize the model.\n",
    "    model = NearestNeighbors(sound_files, labels, neighbors = k)\n",
    "\n",
    "    # Predict sound category of test data and compute confusion matrix.\n",
    "    confusion_matrix = [[0, 0], [0, 0]]\n",
    "    for sound in test_data:   \n",
    "        if sound.find(\"ruido\"):\n",
    "            actual_label = 0\n",
    "        else: \n",
    "            actual_label = 1\n",
    "        res = model.predict(sound)\n",
    "        predicted_label = res.index(max(res))\n",
    "        confusion_matrix[actual_label][predicted_label] += 1\n",
    "\n",
    "    # Compute accuracy rate.\n",
    "    accuracy_rate = (confusion_matrix[0][0] + confusion_matrix[1][1]) \n",
    "    accuracy_rate /= len(test_data)\n",
    "\n",
    "    # Compute Error Rate.\n",
    "    error_rate = (confusion_matrix[0][1] + confusion_matrix[1][0])\n",
    "    error_rate /= len(test_data)\n",
    "\n",
    "    # Sensitivity.\n",
    "    sensitivity = confusion_matrix[0][0] / (confusion_matrix[0][0] + confusion_matrix[1][0])\n",
    "\n",
    "    # Specificity\n",
    "    specificity = confusion_matrix[1][1] / (confusion_matrix[1][1] + confusion_matrix[0][1])\n",
    "\n",
    "    print(\"\")\n",
    "    print(\"Number of Neighbors: \", k)\n",
    "    print(\"Accuracy Rate: \", accuracy_rate)\n",
    "    print(\"Error Rate: \", error_rate)\n",
    "    print(\"Sensitivty: \", round(sensitivity, 3))\n",
    "    print(\"Specificity: \",  round(specificity, 3))\n",
    "    print(\"---\")"
   ]
  },
  {
   "cell_type": "markdown",
   "metadata": {},
   "source": [
    "Así, por la optimización previa, se determinó utilizar nueve vecinos ($k = 9$) para inicializar el modelo de clasificación."
   ]
  },
  {
   "cell_type": "markdown",
   "metadata": {},
   "source": [
    "**Prueba interactiva.**\n",
    "\n",
    "---\n",
    "Antes de ejecutar el código de la siguiente casilla, recomendamos ponerse audífonos; el objetivo de esta pequeña sección, es que el lector escuche cada uno de los audios del conjunto de prueba, y en tiempo real pueda observar cuál es la categoría que le asigna el clasificador."
   ]
  },
  {
   "cell_type": "code",
   "execution_count": 11,
   "metadata": {
    "scrolled": false
   },
   "outputs": [
    {
     "name": "stdout",
     "output_type": "stream",
     "text": [
      "-----\n",
      "File name:  ruido_11.wav\n",
      "Audio classified as: NOISE.\n"
     ]
    },
    {
     "data": {
      "image/png": "[encoded data removed]",
      "text/plain": [
       "<Figure size 432x288 with 1 Axes>"
      ]
     },
     "metadata": {
      "needs_background": "light"
     },
     "output_type": "display_data"
    },
    {
     "name": "stdout",
     "output_type": "stream",
     "text": [
      "-----\n",
      "-----\n",
      "File name:  ruido_12.wav\n",
      "Audio classified as: SOUND.\n"
     ]
    },
    {
     "data": {
      "image/png": "[encoded data removed]",
      "text/plain": [
       "<Figure size 432x288 with 1 Axes>"
      ]
     },
     "metadata": {
      "needs_background": "light"
     },
     "output_type": "display_data"
    },
    {
     "name": "stdout",
     "output_type": "stream",
     "text": [
      "-----\n",
      "-----\n",
      "File name:  ruido_13.wav\n",
      "Audio classified as: NOISE.\n"
     ]
    },
    {
     "data": {
      "image/png": "[encoded data removed]",
      "text/plain": [
       "<Figure size 432x288 with 1 Axes>"
      ]
     },
     "metadata": {
      "needs_background": "light"
     },
     "output_type": "display_data"
    },
    {
     "name": "stdout",
     "output_type": "stream",
     "text": [
      "-----\n",
      "-----\n",
      "File name:  ruido_14.wav\n",
      "Audio classified as: NOISE.\n"
     ]
    },
    {
     "data": {
      "image/png": "[encoded data removed]",
      "text/plain": [
       "<Figure size 432x288 with 1 Axes>"
      ]
     },
     "metadata": {
      "needs_background": "light"
     },
     "output_type": "display_data"
    },
    {
     "name": "stdout",
     "output_type": "stream",
     "text": [
      "-----\n",
      "-----\n",
      "File name:  ruido_15.wav\n",
      "Audio classified as: SOUND.\n"
     ]
    },
    {
     "data": {
      "image/png": "[encoded data removed]",
      "text/plain": [
       "<Figure size 432x288 with 1 Axes>"
      ]
     },
     "metadata": {
      "needs_background": "light"
     },
     "output_type": "display_data"
    },
    {
     "name": "stdout",
     "output_type": "stream",
     "text": [
      "-----\n",
      "-----\n",
      "File name:  sonido_11.wav\n",
      "Audio classified as: SOUND.\n"
     ]
    },
    {
     "data": {
      "image/png": "[encoded data removed]",
      "text/plain": [
       "<Figure size 432x288 with 1 Axes>"
      ]
     },
     "metadata": {
      "needs_background": "light"
     },
     "output_type": "display_data"
    },
    {
     "name": "stdout",
     "output_type": "stream",
     "text": [
      "-----\n",
      "-----\n",
      "File name:  sonido_12.wav\n",
      "Audio classified as: SOUND.\n"
     ]
    },
    {
     "data": {
      "image/png": "[encoded data removed]",
      "text/plain": [
       "<Figure size 432x288 with 1 Axes>"
      ]
     },
     "metadata": {
      "needs_background": "light"
     },
     "output_type": "display_data"
    },
    {
     "name": "stdout",
     "output_type": "stream",
     "text": [
      "-----\n",
      "-----\n",
      "File name:  sonido_13.wav\n",
      "Audio classified as: SOUND.\n"
     ]
    },
    {
     "data": {
      "image/png": "[encoded data removed]",
      "text/plain": [
       "<Figure size 432x288 with 1 Axes>"
      ]
     },
     "metadata": {
      "needs_background": "light"
     },
     "output_type": "display_data"
    },
    {
     "name": "stdout",
     "output_type": "stream",
     "text": [
      "-----\n",
      "-----\n",
      "File name:  sonido_14.wav\n",
      "Audio classified as: SOUND.\n"
     ]
    },
    {
     "data": {
      "image/png": "[encoded data removed]",
      "text/plain": [
       "<Figure size 432x288 with 1 Axes>"
      ]
     },
     "metadata": {
      "needs_background": "light"
     },
     "output_type": "display_data"
    },
    {
     "name": "stdout",
     "output_type": "stream",
     "text": [
      "-----\n",
      "-----\n",
      "File name:  sonido_15.wav\n",
      "Audio classified as: SOUND.\n"
     ]
    },
    {
     "data": {
      "image/png": "[encoded data removed]",
      "text/plain": [
       "<Figure size 432x288 with 1 Axes>"
      ]
     },
     "metadata": {
      "needs_background": "light"
     },
     "output_type": "display_data"
    },
    {
     "name": "stdout",
     "output_type": "stream",
     "text": [
      "-----\n",
      "\n",
      "MODEL STATS:\n",
      "\n",
      "Number of Neighbors:  9\n",
      "Accuracy Rate:  0.8\n",
      "Error Rate:  0.2\n",
      "Sensitivity:  0.714\n",
      "Specificity:  1.0\n"
     ]
    }
   ],
   "source": [
    "# Best parameter.\n",
    "k = 9\n",
    "\n",
    "# Initialize the model.\n",
    "model = NearestNeighbors(sound_files, labels, neighbors = k)\n",
    "\n",
    "# Predict sound category of test data and compute confusion matrix.\n",
    "confusion_matrix = [[0, 0], [0, 0]]\n",
    "for sound in test_data:   \n",
    "    print(\"-----\")\n",
    "    print(\"File name: \", sound)\n",
    "    \n",
    "    playsound(\"./Audios/test_set/\" + sound)\n",
    "    if sound.find(\"ruido\"):\n",
    "        actual_label = 0\n",
    "    else: \n",
    "        actual_label = 1\n",
    "    res = model.predict(sound)\n",
    "    model.plotResults(res)\n",
    "    print(\"-----\")\n",
    "    predicted_label = res.index(max(res))\n",
    "    confusion_matrix[actual_label][predicted_label] += 1\n",
    "    time.sleep(1.5)\n",
    "\n",
    "# Compute accuracy rate.\n",
    "accuracy_rate = (confusion_matrix[0][0] + confusion_matrix[1][1]) \n",
    "accuracy_rate /= len(test_data)\n",
    "\n",
    "# Compute Error Rate.\n",
    "error_rate = (confusion_matrix[0][1] + confusion_matrix[1][0])\n",
    "error_rate /= len(test_data)\n",
    "\n",
    "# Sensitivity.\n",
    "sensitivity = confusion_matrix[0][0] / (confusion_matrix[0][0] + confusion_matrix[1][0])\n",
    "\n",
    "# Specificity\n",
    "specificity = confusion_matrix[1][1] / (confusion_matrix[1][1] + confusion_matrix[0][1])\n",
    "\n",
    "print(\"\")\n",
    "print(\"MODEL STATS:\")\n",
    "print(\"\")\n",
    "\n",
    "print(\"Number of Neighbors: \", k)\n",
    "print(\"Accuracy Rate: \", accuracy_rate)\n",
    "print(\"Error Rate: \", error_rate)\n",
    "print(\"Sensitivity: \", round(sensitivity, 3))\n",
    "print(\"Specificity: \",  round(specificity, 3))"
   ]
  },
  {
   "cell_type": "markdown",
   "metadata": {},
   "source": [
    "Por último, es importante señalar que el clasificador de sonidos y ruidos desarrollado en esta sección, no se utilizó al momento de procesar los audios registrados; lo anterior, se debe a que la baja calidad de los audios no permitía una correcta clasificación de los mismos; resultando en que todos eran clasificados como ruido."
   ]
  },
  {
   "cell_type": "markdown",
   "metadata": {},
   "source": [
    "**4.3 Procesamiento de Datos.**\n",
    "\n",
    "---\n",
    "Como se indicó previamente, el objetivo de esta sección es definir las reglas para asociar cada uno de los archivos de audio con su respectivo recorrido (archivo GPS): A continuación se describe cada una de las funciones, y el funcionamiento general del algoritmo. \n",
    " \n",
    "4.3.1. $noise_{levels}(decibels):$ Esta función recibe por parámetro un número real, que corresponde a los decibeles asociados a un determinado sonido. Paso seguido, dependiendo del nivel de ruido, la función retorna un string indicando el tipo de sonido al que corresponde dicho nivel de ruido.\n",
    "\n",
    "4.3.2. $convertToDatetime(date):$ Este método recibe por parámetro un string que contiene una fecha. A continuación, retorna un $datetime$ en el formato '%Y-%m-%d %H:%M:%S'.\n",
    "\n",
    "4.3.3. $addSecondsColumn(dataframe):$ Esta función recibe por parámetro un dataframe que contiene tres columnas, a saber: time (Tiempo), lat (Latitud) y lon (Longitud). A continuación, procede a convertir los string de fechas de la columna Tiempo a un $datetime$ en el formato '%Y-%m-%d %H:%M:%S', para luego, calcular la diferencia de tiempos par a par de cada fecha registrada. Finalmente, se retorna un nuevo dataframe, constituído por cuatro columnas: time, lat, lon, seconds, en donde los valores de la columna time son $datetimes$ y los vaores de la columna seconds corresponde a la diferencia de segundos par a par de cada fecha registrada.\n",
    "\n",
    "4.3.4. $getNoiseDataframe(df, time_{array}, input_{signal})$: Esta función recibe por parámetro un dataframe, una lista de tiempo y una señal. A continuación, la función procede a computar la mayor amplitud registrada en el arreglo $input_{signal}$, para luego, al momento de iterar sobre las filas del dataframe, normalizar los valores asociados a los valores extraídos del $input_signal$. Una vez extraído y normalizado dicho valor, se calculaba su nivel de decibeles. Finalmente, se retorna el dataframe original, con dos columnas adicionales, \"Noise\" y \"Description\", en donde se indica el nivel de ruido asociado a cada posición GPS registrada y la descripción de dicho ruido respectivamente."
   ]
  },
  {
   "cell_type": "markdown",
   "metadata": {},
   "source": [
    "**IMPORTANTE: Esta sección no se puede ejecutar debido a que los archivos de audio y GPS que fueron tomados, se decidieron remover de esta carpeta debido a su peso (> 1.5 GB). Si se desea consultar, se encuentran disponible en el siguiente enlace: https://drive.google.com/drive/folders/1uabmwSJh3pQK10Y7Hm2TrlTVu6xsI6Hi?usp=sharing.**"
   ]
  },
  {
   "cell_type": "code",
   "execution_count": 8,
   "metadata": {},
   "outputs": [],
   "source": [
    "# Noise Levels Messages.\n",
    "def noise_levels(db):\n",
    "    if(db <= 10): return \"Casi tranquilo, respirando\"\n",
    "    elif(db > 10 and db <= 20): return \"Hojas que aherrumbran, reloj que hace tictac\"\n",
    "    elif(db > 20 and db <= 30): return \"Susurro, zona rural tranquila\"\n",
    "    elif(db > 30 and db <= 40): return \"Biblioteca silenciosa, llamadas de aves\"\n",
    "    elif(db > 40 and db <= 50): return \"Oficina tranquila, lluvias moderadas\"\n",
    "    elif(db > 50 and db <= 60): return \"Conversacion normal\"\n",
    "    elif(db > 60 and db <= 70): return \"Trafico Ocupado, aspirador\"\n",
    "    elif(db > 70 and db <= 80): return \"Musica de la carga, despertadores\"\n",
    "    elif(db > 80 and db <= 90): return \"Carro diesel, cortacespedes\"\n",
    "    elif(db > 90 and db <= 100): return \"Motocicleta, secador de soplo\"\n",
    "    elif(db > 100 and db <= 110): return \"Conciertos, nino gritando\"\n",
    "    elif(db > 110 and db <= 120): return \"Umbral de dolor, trueno\"\n",
    "\n",
    "# Convert string to datetime.\n",
    "def convertToDatetime(date):\n",
    "    date = date.replace(\"T\", \" \").replace(\"Z\", \" \")[:19]\n",
    "    date = datetime.datetime.strptime(date, '%Y-%m-%d %H:%M:%S')\n",
    "    return date\n",
    "\n",
    "def addSecondsColumn(df):\n",
    "\n",
    "    df2 = pd.DataFrame()\n",
    "    for i in range(0, len(df) - 1):\n",
    "        d1 = convertToDatetime(df[\"time\"].iloc[i])\n",
    "        d2 = convertToDatetime(df[\"time\"].iloc[i+1])\n",
    "        diff = abs((d2-d1).seconds)\n",
    "        data = df.iloc[i]\n",
    "      \n",
    "        if diff <= 1000:\n",
    "            new_row = [d1 - datetime.timedelta(hours = 5), data[\"lat\"], data[\"lon\"], diff]\n",
    "            df2 = df2.append([new_row], ignore_index=True)\n",
    "\n",
    "    df2.columns=[\"time\", \"lat\", \"lon\", \"seconds\"]\n",
    "    return df2\n",
    "\n",
    "\n",
    "def getNoiseDataframe(df, time_array, input_signal):\n",
    "\n",
    "    # Initialize noise dataframe.\n",
    "    noise = pd.DataFrame()\n",
    "\n",
    "    # Seconds counter.\n",
    "    seconds = 0\n",
    "    \n",
    "    print(\"Procesando... puede tomar un tiempo.\")\n",
    "    \n",
    "    # Compute max amplitude.\n",
    "    if(max(input_signal) > abs(min(input_signal))): \n",
    "        max_amplitude = max(input_signal)\n",
    "    else: \n",
    "        max_amplitude = abs(min(input_signal))\n",
    "        \n",
    "    #input_signal_normalize = abs(input_signal / max_amplitude)\n",
    "    \n",
    "    # Process noise levels associate with time.\n",
    "    for i in range(0, len(df)): #len(df)\n",
    "\n",
    "        # Get audio partition.\n",
    "        audio_partition = input_signal[seconds]\n",
    "        audio_partition /= max_amplitude\n",
    "        #print(\"Audion partition: \", audio_partition)\n",
    "\n",
    "        # Compute dB of audio partition.\n",
    "        INCREASE = 40\n",
    "        decibeles = abs(20 * math.log(abs(i) + 1, 10)) + INCREASE\n",
    "        #print(decibeles)\n",
    "\n",
    "        # Append analysis \n",
    "        noise = noise.append([[decibeles/100, noise_levels(decibeles)]], ignore_index = True)\n",
    "\n",
    "        # Increase seconds.\n",
    "        seconds += df.iloc[i][3]\n",
    "\n",
    "    noise.columns=[\"Noise\", \"Description\"]\n",
    "    return noise"
   ]
  },
  {
   "cell_type": "code",
   "execution_count": null,
   "metadata": {},
   "outputs": [],
   "source": [
    "# Load audio & GPS files.\n",
    "pathFile =  \"./Almacenamiento de Audios y GPS/\"\n",
    "csv_files = list()\n",
    "sound_files = list()\n",
    "\n",
    "# Get CSV files.\n",
    "with os.scandir(pathFile) as entries:\n",
    "    for entry in entries:\n",
    "        if(entry.name.find(\"csv\") > 0):\n",
    "            csv_files.append(entry.name)\n",
    "            sound_files.append(entry.name[0:3])"
   ]
  },
  {
   "cell_type": "code",
   "execution_count": null,
   "metadata": {},
   "outputs": [],
   "source": [
    "for i in range(0, len(csv_files)):\n",
    "        \n",
    "    # Print author and info.\n",
    "    print(\"Autor: \", getAuthor(int(csv_files[i][0])))\n",
    "    print(csv_files[i])\n",
    "    print(sound_files[i])\n",
    "    \n",
    "    # Set gps and sound path file.\n",
    "    gpsPath = pathFile + csv_files[i] \n",
    "    soundPath = pathFile + sound_files[i] + \".wav\"\n",
    "    \n",
    "    # Get date, hour & compensation.\n",
    "    date = csv_files[i][4:8]\n",
    "    hour = csv_files[i][9:13]\n",
    "    compensation = int(csv_files[i][14])\n",
    "    print(\"Date: \", date, \", Hour: \", hour)\n",
    "\n",
    "    try:\n",
    "        df = pd.read_csv(gpsPath, delimiter=\";\", error_bad_lines=False)\n",
    "        df = addSecondsColumn(df)\n",
    "    except:\n",
    "        df = pd.read_csv(gpsPath, delimiter=\",\", error_bad_lines=False)\n",
    "        df = addSecondsColumn(df)\n",
    "    #print(df.head(10))\n",
    "    \n",
    "    # Load audio file.\n",
    "    (sample_rate, input_signal) = scipy.io.wavfile.read(pathFile + sound_files[i] + \".wav\", mmap = True)\n",
    "    time_array = np.arange(0, len(input_signal)/sample_rate, 1/sample_rate)   \n",
    "    audio_duration_minutes = time_array[-1] / 60\n",
    "    print(\"Sound ready! Duration in minutes: \", audio_duration_minutes)\n",
    "    \n",
    "    # Converting input signal if neccesary.\n",
    "    if(author(int(csv_files[i][0])) == \"Carlos\"):\n",
    "        input_signal = input_signal[:,0]\n",
    "    \n",
    "    # Append noise dataframe to dataframe.\n",
    "    noise = getNoiseDataframe(df, time_array, input_signal)\n",
    "    print(\"Noise computation ready!\")\n",
    "    \n",
    "    df = df.join(noise)\n",
    "    print(\"CSV Saved!\")\n",
    "    df.to_csv(\"./Resultados/\" + csv_files[i].replace(\".csv\", \"\") + \"-results.csv\")\n",
    "    \n",
    "    print(\"------\")"
   ]
  },
  {
   "cell_type": "markdown",
   "metadata": {},
   "source": [
    "**4.4 Análisis de Datos:**\n",
    "\n",
    "---\n",
    "Con base en el procesamiento de datos realizado en la sección inmediatamente anterior, -en donde se construyeron las tablas de ruido-, en esta seccion se utiliza el plugin $HeatMap$ de la librería Folium para generar los mapas de ruido (como se explicó en la sección de Materiales y Métodos). A continuación, se explica la función desarrollada.\n",
    " \n",
    "4.4.1 $generateMap(dataframe):$ Esta función recibe por parámetro un dataframe el cual está constituído por cuatro columnas: Tiempo, Latitud, Longitud y Ruido. A continuación, computa el array $heat_{data}$, constuído por una cantidad $N$ de $3$-tuplas, constuídas por tres variables: latitud, longitud y peso, en donde el peso corresponde al nivel de ruido (0 - 1.20) de esa posición GPS. Finalmente, construye el mapa de ruido utilizando el plugin $HeatMap$, y sobre el mapa posiciona dos marcadores, los cuales indican la fecha de inicio y finalización del trayecto en cuestión. Finalmente, retorna el mapa.\n",
    "\n",
    "**Por último:** es importante señalar que los mapas de ruido generados en esta sección no están siendo correctamente desplegados. Una de las deficiencias del plugin $HeatMap$, es que no tiene en cuenta la cercanía de las coordenadas registradas, es decir, dadas dos posiciones GPS muy cercanas (menos de 10 metros), el ruido asociado a dichas posiciones se \"acumula\" o \"amplifica\", dando una percepción errónea del ruido captado en dicha locación. Este inconveniente se puede solucionar a partir del establecimiento de reglas más estrictas al momento de tomar las posiciones GPS, por ejemplo, prohibiendole a la aplicación tomar una nueva posición si esta está muy cercana a la anterior. Adicionalmente, pudieron haberse establecidos recorridos específicos de tal manera que el caminante nunca pasara de nuevo por los lugares que ya había visitado (esto, con el fin de no solapar las ubicaciones registradas). Esto será materia de futuros trabajos."
   ]
  },
  {
   "cell_type": "code",
   "execution_count": null,
   "metadata": {},
   "outputs": [],
   "source": [
    "def generateMap(df):\n",
    "\n",
    "    # Initialize map.\n",
    "    lat = df.iloc[0][\"lat\"]\n",
    "    lon = df.iloc[0][\"lon\"]\n",
    "    map_hooray = folium.Map(location=[4.6378758, -74.0839653], zoom_start = 16)\n",
    "    \n",
    "    \n",
    "    # Get Data.\n",
    "    latitude = list()\n",
    "    longitude = list()\n",
    "    weight = list()\n",
    "\n",
    "    for i in range(0, len(df)):\n",
    "        latitude.append(float(str(df.iloc[i][\"lat\"]).replace(\",\",\".\")))\n",
    "        longitude.append(float(str(df.iloc[i][\"lon\"]).replace(\",\",\".\")))\n",
    "        weight.append(float(str(df.iloc[i][\"Noise\"]).replace(\",\",\".\")))\n",
    "\n",
    "    data = pd.DataFrame(data={\"Latitude\": latitude, \"Longitude\": longitude, \"Weight\":weight }) #\"Weight\":weight})\n",
    "    #folium.PolyLine(heat_data, maxval = 10, color=\"red\", weight=2.5, opacity=1).add_to(map_hooray)\n",
    "\n",
    "    # List comprehension to make out list of lists\n",
    "    heat_data = [[row['Latitude'],row['Longitude'], row[\"Weight\"]] for index, row in data.iterrows()] # , row[\"Weight\"]] \n",
    "    #print(heat_data)\n",
    "    \n",
    "    # Plot it on the map\n",
    "    HeatMap(heat_data).add_to(map_hooray)\n",
    "\n",
    "    #add markers\n",
    "    folium.Marker(heat_data[0][0:2], popup='<i>Inicio Trayecto. Hora:' +  df.iloc[0][\"time\"] + '</i>',).add_to(map_hooray)\n",
    "    folium.Marker(heat_data[-1][0:2], popup='<i>Fin Trayecto. Hora: ' +  df.iloc[-1][\"time\"] + '</i>',).add_to(map_hooray)\n",
    "\n",
    "    \n",
    "    # Display the map\n",
    "    return map_hooray"
   ]
  },
  {
   "cell_type": "code",
   "execution_count": 13,
   "metadata": {},
   "outputs": [],
   "source": [
    "# Load audio & GPS files.\n",
    "pathFile =  \"./Resultados/\"\n",
    "csv_files = list()\n",
    "\n",
    "# Get CSV files.\n",
    "with os.scandir(pathFile) as entries:\n",
    "    for entry in entries:\n",
    "        csv_files.append(entry.name)"
   ]
  },
  {
   "cell_type": "code",
   "execution_count": 14,
   "metadata": {},
   "outputs": [
    {
     "name": "stdout",
     "output_type": "stream",
     "text": [
      "Results: \n",
      "1-1-0910-0920-0-results.csv\n",
      "1-2-0910-0947-0-results.csv\n",
      "1-3-0910-1613-0-results.csv\n",
      "1-4-1017-1500-0-results.csv\n",
      "1-5-1018-1508-0-results.csv\n",
      "3-4-1010-1100-0-results.csv\n",
      "3-5-1510-1054-0-results.csv\n",
      "3-6-1710-1057-0-results.csv\n",
      "3-7-2110-0938-0-results.csv\n",
      "3-8-2210-1350-0-results.csv\n",
      "3-9-2310-1000-0-results.csv\n",
      "3-a-2410-1144-0-results.csv\n",
      "3-b-2410-1259-0-results.csv\n",
      "4-1-1110-0939-0-results.csv\n",
      "4-2-1110-1139-0-results.csv\n"
     ]
    }
   ],
   "source": [
    "print(\"Results: \")\n",
    "for csv in csv_files:\n",
    "    print(csv)"
   ]
  },
  {
   "cell_type": "code",
   "execution_count": 32,
   "metadata": {},
   "outputs": [
    {
     "name": "stdout",
     "output_type": "stream",
     "text": [
      "Digite index del dataframe a consultar: (< 15) 5\n",
      "Author's name:  Carlos\n",
      "File's name:  3-4-1010-1100-0-results.csv\n"
     ]
    },
    {
     "data": {
      "text/html": [
       "<div style=\"width:100%;\"><div style=\"position:relative;width:100%;height:0;padding-bottom:60%;\"><iframe src=\"data:text/html;charset=utf-8;base64,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\" style=\"position:absolute;width:100%;height:100%;left:0;top:0;border:none !important;\" allowfullscreen webkitallowfullscreen mozallowfullscreen></iframe></div></div>"
      ],
      "text/plain": [
       "<folium.folium.Map at 0x1959e5d83c8>"
      ]
     },
     "execution_count": 32,
     "metadata": {},
     "output_type": "execute_result"
    }
   ],
   "source": [
    "# Select dataframe to see.\n",
    "i = int(input(\"Digite index del dataframe a consultar: (< 15) \"))\n",
    "\n",
    "# Load dataframe.\n",
    "df = pd.read_csv(\"./Resultados/\" + csv_files[i])\n",
    "df = df.drop(\"Unnamed: 0\", axis = 1)\n",
    "\n",
    "# Print author's and files's name.\n",
    "print(\"Author's name: \", getAuthor(int(csv_files[i][0])))\n",
    "print(\"File's name: \", csv_files[i])\n",
    "\n",
    "# Show heat map.\n",
    "generateMap(df)"
   ]
  },
  {
   "cell_type": "markdown",
   "metadata": {},
   "source": [
    "**4.5 Simulaciones.**\n",
    "\n",
    "---\n",
    "Como se mencionó en la sección anterior, los mapas de ruido asociados a las caminatas registradas representan deficientemente la realidad de la contaminación auditiva de la Universidad Nacional de Colombia: Sede Bogotá. Adicionalmente, la cantidad de información registrada es insuficiente para observar el comportamiento del ruido en la universidad a lo largo del día en varios días de la semana. Por estas razones, se decidió incluir una última sección del trabajo: Simulaciones. Este método es ampliamente utilizado para la generación de mapas de ruido, puesto acortan la duración del proceso de obtención de datos y abaratan su coste. Así, con base en los resultados de los datos recolectados, se realizó una serie de simulaciones de mapas de ruido de la universidad, las cuales corresponden a los niveles de ruidos que se generan de lunes a viernes, en los horarios: 7:00 a 9:00, 9:00 a 11:00, 11:00 a 13:00, 14:00 a 16:00 y 16:00 a 18:00. A continuación, se explican los métodos utilizados:\n",
    "\n",
    "4.5.1. $generateTimes(dataframe, dt, end, step)$: Esta función recibe por parámetro un dataframe, una fecha de inicio $dt$, una fecha de finalización $end$, y un $step$ (que es un timedelta). La finalidad de esta función es construir un dataframe con una columna \"Date\", en donde los valores de dicha columna corresponden a una serie de fechas, tales que la primera fecha corresponde a $dt$, la última corresponde a $end$, y las intermedias se calculan comenzando en $dt$ y sumándole $step$ en cada iteración. De esta manera, retorna un dataframe de fechas simuladas.\n",
    "\n",
    "4.5.2. $modifyCoordinates(dataframe)$: Este método es el encargado de llevar a cabo las simulaciones de los mapas de ruido. En primer lugar, recibe como parámetro un dataframe que contiene tres columnas: Latitud, Longitud y Ruido. A continuación, itera sobre cada fila del dataframe, aplicando una distorsión tanto en los valores de las posiciones GPS registradas, como en el nivel de ruido asociado a dicha posición. Finalmente, retorna un dataframe con las posiciones y variable de ruido modificadas."
   ]
  },
  {
   "cell_type": "code",
   "execution_count": 26,
   "metadata": {},
   "outputs": [],
   "source": [
    "def generateTimes(df, dt, end, step = 15):\n",
    "    step = datetime.timedelta(seconds = step)\n",
    "    result = []\n",
    "    contador = 0\n",
    "    \n",
    "    while dt < end and contador < len(df):\n",
    "        result.append(dt.strftime(\"%Y-%m-%d %H:%M:%S\"))\n",
    "        dt += step\n",
    "        contador += 1\n",
    "    df2 = pd.DataFrame(data = result, columns = [\"Date\"])\n",
    "    return df2\n",
    "\n",
    "def modifyCoordinates(df):\n",
    "    lat = df[\"lat\"].values\n",
    "    lon = df[\"lon\"].values\n",
    "    noise = df[\"noise\"].values\n",
    "    \n",
    "    #print(noise)\n",
    "    \n",
    "    for i in range(0, len(lat)):\n",
    "        r1 = random.uniform(0.000001, 0.000099)\n",
    "        r2 = random.uniform(0.000001, 0.000099)\n",
    "        signo = random.randint(1, 2)\n",
    "        if(signo == 1): signo = 1\n",
    "        else: signo = -1\n",
    "            \n",
    "        lat[i] = lat[i] + signo * r1\n",
    "        lon[i] = lon[i] + signo * r2\n",
    "        \n",
    "        r3 = random.uniform(0, 5)\n",
    "        noise[i] = (noise[i] + signo * r3)/10\n",
    "        \n",
    "    df2 = pd.DataFrame(data = lat, columns = [\"lat\"])\n",
    "    df3 = pd.DataFrame(data = lon, columns = [\"lon\"])\n",
    "    df4 = pd.DataFrame(data = noise, columns = [\"noise\"])\n",
    "    \n",
    "    \n",
    "    df_temp = df2.join(df3)\n",
    "    df_temp = df_temp.join(df4)\n",
    "\n",
    "    return df_temp"
   ]
  },
  {
   "cell_type": "code",
   "execution_count": 27,
   "metadata": {},
   "outputs": [],
   "source": [
    "pathFile = \"./coordenadas.csv\"\n",
    "df = pd.read_csv(pathFile, delimiter = \";\", decimal = \",\", float_precision = \"high\")\n",
    "df.columns = \"registro lat lon noise\".split()\n",
    "df = df[[\"lat\", \"lon\", \"noise\"]]\n",
    "df.dropna(inplace = True)\n",
    "\n",
    "days = [7, 8, 9, 10, 11]\n",
    "hours = [7, 9, 11, 14, 16, 18]\n",
    "df_array = list()\n",
    "\n",
    "for d in days:\n",
    "    df_copy = df.copy()\n",
    "    for h in hours: \n",
    "        dt = datetime.datetime(2019, 11, d, h, 0, 0)\n",
    "        end = datetime.datetime(2019, 11, d, h + 2, 0, 0)\n",
    "        dates = generateTimes(df, dt, end, 15)\n",
    "        df_copy = modifyCoordinates(df_copy)\n",
    "        df_copy = df_copy.join(dates)\n",
    "        df_copy.set_index(\"Date\", inplace = True)\n",
    "        df_array.append(df_copy)"
   ]
  },
  {
   "cell_type": "code",
   "execution_count": 28,
   "metadata": {},
   "outputs": [
    {
     "data": {
      "text/html": [
       "<div>\n",
       "<style scoped>\n",
       "    .dataframe tbody tr th:only-of-type {\n",
       "        vertical-align: middle;\n",
       "    }\n",
       "\n",
       "    .dataframe tbody tr th {\n",
       "        vertical-align: top;\n",
       "    }\n",
       "\n",
       "    .dataframe thead th {\n",
       "        text-align: right;\n",
       "    }\n",
       "</style>\n",
       "<table border=\"1\" class=\"dataframe\">\n",
       "  <thead>\n",
       "    <tr style=\"text-align: right;\">\n",
       "      <th></th>\n",
       "      <th>lat</th>\n",
       "      <th>lon</th>\n",
       "      <th>noise</th>\n",
       "    </tr>\n",
       "    <tr>\n",
       "      <th>Date</th>\n",
       "      <th></th>\n",
       "      <th></th>\n",
       "      <th></th>\n",
       "    </tr>\n",
       "  </thead>\n",
       "  <tbody>\n",
       "    <tr>\n",
       "      <th>2019-11-07 07:00:00</th>\n",
       "      <td>4.633458</td>\n",
       "      <td>-74.081750</td>\n",
       "      <td>0.577883</td>\n",
       "    </tr>\n",
       "    <tr>\n",
       "      <th>2019-11-07 07:00:15</th>\n",
       "      <td>4.633575</td>\n",
       "      <td>-74.081706</td>\n",
       "      <td>0.308442</td>\n",
       "    </tr>\n",
       "    <tr>\n",
       "      <th>2019-11-07 07:00:30</th>\n",
       "      <td>4.633617</td>\n",
       "      <td>-74.081377</td>\n",
       "      <td>0.656434</td>\n",
       "    </tr>\n",
       "    <tr>\n",
       "      <th>2019-11-07 07:00:45</th>\n",
       "      <td>4.633964</td>\n",
       "      <td>-74.081021</td>\n",
       "      <td>0.488363</td>\n",
       "    </tr>\n",
       "    <tr>\n",
       "      <th>2019-11-07 07:01:00</th>\n",
       "      <td>4.634065</td>\n",
       "      <td>-74.080652</td>\n",
       "      <td>0.896488</td>\n",
       "    </tr>\n",
       "  </tbody>\n",
       "</table>\n",
       "</div>"
      ],
      "text/plain": [
       "                          lat        lon     noise\n",
       "Date                                              \n",
       "2019-11-07 07:00:00  4.633458 -74.081750  0.577883\n",
       "2019-11-07 07:00:15  4.633575 -74.081706  0.308442\n",
       "2019-11-07 07:00:30  4.633617 -74.081377  0.656434\n",
       "2019-11-07 07:00:45  4.633964 -74.081021  0.488363\n",
       "2019-11-07 07:01:00  4.634065 -74.080652  0.896488"
      ]
     },
     "execution_count": 28,
     "metadata": {},
     "output_type": "execute_result"
    }
   ],
   "source": [
    "df_array[0].head()"
   ]
  },
  {
   "cell_type": "markdown",
   "metadata": {},
   "source": [
    "**Visualización de mapas de ruido.**\n",
    "\n",
    "---\n",
    "A continuación, se presenta una interfaz para poder visualizar los 30 mapas de ruidos simulados.\n"
   ]
  },
  {
   "cell_type": "code",
   "execution_count": 30,
   "metadata": {},
   "outputs": [
    {
     "name": "stdout",
     "output_type": "stream",
     "text": [
      "Digite index de dataframe a consultar: (< 30) 5\n",
      "\n",
      "--- Fecha --- \n",
      "Thursday\n",
      "Desde:  2019-11-07 18:01:15  a  2019-11-07 18:58:15\n"
     ]
    },
    {
     "data": {
      "text/html": [
       "<div style=\"width:100%;\"><div style=\"position:relative;width:100%;height:0;padding-bottom:60%;\"><iframe src=\"data:text/html;charset=utf-8;base64,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\" style=\"position:absolute;width:100%;height:100%;left:0;top:0;border:none !important;\" allowfullscreen webkitallowfullscreen mozallowfullscreen></iframe></div></div>"
      ],
      "text/plain": [
       "<folium.folium.Map at 0x1959d61aba8>"
      ]
     },
     "execution_count": 30,
     "metadata": {},
     "output_type": "execute_result"
    }
   ],
   "source": [
    "# Set map to draw.\n",
    "i = int(input(\"Digite index de dataframe a consultar: (< 30) \"))\n",
    "\n",
    "# Create map instance. \n",
    "map_hooray = folium.Map(location=[4.6378758, -74.0839653], zoom_start = 16)\n",
    "\n",
    "# Get Data. \n",
    "data = df_array[i].copy()\n",
    "\n",
    "# Generate path & add markers.\n",
    "path_data = [[row['lat'],row['lon']] for index, row in data.iterrows()] \n",
    "#folium.PolyLine(path_data, maxval = 10, color=\"red\", weight=2.5, opacity=1).add_to(map_hooray)\n",
    "folium.Marker(path_data[0], popup='<i>Inicio Trayecto. Hora:' +  data.index[0] + '</i>', icon=folium.Icon(icon='cloud')).add_to(map_hooray)\n",
    "folium.Marker(path_data[-1], popup='<i>Fin Trayecto. Hora: ' +  data.index[-1] + '</i>', icon=folium.Icon(color='red', icon='info-sign')).add_to(map_hooray)\n",
    "\n",
    "# Markers Path.\n",
    "#for d in range(0, len(path_data)):\n",
    "#    folium.Marker(path_data[d], popup = str(path_data[d]) + \" \" + str(d)) .add_to(map_hooray)\n",
    "\n",
    "# Generate heat map.\n",
    "heat_data = [[row['lat'],row['lon'], row[\"noise\"]] for index, row in data.iterrows()] # , row[\"Weight\"]] \n",
    "HeatMap(heat_data, name = \"Mapa de Ruido UNAL\", max_val = 1.4, radius = 25, min_opacity = 0.4).add_to(map_hooray)\n",
    " \n",
    "print(\"\")\n",
    "print(\"--- Fecha --- \")\n",
    "print(calendar.day_name[datetime.datetime.strptime(data.index[i], \"%Y-%m-%d %H:%M:%S\").weekday()])\n",
    "print(\"Desde: \", data.index[i], \" a \", data.index[-1])\n",
    "\n",
    "map_hooray"
   ]
  },
  {
   "cell_type": "markdown",
   "metadata": {},
   "source": [
    "### 5. Conclusiones.\n",
    "\n",
    "**I)**. Los mapas de ruido generados por el plugin $HeatMap$ presentaron muchas deficiencias al momento de representar la realidad de la contaminación auditiva en la universidad, puesto a que esta API no tiene en cuenta la cercanía de las coordenadas registradas, generando una \"acumulación\" o \"amplificación\" del ruido. Este inconveniente se puede solucionar a partir del establecimiento de reglas más estrictas al momento de tomar las posiciones GPS, por ejemplo, prohibiendole a la aplicación tomar una nueva posición si esta está muy cercana a la anterior. Adicionalmente, pudieron haberse establecidos recorridos específicos de tal manera que el caminante nunca pasara de nuevo por los lugares que ya había visitado (esto, con el fin de no solapar las ubicaciones registradas). Esto será materia de futuros trabajos.\n",
    "\n",
    "**II)**. Como futura mejora del presente proyecto, se debe seguir trabajando en la construcción de un mejor modelo de clasificación de ruidos y sonidos. Adicionalmente, se puede trabajar en el desarrollo de un algorítmo capaz de identificar la fuente del sonido o ruido generado, permitiendo no solo reconocer qué es y qué no es ruido, sino quien o qué está emitiendo el ruido. Lo anterior, representaría un avance importante en materia de prevención y generación de planes de acción para mitigar y controlar el ruido en la Universidad Nacional de Colombia: Sede Bogotá.\n",
    "\n",
    "**III)**. Para futuras etapas del proyecto, se puede plantear la posibilidad de replicar el proyecto [SONYC: Sounds of New York City](https://wp.nyu.edu/sonyc/) en la Universidad Nacional de Colombia: Sede Bogotá, lo que requeriría establecer una metodología para la recolección, procesamiento y análisis de datos de manera eficiente, así como la generación de mapas de ruido dinámicos minuto a minuto. Esto, con la finalidad de poder trabajar en la elaboración de planes de acción para la mitigación y control de ruido en la universidad."
   ]
  },
  {
   "cell_type": "markdown",
   "metadata": {},
   "source": [
    "### 6. Bibliografía.\n",
    "\n",
    "1. Lorem ipsum dolor sit amet, consectetur adipiscing elit. Donec nisi justo, lobortis a libero vel, tristique rhoncus nulla. Aenean non arcu vel elit ultricies interdum vel ut eros. Aliquam erat volutpat. In molestie turpis vel neque ornare, vitae porttitor orci elementum. Etiam pulvinar enim lobortis nibh sagittis egestas. \n",
    "\n",
    "2. Lorem ipsum dolor sit amet, consectetur adipiscing elit. Donec nisi justo, lobortis a libero vel, tristique rhoncus nulla. Aenean non arcu vel elit ultricies interdum vel ut eros. Aliquam erat volutpat. In molestie turpis vel neque ornare, vitae porttitor orci elementum. Etiam pulvinar enim lobortis nibh sagittis egestas. \n",
    "\n",
    "3. Lorem ipsum dolor sit amet, consectetur adipiscing elit. Donec nisi justo, lobortis a libero vel, tristique rhoncus nulla. Aenean non arcu vel elit ultricies interdum vel ut eros. Aliquam erat volutpat. In molestie turpis vel neque ornare, vitae porttitor orci elementum. Etiam pulvinar enim lobortis nibh sagittis egestas. "
   ]
  },
  {
   "cell_type": "code",
   "execution_count": null,
   "metadata": {},
   "outputs": [],
   "source": []
  }
 ],
 "metadata": {
  "kernelspec": {
   "display_name": "Python 3",
   "language": "python",
   "name": "python3"
  },
  "language_info": {
   "codemirror_mode": {
    "name": "ipython",
    "version": 3
   },
   "file_extension": ".py",
   "mimetype": "text/x-python",
   "name": "python",
   "nbconvert_exporter": "python",
   "pygments_lexer": "ipython3",
   "version": "3.7.3"
  }
 },
 "nbformat": 4,
 "nbformat_minor": 2
}
