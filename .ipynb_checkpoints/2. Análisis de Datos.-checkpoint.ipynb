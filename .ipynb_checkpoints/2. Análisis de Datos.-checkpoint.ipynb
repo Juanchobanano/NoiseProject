{
 "cells": [
  {
   "cell_type": "markdown",
   "metadata": {},
   "source": [
    "## Mapas de Calor."
   ]
  },
  {
   "cell_type": "code",
   "execution_count": 52,
   "metadata": {},
   "outputs": [],
   "source": [
    "# Import libraries.\n",
    "import pandas as pd\n",
    "import numpy as np\n",
    "import os\n",
    "\n",
    "import folium\n",
    "from folium import plugins\n",
    "from folium.plugins import HeatMap"
   ]
  },
  {
   "cell_type": "code",
   "execution_count": 53,
   "metadata": {},
   "outputs": [],
   "source": [
    "# Load audio & GPS files.\n",
    "pathFile =  \"./Resultados/\"\n",
    "csv_files = list()\n",
    "\n",
    "# Get CSV files.\n",
    "with os.scandir(pathFile) as entries:\n",
    "    for entry in entries:\n",
    "        csv_files.append(entry.name)"
   ]
  },
  {
   "cell_type": "code",
   "execution_count": 54,
   "metadata": {},
   "outputs": [],
   "source": [
    "# Get audio-gps author.\n",
    "def author(id):\n",
    "    if id == 1: return \"Daniel\"\n",
    "    elif id == 2: return \"Juan Esteban\"\n",
    "    elif id == 3: return \"Carlos\"\n",
    "    elif id == 4: return \"Tania\""
   ]
  },
  {
   "cell_type": "code",
   "execution_count": 55,
   "metadata": {},
   "outputs": [
    {
     "data": {
      "text/plain": [
       "['1-1-0910-0920-0-results.csv',\n",
       " '1-2-0910-0947-0-results.csv',\n",
       " '1-3-0910-1613-0-results.csv',\n",
       " '1-4-1017-1500-0-results.csv',\n",
       " '1-5-1018-1508-0-results.csv',\n",
       " '3-4-1010-1100-0-results.csv',\n",
       " '3-5-1510-1054-0-results.csv',\n",
       " '3-6-1710-1057-0-results.csv',\n",
       " '3-7-2110-0938-0-results.csv',\n",
       " '3-8-2210-1350-0-results.csv',\n",
       " '3-9-2310-1000-0-results.csv',\n",
       " '3-a-2410-1144-0-results.csv',\n",
       " '3-b-2410-1259-0-results.csv',\n",
       " '4-1-1110-0939-0-results.csv',\n",
       " '4-2-1110-1139-0-results.csv']"
      ]
     },
     "execution_count": 55,
     "metadata": {},
     "output_type": "execute_result"
    }
   ],
   "source": [
    "csv_files"
   ]
  },
  {
   "cell_type": "code",
   "execution_count": 5,
   "metadata": {},
   "outputs": [],
   "source": [
    "def generateMap(df):\n",
    "\n",
    "    # Initialize map.\n",
    "    lat = df.iloc[0][\"lat\"]\n",
    "    lon = df.iloc[0][\"lon\"]\n",
    "    map_hooray = folium.Map(location=[4.6365, -74.0815], zoom_start = 17 , width = 800, height = 480)\n",
    "\n",
    "    # Get Data.\n",
    "    latitude = list()\n",
    "    longitude = list()\n",
    "    weight = list()\n",
    "\n",
    "    for i in range(0, len(df)):\n",
    "        latitude.append(float(str(df.iloc[i][\"lat\"]).replace(\",\",\".\")))\n",
    "        longitude.append(float(str(df.iloc[i][\"lon\"]).replace(\",\",\".\")))\n",
    "        weight.append(float(str(df.iloc[i][\"Noise\"]).replace(\",\",\".\")))\n",
    "\n",
    "    data = pd.DataFrame(data={\"Latitude\": latitude, \"Longitude\": longitude, \"Weight\":weight }) #\"Weight\":weight})\n",
    "    #print(data)\n",
    "\n",
    "    # List comprehension to make out list of lists\n",
    "    heat_data = [[row['Latitude'],row['Longitude'], row[\"Weight\"]] for index, row in data.iterrows()] # , row[\"Weight\"]] \n",
    "    print(heat_data)\n",
    "    \n",
    "    # Plot it on the map\n",
    "    HeatMap(heat_data).add_to(map_hooray)\n",
    "\n",
    "    #add markers\n",
    "    folium.Marker(heat_data[0], popup='<i>Inicio Trayecto. Hora:' +  df.iloc[0][\"time\"] + '</i>',).add_to(map_hooray)\n",
    "    folium.Marker(heat_data[-1], popup='<i>Fin Trayecto. Hora: ' +  df.iloc[-1][\"time\"] + '</i>',).add_to(map_hooray)\n",
    "\n",
    "    folium.PolyLine(heat_data, maxval = 10, color=\"red\", weight=2.5, opacity=1).add_to(map_hooray)\n",
    "\n",
    "    # Display the map\n",
    "    return map_hooray\n",
    "\n",
    "\n"
   ]
  },
  {
   "cell_type": "code",
   "execution_count": null,
   "metadata": {},
   "outputs": [],
   "source": []
  },
  {
   "cell_type": "code",
   "execution_count": 59,
   "metadata": {},
   "outputs": [
    {
     "name": "stdout",
     "output_type": "stream",
     "text": [
      "                    time       lat        lon  seconds     Noise  \\\n",
      "0    2019-10-24 11:40:11  4.637208 -74.082795       23  0.400000   \n",
      "1    2019-10-24 11:40:34  4.634320 -74.082277      242  0.460206   \n",
      "2    2019-10-24 11:41:31  4.637617 -74.083402      251  0.495424   \n",
      "3    2019-10-24 11:42:10  4.636538 -74.083502      249  0.520412   \n",
      "4    2019-10-24 11:46:19  4.637362 -74.082746       16  0.539794   \n",
      "5    2019-10-24 11:42:58  4.636950 -74.082875      249  0.555630   \n",
      "6    2019-10-24 11:47:07  4.636975 -74.082539        5  0.569020   \n",
      "7    2019-10-24 11:43:34  4.637740 -74.082265       13  0.580618   \n",
      "8    2019-10-24 11:43:47  4.637672 -74.082707      237  0.590849   \n",
      "9    2019-10-24 11:47:44  4.636964 -74.082407       16  0.600000   \n",
      "10   2019-10-24 11:48:00  4.636822 -74.082683       24  0.608279   \n",
      "11   2019-10-24 11:44:57  4.636235 -74.082705       15  0.615836   \n",
      "12   2019-10-24 11:45:12  4.635950 -74.082642       15  0.622789   \n",
      "13   2019-10-24 11:45:27  4.635860 -74.082740       23  0.629226   \n",
      "14   2019-10-24 11:45:50  4.635413 -74.082807       15  0.635218   \n",
      "15   2019-10-24 11:46:05  4.635385 -74.082965       17  0.640824   \n",
      "16   2019-10-24 11:46:22  4.635132 -74.083025       14  0.646090   \n",
      "17   2019-10-24 11:46:36  4.634512 -74.083300       18  0.651055   \n",
      "18   2019-10-24 11:46:54  4.635170 -74.082715      268  0.655751   \n",
      "19   2019-10-24 11:47:41  4.634970 -74.082602       16  0.660206   \n",
      "20   2019-10-24 11:47:57  4.634857 -74.082987       35  0.664444   \n",
      "21   2019-10-24 11:48:32  4.635178 -74.082570       17  0.668485   \n",
      "22   2019-10-24 11:48:49  4.634638 -74.082625       31  0.672346   \n",
      "23   2019-10-24 11:49:20  4.634510 -74.082642       15  0.676042   \n",
      "24   2019-10-24 11:49:35  4.635058 -74.082765      256  0.679588   \n",
      "25   2019-10-24 11:51:12  4.634505 -74.083348       13  0.682995   \n",
      "26   2019-10-24 11:51:25  4.634535 -74.083092      250  0.686273   \n",
      "27   2019-10-24 11:51:56  4.634558 -74.083217       14  0.689432   \n",
      "28   2019-10-24 11:52:10  4.634427 -74.083247       16  0.692480   \n",
      "29   2019-10-24 11:52:26  4.634247 -74.083387       15  0.695424   \n",
      "..                   ...       ...        ...      ...       ...   \n",
      "136  2019-10-24 12:28:56  4.636888 -74.090433      241  0.827344   \n",
      "137  2019-10-24 12:29:22  4.636690 -74.090593       15  0.827976   \n",
      "138  2019-10-24 12:29:37  4.636762 -74.090712      244  0.828603   \n",
      "139  2019-10-24 12:30:03  4.636795 -74.090892      265  0.829226   \n",
      "140  2019-10-24 12:34:28  4.636650 -74.091074       24  0.829844   \n",
      "141  2019-10-24 12:34:52  4.636565 -74.090992       79  0.830458   \n",
      "142  2019-10-24 12:36:11  4.636656 -74.091083       12  0.831067   \n",
      "143  2019-10-24 12:34:23  4.636983 -74.090965       50  0.831672   \n",
      "144  2019-10-24 12:35:13  4.636298 -74.091058       61  0.832274   \n",
      "145  2019-10-24 12:36:14  4.636852 -74.090768       45  0.832871   \n",
      "146  2019-10-24 12:36:59  4.636285 -74.091038       19  0.833463   \n",
      "147  2019-10-24 12:37:18  4.636288 -74.090913       78  0.834052   \n",
      "148  2019-10-24 12:38:36  4.634825 -74.091980       15  0.834637   \n",
      "149  2019-10-24 12:38:51  4.636648 -74.091368       35  0.835218   \n",
      "150  2019-10-24 12:39:26  4.636763 -74.091383       22  0.835795   \n",
      "151  2019-10-24 12:39:48  4.636557 -74.091480       11  0.836369   \n",
      "152  2019-10-24 12:39:59  4.636792 -74.091412       13  0.836938   \n",
      "153  2019-10-24 12:40:12  4.636735 -74.091495      251  0.837504   \n",
      "154  2019-10-24 12:44:23  4.636478 -74.091457       12  0.838066   \n",
      "155  2019-10-24 12:40:49  4.635937 -74.091470       13  0.838625   \n",
      "156  2019-10-24 12:41:02  4.636372 -74.091283       13  0.839180   \n",
      "157  2019-10-24 12:41:15  4.636287 -74.091372      249  0.839731   \n",
      "158  2019-10-24 12:41:40  4.636165 -74.091378       13  0.840279   \n",
      "159  2019-10-24 12:41:53  4.636060 -74.091252       13  0.840824   \n",
      "160  2019-10-24 12:42:06  4.636033 -74.091150      251  0.841365   \n",
      "161  2019-10-24 12:46:17  4.635548 -74.092151       30  0.841903   \n",
      "162  2019-10-24 12:46:47  4.635467 -74.092049       15  0.842438   \n",
      "163  2019-10-24 12:47:02  4.635391 -74.091949       12  0.842969   \n",
      "164  2019-10-24 12:43:27  4.636525 -74.090683       14  0.843497   \n",
      "165  2019-10-24 12:43:41  4.636623 -74.090565       14  0.844022   \n",
      "\n",
      "                                 Description  \n",
      "0    Biblioteca silenciosa, llamadas de aves  \n",
      "1       Oficina tranquila, lluvias moderadas  \n",
      "2       Oficina tranquila, lluvias moderadas  \n",
      "3                        Conversacion normal  \n",
      "4                        Conversacion normal  \n",
      "5                        Conversacion normal  \n",
      "6                        Conversacion normal  \n",
      "7                        Conversacion normal  \n",
      "8                        Conversacion normal  \n",
      "9                        Conversacion normal  \n",
      "10                Trafico Ocupado, aspirador  \n",
      "11                Trafico Ocupado, aspirador  \n",
      "12                Trafico Ocupado, aspirador  \n",
      "13                Trafico Ocupado, aspirador  \n",
      "14                Trafico Ocupado, aspirador  \n",
      "15                Trafico Ocupado, aspirador  \n",
      "16                Trafico Ocupado, aspirador  \n",
      "17                Trafico Ocupado, aspirador  \n",
      "18                Trafico Ocupado, aspirador  \n",
      "19                Trafico Ocupado, aspirador  \n",
      "20                Trafico Ocupado, aspirador  \n",
      "21                Trafico Ocupado, aspirador  \n",
      "22                Trafico Ocupado, aspirador  \n",
      "23                Trafico Ocupado, aspirador  \n",
      "24                Trafico Ocupado, aspirador  \n",
      "25                Trafico Ocupado, aspirador  \n",
      "26                Trafico Ocupado, aspirador  \n",
      "27                Trafico Ocupado, aspirador  \n",
      "28                Trafico Ocupado, aspirador  \n",
      "29                Trafico Ocupado, aspirador  \n",
      "..                                       ...  \n",
      "136              Carro diesel, cortacespedes  \n",
      "137              Carro diesel, cortacespedes  \n",
      "138              Carro diesel, cortacespedes  \n",
      "139              Carro diesel, cortacespedes  \n",
      "140              Carro diesel, cortacespedes  \n",
      "141              Carro diesel, cortacespedes  \n",
      "142              Carro diesel, cortacespedes  \n",
      "143              Carro diesel, cortacespedes  \n",
      "144              Carro diesel, cortacespedes  \n",
      "145              Carro diesel, cortacespedes  \n",
      "146              Carro diesel, cortacespedes  \n",
      "147              Carro diesel, cortacespedes  \n",
      "148              Carro diesel, cortacespedes  \n",
      "149              Carro diesel, cortacespedes  \n",
      "150              Carro diesel, cortacespedes  \n",
      "151              Carro diesel, cortacespedes  \n",
      "152              Carro diesel, cortacespedes  \n",
      "153              Carro diesel, cortacespedes  \n",
      "154              Carro diesel, cortacespedes  \n",
      "155              Carro diesel, cortacespedes  \n",
      "156              Carro diesel, cortacespedes  \n",
      "157              Carro diesel, cortacespedes  \n",
      "158              Carro diesel, cortacespedes  \n",
      "159              Carro diesel, cortacespedes  \n",
      "160              Carro diesel, cortacespedes  \n",
      "161              Carro diesel, cortacespedes  \n",
      "162              Carro diesel, cortacespedes  \n",
      "163              Carro diesel, cortacespedes  \n",
      "164              Carro diesel, cortacespedes  \n",
      "165              Carro diesel, cortacespedes  \n",
      "\n",
      "[166 rows x 6 columns]\n",
      "Carlos\n",
      "3-a-2410-1144-0-results.csv\n"
     ]
    }
   ],
   "source": [
    "i = 11\n",
    "\n",
    "df = pd.read_csv(\"./Resultados/\" + csv_files[i])\n",
    "df = df.drop(\"Unnamed: 0\", axis = 1)\n",
    "\n",
    "print(df)\n",
    "\n",
    "print(author(int(csv_files[i][0])))\n",
    "print(csv_files[i])\n",
    "  \n",
    "#generateMap(df)"
   ]
  },
  {
   "cell_type": "code",
   "execution_count": 88,
   "metadata": {},
   "outputs": [],
   "source": [
    "pathFile =  \"./coordenadas.csv\""
   ]
  },
  {
   "cell_type": "code",
   "execution_count": 89,
   "metadata": {},
   "outputs": [
    {
     "data": {
      "text/html": [
       "<div>\n",
       "<style scoped>\n",
       "    .dataframe tbody tr th:only-of-type {\n",
       "        vertical-align: middle;\n",
       "    }\n",
       "\n",
       "    .dataframe tbody tr th {\n",
       "        vertical-align: top;\n",
       "    }\n",
       "\n",
       "    .dataframe thead th {\n",
       "        text-align: right;\n",
       "    }\n",
       "</style>\n",
       "<table border=\"1\" class=\"dataframe\">\n",
       "  <thead>\n",
       "    <tr style=\"text-align: right;\">\n",
       "      <th></th>\n",
       "      <th>lat</th>\n",
       "      <th>lon</th>\n",
       "    </tr>\n",
       "  </thead>\n",
       "  <tbody>\n",
       "    <tr>\n",
       "      <th>0</th>\n",
       "      <td>4.633601</td>\n",
       "      <td>-74.081609</td>\n",
       "    </tr>\n",
       "    <tr>\n",
       "      <th>1</th>\n",
       "      <td>4.633655</td>\n",
       "      <td>-74.081548</td>\n",
       "    </tr>\n",
       "    <tr>\n",
       "      <th>2</th>\n",
       "      <td>4.633791</td>\n",
       "      <td>-74.081264</td>\n",
       "    </tr>\n",
       "    <tr>\n",
       "      <th>3</th>\n",
       "      <td>4.633944</td>\n",
       "      <td>-74.080971</td>\n",
       "    </tr>\n",
       "    <tr>\n",
       "      <th>4</th>\n",
       "      <td>4.634123</td>\n",
       "      <td>-74.080641</td>\n",
       "    </tr>\n",
       "  </tbody>\n",
       "</table>\n",
       "</div>"
      ],
      "text/plain": [
       "        lat        lon\n",
       "0  4.633601 -74.081609\n",
       "1  4.633655 -74.081548\n",
       "2  4.633791 -74.081264\n",
       "3  4.633944 -74.080971\n",
       "4  4.634123 -74.080641"
      ]
     },
     "execution_count": 89,
     "metadata": {},
     "output_type": "execute_result"
    }
   ],
   "source": [
    "df = pd.read_csv(pathFile, delimiter = \";\", decimal = \",\", float_precision='high')\n",
    "df.columns = \"registro lat lon\".split()\n",
    "df = df[[\"lat\", \"lon\"]]\n",
    "df.dropna(inplace = True)\n",
    "df.head()"
   ]
  },
  {
   "cell_type": "code",
   "execution_count": 91,
   "metadata": {},
   "outputs": [
    {
     "data": {
      "text/html": [
       "<div style=\"width:100%;\"><div style=\"position:relative;width:100%;height:0;padding-bottom:60%;\"><iframe src=\"data:text/html;charset=utf-8;base64,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\" style=\"position:absolute;width:100%;height:100%;left:0;top:0;border:none !important;\" allowfullscreen webkitallowfullscreen mozallowfullscreen></iframe></div></div>"
      ],
      "text/plain": [
       "<folium.folium.Map at 0x1a969e4f358>"
      ]
     },
     "execution_count": 91,
     "metadata": {},
     "output_type": "execute_result"
    }
   ],
   "source": [
    "heat_data = [[row['lat'],row['lon']] for index, row in df.iterrows()] # , row[\"Weight\"]] \n",
    "map_hooray = folium.Map(location=[4.6365, -74.0815], zoom_start = 17) # , width = 800, height = 480)\n",
    "folium.PolyLine(heat_data, maxval = 10, color=\"red\", weight=2.5, opacity=1).add_to(map_hooray)\n",
    "HeatMap(heat_data).add_to(map_hooray)\n",
    "\n",
    "#for d in range(0, len(heat_data)):\n",
    "#    folium.Marker(heat_data[d], popup= d).add_to(map_hooray)\n",
    "\n",
    "map_hooray"
   ]
  },
  {
   "cell_type": "code",
   "execution_count": 80,
   "metadata": {},
   "outputs": [
    {
     "data": {
      "text/html": [
       "<div style=\"width:100%;\"><div style=\"position:relative;width:100%;height:0;padding-bottom:60%;\"><iframe src=\"data:text/html;charset=utf-8;base64,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\" style=\"position:absolute;width:100%;height:100%;left:0;top:0;border:none !important;\" allowfullscreen webkitallowfullscreen mozallowfullscreen></iframe></div></div>"
      ],
      "text/plain": [
       "<folium.folium.Map at 0x1a969e872e8>"
      ]
     },
     "execution_count": 80,
     "metadata": {},
     "output_type": "execute_result"
    }
   ],
   "source": [
    "map_hooray"
   ]
  },
  {
   "cell_type": "code",
   "execution_count": null,
   "metadata": {},
   "outputs": [],
   "source": []
  }
 ],
 "metadata": {
  "kernelspec": {
   "display_name": "Python 3",
   "language": "python",
   "name": "python3"
  },
  "language_info": {
   "codemirror_mode": {
    "name": "ipython",
    "version": 3
   },
   "file_extension": ".py",
   "mimetype": "text/x-python",
   "name": "python",
   "nbconvert_exporter": "python",
   "pygments_lexer": "ipython3",
   "version": "3.7.3"
  }
 },
 "nbformat": 4,
 "nbformat_minor": 2
}
