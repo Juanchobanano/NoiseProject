{
 "cells": [
  {
   "cell_type": "markdown",
   "metadata": {},
   "source": [
    "# Proyecto Ruido UNAL- Proyecto 2"
   ]
  },
  {
   "cell_type": "markdown",
   "metadata": {},
   "source": [
    "**Presentador por:**\n",
    "---\n",
    "\n",
    "---\n",
    "\n",
    "- **Juan Esteban Cepeda Baena.**\n",
    "- Estudiante de Ciencias de la Computación y Administración de Empresas de la Universidad Nacional de Colombia.\n",
    "- Email: jecepedab@unal.edu.co / juancepeda.gestion@gmail.com\n",
    "- Google Site: https://sites.google.com/view/juancepeda/\n",
    "\n",
    "---\n",
    "\n",
    "- **Juan Daniel Gomez Ríos.**\n",
    "- Estudiante de Ciencias de la Computación de la Universidad Nacional de Colombia.\n",
    "- Email: judgomezri@unal.edu.co\n",
    "- Google Site: \n",
    "\n",
    "---\n",
    "\n",
    "- **Carlos Ernesto Isaza Carvajal.**\n",
    "- Estudiante de Matemáticas de la Universidad Nacional de Colombia.\n",
    "- Email: ceisazac@unal.edu.co\n",
    "- Google Site:\n",
    "\n",
    "---\n",
    "\n",
    "- **Tania Valentina Delgado Castillo.**\n",
    "- Estudiante de Ciencias de la Computación de la Universidad Nacional de Colombia.\n",
    "- Email: tvcastillod@unal.edu.co\n",
    "- Google Site:"
   ]
  },
  {
   "cell_type": "markdown",
   "metadata": {},
   "source": [
    "### 1. Introducción.\n",
    "\n",
    "---\n",
    "\n",
    "La construcción de mapas de ruido juega un papel fundamental para la adopción de planes de acción para prevenir y reducir el ruido ambiental, en especial, cuando los niveles de exposición pueden ser nocivos en la salud humana; generando enfermedades (producidas por el estrés y la ansiedad) y problemas auditivos (pérdida de la capacidad auditiva debido a los altos niveles de exposición al ruido), lo que resulta en una disminución de la calidad de vida de las personas. Este fenómeno no sólo afecta a los seres humanos, como lo demuestra el estudio realizado por la Asociación Bogotana de Ornitología en 2012, en el cual señala una grave disminución de las aves copetonas en la ciudad de Bogotá debido a que los altos niveles de ruido no le permitía a las hembras escuchar el canto de los machos (el cual utilizan los machos para atraer a las hembras) (El Tiempo, 13 de febrero 2012).\n",
    "\n",
    "El presente trabajo aborda la conceptualización, metodología y desarrollo de una serie de mapas de ruido de la Universidad Nacional de Colombia: Sede Bogotá, en donde se identifican las zonas con mayor ruido en el campus, dando cabida al desarrollo de futuros planes de acción para su control y disminución. Lo anterior resulta de gran importancia, pues autores como Guerrero (1992) enfatizan sobre los efectos negativos del ruido sobre la concentración, la cual es un proceso psíquico fundamental para el proceso de aprendizaje. Adicionalmente, se presenta un algorítmo de aprendizaje de máquina (el cual utiliza el Modelo K-vecinos más cercanos), capaz de distinguir entre ruido y no-ruido, lo cual permite categorizar de una manera más acertada las muestras de sonido tomadas en la universidad."
   ]
  },
  {
   "cell_type": "markdown",
   "metadata": {},
   "source": [
    "### 2. Estado del Arte.\n",
    "\n",
    "---\n",
    "En los últimos años se han llevado a cabo numerosos proyectos alrededor de esta problemática, en particular, se tomó como referencia el proyecto [Sounds Of New York City (SONYC)](https://wp.nyu.edu/sonyc/), el cual inició en 2015 y actualmente sigue en desarrollo. El objetivo del proyecto es comprender el comportamiento del ruido en diversos ambientes de la ciudad de Nueva York con el fin de identificar y mitigar las fuentes de contaminación acústica, esto con ayuda de una red distribuida de sensores y la participación de ciudadanos para generar informes de ruido.\n",
    "\n",
    "Algunos aspectos importantes que se desarrollan en ese proyecto son: el desarrollo de una plataforma de detección inteligente que permite el monitoreo en tiempo real del ruido, una descripción precisa de la clasificación de sonidos y el análisis de ruido a gran escala por medio de redes neuronales. Con la información obtenida se busca generar medidas de mitigación de ruido, además de intervención en zonas de manera estratégica. Finalmente, elementos como el aprendizaje automático, visualización y análisis de datos fueron importantes para el desarrollo del proyecto.\n",
    "\n",
    "Por otro lado, en Colombia se realizó una propuesta de [Diseño de red de vigilancia de ruido en los municipios del área metropolitana del Valle de Aburrá](http://www.scielo.org.co/scielo.php?script=sci_arttext&pid=S1692-33242009000100003). Esta propuesta fue hecha con el objetivo de evaluar zonas críticas que presentan altos niveles de ruido y perjudican ciertas zonas residenciales. Adicionalmente se contaba con fuentes de información como estudios previos y mapas acústicos suministrados por los planes de ordenamiento territorial (POT) del área metropolitana. Ahora bien: también es importante mencionar que la Secretaría Distrital de Ambiente en Bogotá cuenta con un sistema de monitoreo de ruido de las operaciones aéreas del Aeropuerto Internacional El Dorado. El [Sistema Automático de Monitoreo de Ruido (GEMS Global Environment Management System)](http://ambientebogota.gov.co/ruido) cuenta con tres estaciones ubicadas en diferentes puntos de la ciudad y los datos recolectados corresponden a registros de los niveles de presión sonora(dB), datos de radar y meteorológicos.\n",
    "\n",
    "<img src=\"https://s18798.pcdn.co/sonyc/wp-content/uploads/sites/2188/2015/06/CPS_diagram-1024x685.png\"\n",
    " width=\"350\" height = \"230\">\n",
    "<center><i>Figura X. Proyecto SONYC. Recuperado de: <a href = \"https://wp.nyu.edu/sonyc/\">Sonyc: Sounds of New York City</a></i></center>"
   ]
  },
  {
   "cell_type": "markdown",
   "metadata": {},
   "source": [
    "### 3. Materiales y Métodos.\n",
    "\n",
    "---\n",
    "A continuación, se describe la metodología de sensado, almacenamiento, procesamiento y análisis de los datos que se llevó cabo para construir una serie de mapas de ruido de la Universidad Nacional de Colombia: Sede Bogotá. Adicionalmente, se presenta el método que se utilizó para desarrollar y entrenar un agente de inteligencia artificial capaz de clasificar un audio entre ruido y no-ruido.\n",
    "\n",
    "**A. Sensado**: Este proceso consistió en definir la metodología y procedimiento para llevar a cabo las grabaciones de audio junto con el registro de las ubicaciones GPS. A continuación, se describe detalladamente cada aspecto del sensado:\n",
    "\n",
    "***I) Aplicaciones para tomar los registros***: Para realizar las grabaciones de audio y registrar las ubicaciones GPS del recorrido, se utilizaron las siguientes aplicaciones:\n",
    "\n",
    "1.\t[GPS Logger](https://play.google.com/store/apps/details?id=com.mendhak.gpslogger&hl=es_419): Esta aplicación permite realizar registros de la ubicación GPS en distintos formatos (csv, GeoJson, etc), el cual, luego puede ser subido a google drive u otras aplicaciones de almacenamiento. Su principal ventaja es que sigue ejecutándose aun cuando el celular se encuentra bloqueado, i.e, corre en el background. Se guardaron las localizaciones en formato CSV, con un intervalo de registro de 15 segundos (toma de muestras).\n",
    "\n",
    "2.\t [Voice Recorder](https://play.google.com/store/apps/details?id=com.splendapps.vox&hl=en_US):\n",
    "Esta aplicación permite realizar grabaciones del ambiente. Además, permite compartir los archivos de audio por medio de Google Drive, así como correo, whatsapp, etc. Los archivos de audio se guardaron en formato WAV.\n",
    "\n",
    "***II) Proceso de grabación***: Con el objetivo de estandarizar el nombre de los archivos de audio y de las ubicaciones GPS, se definió el siguiente formato: \n",
    "\n",
    "1. Nombre Archivos GPS (i.e, los archivos CSV): IDCelular-No.deGrabacion.\n",
    "2. Nombre Archivos de audio: IDCelular-No.deGrabacion-Día-HoraExacta\n",
    "\n",
    "En donde, \n",
    "\n",
    "a. IDCelular: Es un número de identificación único para cada uno de los celulares. Por ejemplo, IDCelular: 21. Así, dado el código de un archivo, se sabe qué persona lo tomó.\n",
    "\n",
    "b. No.deGrabación: Como su nombre lo indica, corresponde al número de grabación. Por ejemplo: No.deGrabación: 2.\n",
    "\n",
    "c. Día: El formato que se utilizó para registrar la fecha de los archivos fue Día/Mes, a manera de ejemplo, se registrará como 0710 (i.e 7/10 [7 de Octubre]; si el día era menor a 10, se colocaba un 0 al inicio, es decir, si el día es 7, se registraba como 07). Esto con el fin de analizar el comportamiento del mapa de ruido a lo largo de la semana.\n",
    "\n",
    "d. HoraExacta: Corresponde a la hora exacta en que se graba el audio en horas militares. A manera de ejemplo, considere HoraExacta: 0957 (i.e 9:57), ó HoraExacta: 2353 (i.e 23:53). \n",
    "\n",
    "<img src=\"https://gadgetsmalta.com/wp-content/uploads/2018/07/5_Best_Voice_Recording_Apps_For_Android_TechnoidHub.png\" width=\"350\" height = \"230\">\n",
    "<center><i>Figura X. Grabación de Audios. Recuperado de: <a href = \"https://gadgetsmalta.com\">Gadgetsmalta</a></i></center>\n",
    "\n",
    "***III) Proceso de Almacenamiento***: Los archivos CSV (GPS) y los archivos de audio se cargaron a la siguiente dirección de Google Drive: https://drive.google.com/drive/folders/1uabmwSJh3pQK10Y7Hm2TrlTVu6xsI6Hi?usp=sharing.\n",
    "\n",
    "***IV) Estandarización de audios***: Inicialmente, se tuvo la preocupación de que los distintos tipos de hardware del micrófono integrados a los celulares pudieran generar una distorsión en la comparabilidad de las muestras obtenidas, puesto a que existía la posibilidad de que algunos celulares pudiesen captar una mayor cantidad de ruido que otros. Para solucionar este problema, se procedió a grabar el mismo sonido ambiente simultáneamente con los cuatro dispositivos utilizados para realizar los mapas de ruido. Lo anterior, con el objetivo de calcular el nivel de ruido captado por cada celular, y definir planes de acción de acuerdo con las diferencias que pudiesen existir. Este proceso se discute más adelanta en la sección \"Compensación\".\n",
    "\n",
    "**B. Procesamiento de Datos**: En esta etapa se definieron las reglas para asociar cada uno de los archivos de audio con su respectivo recorrido (archivo GPS): Los archivos que contienen las ubicaciones GPS consisten en 3 columnas, a saber: Fecha, Latitud y Longitud. Así, lo que se quería, era asociar a cada fila del registro GPS, dos columnas adicionales: Ruido y Tipo de Ruido. Una vez construidas las tablas con las columnas adicionales, se procedía a guardarlas como archivos CSV en la carpeta \"Resultados\". Este algoritmo se describe detalladamente en la sección \"Procesamiento de Datos\".\n",
    "\n",
    "**C. Clasificación de audios**: Para abordar el problema de clasificación de audios (es decir, reconocer si un audio es un SONIDO o es un RUIDO), se utilizó un clasificador (k-vecinos más cercanos), y un regresor. A continuación se detalla cada uno de ellos: \n",
    "\n",
    "***K-vecinos más cercanos***: Para la clasificación de audios se utilizó la \"coherencia\" como la medida estadística base para el desarrollo del clasificador. La coherencia es una medida estadística utilizada para examinar la relación entre dos señales o dos conjuntos de datos. Adicionalmente, se emplea usualmente para estimar la transfencia de poder entre el input y el ouput de un sistema lineal. Así, la coherencia entre dos señales $x(t)$ y $y(t)$ es una función definida como: $C_{xy}(f) = {\\frac{{\\mid{ G_{xy}(f) }\\mid}^2}{G_{xx}(f)G_{yy}(f)}}$, donde $G_{xy}(f)$ es la densidad espectral cruzada entre $x$ y $y$ y $G_{xx}(f)$ y $G_{yy}(f)$ es la densidad autoespectral de $x$ y $y$ respectivamente. Así, se utilizó el método K-vecinos más cercanos o en inglés \"k-nearest neighbors (k-nn)\", en donde los objetos a comparar son las señales, y la distancia entre ellas se definió como la \"coherencia\" entre ellas y un nuevo input. Este modelo, a partir de una estimación basada en un conjunto de entrenamiento, permite calcular la función de densidad $F(x/Cj)$ de las predictoras $x$ por cada clase $Cj$ , es decir, estima el valor de la función de densidad de probabilidad de que un elemento $x$ pertenezca a la clase $Cj$.\n",
    "\n",
    "<img src=\"https://www.houseofbots.com/images/news/2542/cover.png\" width=\"400\" height = \"230\">\n",
    "<center><i>Figura X. Modelo K-vecinos más cercanos. Recuperado de: <a href = \"https://houseofbots.com\">House of Bots</a></i></center>\n",
    "\n",
    "\n",
    "***Regresión Logística:*** También se usó un modelo logístico de clasificación de ruido con el fin de tener mayor cantidad de herramientas con el fin de adoptar la que muestre mejores resultados. La regresión logística es un modelo de análisis de regresión que busca hallar una relación entre variables con el fin de predecir la categoría de una variable nueva, en este caso \"ruido\" o \"no ruido\" usando los datos de amplitud.\n",
    "<img src=\"https://conceptosclaros.com/wp-content/uploads/2018/02/modelo-matemiatico-estructura-1024x826.jpg\" width=\"400\" height = \"230\">\n",
    "<center><i>Figura Y. Interpretación Regresión Logística. Recuperado de: <a href = \"https://conceptosclaros.com\"> Conceptos Claros</a></i></center>\n",
    "\n",
    "\n",
    "\n",
    "**D. Generación de Mapas de Ruido**: Con base en las tablas generadas en la etapa de Procesamiento de Datos, se utilizó la librería Folium para generar los mapas de ruido asociados a las tablas. En particular, el plugin utilizado fue \"HeatMap\", el cual recibe como parámetro una serie de 3-tuplas, las cuales están constituídas por: (Latitud, Longitud, Peso), en donde el peso corresponde al nivel de ruido registrado en la posición GPS. Adicionalmente, con base en los resultados de los datos recolectados, se realizó una serie de simulaciones de mapas de ruido de la universidad, las cuales corresponden a los niveles de ruidos que se generan de lunes a viernes, en los horarios: 7:00 a 9:00, 9:00 a 11:00, 11:00 a 13:00, 14:00 a 16:00 y 16:00 a 18:00. Lo anterior, se presenta más adelante.\n",
    "\n",
    "<img src=\"https://miro.medium.com/max/3652/1*_mwJWphhLKix_Yh-SySboQ.png\" width=\"350\" height = \"230\">\n",
    "<center><i>Figura X. Grabación de Audios. Recuperado de: <a href = \"https://towardsdatascience.com/data-101s-spatial-visualizations-and-analysis-in-python-with-folium-39730da2adf\">Spatial Visualizations and Anlysis in Python with Folium</a></i></center>\n",
    "\n"
   ]
  },
  {
   "cell_type": "markdown",
   "metadata": {},
   "source": [
    "Las herramientas computacionales o librerías utilizadas para el desarrollo del proyecto fueron: 1) Numpy, 2) Pandas, 3) Folium, 4) Math, entre otras. A continuación se explica qué son y cómo fueron utilizadas:\n",
    "\n",
    "**1. Numpy**: es una de las librerías más importante de Python, encargada de incorporar funcionalidades de carácter matemático y vectorial. \n",
    "\n",
    "**2. Pandas**: es una extensión de Numpy desarrollada para la manipulación y análisis de datos en Python. Ofrece estructuras de datos y operaciones para manipular tablas numéricas y series temporales. Pandas se utilizó para construir las tablas ruido.\n",
    "\n",
    "**3. Folium**: es una librería que potencia la gestión y manipulación de datos en Python, permitiendo su visualización a través de un \"Leaflet map\". Esta API se utilizó para generar los mapas de ruido de la Universidad Nacional de Colombia: Sede Bogotá.\n",
    "\n",
    "**4. Math**: corresponde a una librería de Python que provee acceso a las funciones matemáticas definidas por el estándar de C. Esta librería se utilizó para calcular las distancias entre dos partículas antes de una colisión, y para calcular el ángulo de incidencia de las mismas al momento de su encuentro. Entre las funciones utilizadas se encuentra: sqrt, degrees, asin, radians, entre otros."
   ]
  },
  {
   "cell_type": "markdown",
   "metadata": {},
   "source": [
    "### 4. Resultados.\n",
    "\n",
    "---\n",
    "\n",
    "A continuación, se presenta el código del programa, el cual se distribuye en cuatro secciones, a saber: Compensación, Clasificación de audios, Procesamiento de Datos, Análisis de Datos y Simulaciones. En cada una de ellas, se explica el objetivo de la sección, y los algoritmos desarrollados para resolver cada problema."
   ]
  },
  {
   "cell_type": "code",
   "execution_count": 12,
   "metadata": {},
   "outputs": [],
   "source": [
    "# Import libraries.\n",
    "import os\n",
    "import numpy as np\n",
    "import math\n",
    "import pandas as pd\n",
    "import datetime\n",
    "import random\n",
    "import calendar\n",
    "import time\n",
    "\n",
    "import folium\n",
    "from folium import plugins\n",
    "from folium.plugins import HeatMap\n",
    "\n",
    "import scipy\n",
    "import scipy.io.wavfile\n",
    "from scipy import signal\n",
    "from playsound import playsound\n",
    "\n",
    "import warnings\n",
    "warnings.filterwarnings(\"ignore\")\n",
    "\n",
    "import matplotlib.pyplot as plt\n",
    "%matplotlib inline"
   ]
  },
  {
   "cell_type": "code",
   "execution_count": 13,
   "metadata": {},
   "outputs": [],
   "source": [
    "# Import sklearn library.\n",
    "import IPython\n",
    "from scipy import fftpack\n",
    "import csv\n",
    "import os\n",
    "import statistics as stats\n",
    "from sklearn import linear_model\n",
    "from sklearn import model_selection\n",
    "from sklearn.metrics import classification_report\n",
    "from sklearn.metrics import confusion_matrix\n",
    "from sklearn.metrics import accuracy_score\n",
    "import seaborn as sb"
   ]
  },
  {
   "cell_type": "markdown",
   "metadata": {},
   "source": [
    "**4.1 Compensación.**\n",
    "\n",
    "---\n",
    "Como se mencionó previamente, el objetivo de esta sección era determinar una plan de acción para estandarizar los niveles de ruido captados por cada celular. Así, para solucionar este problema, se procedió a grabar el mismo sonido ambiente simultáneamente con los cuatro dispositivos utilizados para llevar a cabo el sensado. Lo anterior, con el objetivo de calcular el nivel de ruido captado por cada celular. A continuación, se presentan los resultados de este ejercicio y se explican las funciones utilizadas.\n",
    "\n",
    "\n",
    "$4.1.1. getMean(array)$: Esta función recibe como parámetro una lista de valores, y retorna el promedio de los valores contenidos en ella.\n",
    "\n",
    "$4.1.2. getDB(audio_{signal})$: Esta función recibe como parámetro una señal de audio, sobre la cual se calculan los decibeles asociados al sonido. Para ello, primero se normaliza la señal, dividiendo todos los valores contenidos en la lista entre el máximo valor de la lista. Paso seguido, se aplica la función $f(x) = abs(20 * log_{10}(x))$ sobre los valores computados, i.e, los decibeles. Finalmente, se retorna una lista de decibeles.\n",
    "\n",
    "$4.1.3. getAurhot(id)$: Esta función recibe por parámetro un número (del 0 al 3), y retorna el nombre de uno de los integrantes, dependiendo de la identificación de su celular."
   ]
  },
  {
   "cell_type": "code",
   "execution_count": 14,
   "metadata": {},
   "outputs": [],
   "source": [
    "# Mean function.\n",
    "def getMean(lista):\n",
    "    suma = 0\n",
    "    for i in lista: \n",
    "        suma += i\n",
    "    return suma/len(lista)\n",
    "\n",
    "# Convert amplitude to db.\n",
    "def getDB(input_signal):\n",
    "    INCREASE = 35\n",
    "\n",
    "    if(max(input_signal) > abs(min(input_signal))): \n",
    "        max_amplitude = max(input_signal)\n",
    "    else: \n",
    "        max_amplitude = abs(min(input_signal))\n",
    "    input_signal_normalize = abs(input_signal / max_amplitude)\n",
    "\n",
    "    db = list()\n",
    "    for i in input_signal_normalize:\n",
    "        if i != 0: \n",
    "            db.append(abs(20 * math.log(abs(i), 10)) + INCREASE)\n",
    "        else:\n",
    "            db.append(0)\n",
    "    return db\n",
    "\n",
    "# Get audio-gps author.\n",
    "def getAuthor(id):\n",
    "    if id == 2: return \"Juan Esteban\"\n",
    "    elif id == 3: return \"Carlos\"\n",
    "    elif id == 4: return \"Tania\"\n",
    "    elif id == 1: return \"Daniel\""
   ]
  },
  {
   "cell_type": "code",
   "execution_count": 15,
   "metadata": {},
   "outputs": [
    {
     "name": "stdout",
     "output_type": "stream",
     "text": [
      "['Prueba-2.wav', 'prueba-3.wav', 'prueba-4.wav']\n",
      "Resultados: \n",
      "Daniel Decibels : 58.08575640203698\n",
      "Juan Esteban Decibels : 57.88565204826785\n",
      "Carlos Decibels : 58.39429498705403\n"
     ]
    }
   ],
   "source": [
    "# Set path to files.\n",
    "pathFile = \"./Pruebas Compensacion\"\n",
    "sound_files = list()\n",
    "\n",
    "# Get CSV files.\n",
    "with os.scandir(pathFile) as entries:\n",
    "    for entry in entries:\n",
    "        sound_files.append(entry.name)\n",
    "print(sound_files)\n",
    "\n",
    "print(\"Resultados: \")\n",
    "# Load audio file.\n",
    "for i in range(0, len(sound_files)):\n",
    "    (sample_rate, input_signal) = scipy.io.wavfile.read(pathFile + \"/\" + sound_files[i])\n",
    "    time_array = np.arange(0, len(input_signal)/sample_rate, 1/sample_rate)   \n",
    "    audio_duration_minutes = time_array[-1] / 60\n",
    "    try: \n",
    "        input_signal = input_signal[:,0]\n",
    "    except: \n",
    "        pass\n",
    "    print(getAuthor(i + 1), \"Decibels :\", getMean(getDB(input_signal)))"
   ]
  },
  {
   "cell_type": "markdown",
   "metadata": {},
   "source": [
    "Como se observa, los niveles de ruido captados por cada celular son muy similares, por lo cual se descartó tener que definir un plan de acción para estandarizar el micrófono de los dispositivos móviles. Con esto en mente, procedemos a trabajar en la clasificación de sonidos."
   ]
  },
  {
   "cell_type": "markdown",
   "metadata": {},
   "source": [
    "**4.2 Clasificación de Audios con el modelo K-vecinos más cercanos.**\n",
    "\n",
    "---\n",
    "Como se presentó previamente, el objetivo de esta sección es construir un clasificador que distinga un sonido de un ruido. Lo anterior, con base en una medida estadística utilizada en el procesamiento de señales conocida como la \"coherencia\" ($𝐶{xy}(𝑓), donde $x$ y $y$ son señales)$. A continuación, se explica el funcionamiento de la clase $NearestNeighbors$:\n",
    "\n",
    "4.2.1 $NearestNeighbors()$: Para el desarrollo del clasificador, se partió de la construcción de una clase. Para inicializar esta clase, es necesario indicar tres parámetros, a saber: $X$, $Y$ y $neighbors$, donde $X$ corresponde a una lista con el nombre de los audios, $Y$ corresponde a una lista con las categorías de los audios contenidos en $X$ y $neighbors$ es la cantidad de los $k$-vecinos más cercanos a encontrar por el clasificador.\n",
    "\n",
    "4.2.1.1 $init(X, y, neighbors)$: Esta función, se encarga de asignar los valores de entrada previamente enunciados, a variables locales de la clase.\n",
    "\n",
    "4.2.1.2 $processSound(sound, sound_{class})$: Este método recibe por parámetro el nombre de un archivo de audio y la clase del audio (i.e corresponde a un string que le permite determinar al clasificador si el nombre del archivo de audio pasado por parámetro pertenece al conjunto de entrenamiento o al conjunto de prueba, lo anterior, con la finalidad de construir correctamente la ruta al archivo). Paso seguido, con la librería $scipy$, se carga el audio asociado a la ruta, y posteriormente, se transforma la frecuencia de la señal a 4000Hz, de tal manera que todos los audios queden con la misma frecuencia de muestreo para facilitar su comparación\n",
    "\n",
    "4.2.1.3 $predict(sound)$: Esta función recibe por parámetro el nombre de un archivo de audio. Paso seguido, utiliza la función $processSound$ para cargar el archivo y cargar cada uno de los audios contenidos en el conjunto de entrenamiento. De esta manera, va calculando par a par la coherencia entre el input de la función $predict$ y cada uno de los archivos de entrenamiento. Una vez calculada la coherencia, procede a calcular el promedio de esta medida, la cual se va a definir con la distancia entre dichos objetos. De esta manera, la función termina por construir una lista de valores que contiene cada una de las distancias entre cada objeto del conjunto de entrenamiento y el input, sobre la cual se computan las $k$-distancias más cercanas, para luego retornar un array de dos posiciones indicando la probabilidad de que pertenezca a la clase \"RUIDO\" y a la clase \"SONIDO\".\n",
    "\n",
    "4.2.1.4 $plotResults(categories_{array})$: Esta función recibe por parámetro un array de dos posiciones cuyos valores corresponden a la probabilidad de que un cierto sonido pertenezca a la clase \"RUIDO\" y a la clase \"SONIDO\". A continuación, procede a imprimir por pantalla una gráfica de barras con esta información.\n",
    "\n",
    "4.2.2 $setLabel(filename)$: Este método recibe por parámetro el nombre de un archivo de audio. Si el nombre del archivo contiene la palabra \"ruido\", la función retorna 0; en caso contrario, retorna 1.\n"
   ]
  },
  {
   "cell_type": "code",
   "execution_count": 16,
   "metadata": {},
   "outputs": [],
   "source": [
    "class NearestNeighbors():\n",
    "    \n",
    "    # Load data.\n",
    "    def __init__(self, X, y, neighbors = 5):\n",
    "        self.sounds = X\n",
    "        self.labels = y\n",
    "        self.neighbors = neighbors\n",
    "        #print(\"Classifier initialize!\")\n",
    "        \n",
    "    def predict(self, sound):\n",
    "        \n",
    "        categories = [0, 0]\n",
    "        signal_to_predict = self.processSound(sound, \"test\")\n",
    "        similar_vector = list()\n",
    "        \n",
    "        # Compute audio similarity.\n",
    "        for s in self.sounds:\n",
    "            training_sound = self.processSound(s, \"training\")\n",
    "            fs = 10e3\n",
    "            f, Cxy = scipy.signal.coherence(signal_to_predict, training_sound, fs, nperseg=1024)\n",
    "            similar_vector.append(Cxy.mean())\n",
    "            training_sound = None\n",
    "            #print(s, Cxy.mean())\n",
    "            \n",
    "            f = None\n",
    "            Cxy = None\n",
    "            \n",
    "        # Select K-nearest neigbors.\n",
    "        temp = similar_vector.copy()\n",
    "        nearest_neighbors = list()\n",
    "        contador = 0\n",
    "        \n",
    "        while(contador < self.neighbors):\n",
    "            element = min(temp)\n",
    "            nearest_neighbors.append(element)\n",
    "            temp.remove(element)\n",
    "            contador += 1\n",
    "        \n",
    "        temp = list()\n",
    "            \n",
    "        for k in nearest_neighbors:\n",
    "            \n",
    "            index = similar_vector.index(k)\n",
    "            if labels[index] == 0: \n",
    "                categories[0] += 1\n",
    "            else: \n",
    "                categories[1] += 1\n",
    "                \n",
    "        for c in range(0, len(categories)):\n",
    "            categories[c] = categories[c] / self.neighbors #len(self.sounds)\n",
    "        \n",
    "        #print(\"Nearest Neighbors: \")\n",
    "        #print(nearest_neighbors)\n",
    "            \n",
    "        temp = list()\n",
    "        nearest_neighbors = list()\n",
    "        contador = 0\n",
    "        signal_to_predict = list()\n",
    "        similar_vector = list()\n",
    "        \n",
    "        return categories\n",
    "    \n",
    "    # Process Sound.\n",
    "    def processSound(self, sound, sound_type):\n",
    "        \n",
    "        # Load audio.\n",
    "        if(sound_type == \"training\"): pathFile =  \"./Audios/training_set/\" + str(sound)\n",
    "        else: pathFile =  \"./Audios/test_set/\" + str(sound)\n",
    "        \n",
    "        (sample_rate, input_signal) = scipy.io.wavfile.read(pathFile, mmap = True)\n",
    "\n",
    "        # Convert to mono.\n",
    "        try:\n",
    "            input_signal = input_signal[:,0]\n",
    "        except: \n",
    "            pass\n",
    "    \n",
    "        # Calculate time array (max 10 seconds).\n",
    "        #time_array = np.arange(0, len(input_signal)/sample_rate, 1/sample_rate)   \n",
    "        #audio_duration_minutes = time_array[-1] / 60\n",
    "\n",
    "        # Print audio duration.\n",
    "        #print(\"Sound ready! Duration in minutes: \", audio_duration_minutes)\n",
    "\n",
    "        # Convert input signal to 4000 hz.\n",
    "        input_signal_4000hz = [input_signal[i] for i in range(0, len(input_signal), sample_rate//4000)]\n",
    "        \n",
    "        # Return process audio.\n",
    "        #print(len(input_signal_4000hz))\n",
    "        return input_signal_4000hz\n",
    "        \n",
    "    # Get Euclidean Distance between two points.\n",
    "    \"\"\"\n",
    "    def getEuclideanDistance(self, p1, p2):\n",
    "        distance = 0\n",
    "        for i in range(0, len(p1)):\n",
    "            distance += (p1[i] - p2[i])**2\n",
    "        return math.sqrt(distance)\n",
    "    \"\"\"\n",
    "    \n",
    "    # Plot results. \n",
    "    def plotResults(self, res):\n",
    "        \n",
    "        if res[0] < res[1]: print(\"Audio classified as: NOISE.\")\n",
    "        elif res[1] < res[0]: print(\"Audio classified as: SOUND.\")\n",
    "        \n",
    "        plt.bar([\"Sound\", \"Noise\"], res, width = 0.5, hatch = \"/\", color = \"#33C1FF\", edgecolor = \"black\")\n",
    "        plt.ylabel(\"Probability\")\n",
    "        plt.title(\"Audio Classification\")\n",
    "        plt.ylim(0, 1)\n",
    "        plt.show()"
   ]
  },
  {
   "cell_type": "code",
   "execution_count": 17,
   "metadata": {},
   "outputs": [],
   "source": [
    "# Graphing helper function\n",
    "def setup_graph(title='', x_label='', y_label='', fig_size=None):\n",
    "    fig = plt.figure()\n",
    "    if fig_size != None:\n",
    "        fig.set_size_inches(fig_size[0], fig_size[1])\n",
    "    ax = fig.add_subplot(111)\n",
    "    ax.set_title(title)\n",
    "    ax.set_xlabel(x_label)\n",
    "    ax.set_ylabel(y_label)\n",
    "    \n",
    "def setLabel(file_name):\n",
    "    if(file_name.find(\"ruido\")) >= 0: return 0\n",
    "    else: return 1"
   ]
  },
  {
   "cell_type": "markdown",
   "metadata": {},
   "source": [
    "**Entrenamiento del Clasificador.**\n",
    "\n",
    "---\n",
    "A continuación, se cargan los datos de entrenamiento del clasificador, y de acuerdo al nombre del archivo, se le asigna su categoría o \"label\" correspondiente."
   ]
  },
  {
   "cell_type": "code",
   "execution_count": 18,
   "metadata": {
    "scrolled": false
   },
   "outputs": [
    {
     "name": "stdout",
     "output_type": "stream",
     "text": [
      "Noise Label: 0\n",
      "Not-Noise Label: 1\n",
      "\n",
      "Training Set:\n",
      "Audio           Label\n",
      "\n",
      "ruido_1.wav  => 0\n",
      "ruido_10.wav  => 0\n",
      "ruido_2.wav  => 0\n",
      "ruido_3.wav  => 0\n",
      "ruido_4.wav  => 0\n",
      "ruido_5.wav  => 0\n",
      "ruido_6.wav  => 0\n",
      "ruido_7.wav  => 0\n",
      "ruido_8.wav  => 0\n",
      "ruido_9.wav  => 0\n",
      "sonido_1.wav  => 1\n",
      "sonido_10.wav  => 1\n",
      "sonido_2.wav  => 1\n",
      "sonido_3.wav  => 1\n",
      "sonido_4.wav  => 1\n",
      "sonido_5.wav  => 1\n",
      "sonido_6.wav  => 1\n",
      "sonido_7.wav  => 1\n",
      "sonido_8.wav  => 1\n",
      "sonido_9.wav  => 1\n",
      "\n"
     ]
    }
   ],
   "source": [
    "# Load Training data.\n",
    "sound_files = list()\n",
    "with os.scandir(\"./Audios/training_set\") as entries:\n",
    "    for entry in entries:\n",
    "        sound_files.append(entry.name)\n",
    "\n",
    "labels = list()\n",
    "for s in sound_files:\n",
    "    labels.append(setLabel(s))\n",
    "    \n",
    "print(\"Noise Label: 0\")\n",
    "print(\"Not-Noise Label: 1\")\n",
    "print(\"\")\n",
    "print(\"Training Set:\")\n",
    "print(\"Audio\", \"          Label\")\n",
    "print(\"\")\n",
    "for s in sound_files:\n",
    "    print(s, \" => \" + str(labels[sound_files.index(s)]))\n",
    "print(\"\")\n"
   ]
  },
  {
   "cell_type": "markdown",
   "metadata": {},
   "source": [
    "**Testeo y Optimización del Clasificador.**\n",
    "\n",
    "---\n",
    "En esta subsección, se carga el conjunto de datos de prueba, y se procede a computar el mejor valor de $k$, en donde $k$ corresponde a la cantidad de vecinos más cercanos que utilizará el clasificiador. "
   ]
  },
  {
   "cell_type": "code",
   "execution_count": 19,
   "metadata": {},
   "outputs": [],
   "source": [
    "# Load Test data.\n",
    "test_data = list()\n",
    "with os.scandir(\"./Audios/test_set\") as entries:\n",
    "    for entry in entries:\n",
    "        test_data.append(entry.name)"
   ]
  },
  {
   "cell_type": "code",
   "execution_count": 20,
   "metadata": {
    "scrolled": true
   },
   "outputs": [
    {
     "name": "stdout",
     "output_type": "stream",
     "text": [
      "Test Data\n",
      "\n",
      "ruido_11.wav\n",
      "ruido_12.wav\n",
      "ruido_13.wav\n",
      "ruido_14.wav\n",
      "ruido_15.wav\n",
      "sonido_11.wav\n",
      "sonido_12.wav\n",
      "sonido_13.wav\n",
      "sonido_14.wav\n",
      "sonido_15.wav\n"
     ]
    }
   ],
   "source": [
    "print(\"Test Data\")\n",
    "print(\"\")\n",
    "for s in test_data:\n",
    "    print(s)"
   ]
  },
  {
   "cell_type": "code",
   "execution_count": 186,
   "metadata": {},
   "outputs": [
    {
     "name": "stdout",
     "output_type": "stream",
     "text": [
      "\n",
      "Number of Neighbors:  3\n",
      "Accuracy Rate:  0.4\n",
      "Error Rate:  0.6\n",
      "Sensitivty:  0.429\n",
      "Specificity:  0.333\n",
      "---\n",
      "\n",
      "Number of Neighbors:  4\n",
      "Accuracy Rate:  0.4\n",
      "Error Rate:  0.6\n",
      "Sensitivty:  0.429\n",
      "Specificity:  0.333\n",
      "---\n",
      "\n",
      "Number of Neighbors:  5\n",
      "Accuracy Rate:  0.6\n",
      "Error Rate:  0.4\n",
      "Sensitivty:  0.6\n",
      "Specificity:  0.6\n",
      "---\n",
      "\n",
      "Number of Neighbors:  6\n",
      "Accuracy Rate:  0.7\n",
      "Error Rate:  0.3\n",
      "Sensitivty:  0.625\n",
      "Specificity:  1.0\n",
      "---\n",
      "\n",
      "Number of Neighbors:  7\n",
      "Accuracy Rate:  0.5\n",
      "Error Rate:  0.5\n",
      "Sensitivty:  0.5\n",
      "Specificity:  0.5\n",
      "---\n",
      "\n",
      "Number of Neighbors:  8\n",
      "Accuracy Rate:  0.7\n",
      "Error Rate:  0.3\n",
      "Sensitivty:  0.625\n",
      "Specificity:  1.0\n",
      "---\n",
      "\n",
      "Number of Neighbors:  9\n",
      "Accuracy Rate:  0.8\n",
      "Error Rate:  0.2\n",
      "Sensitivty:  0.714\n",
      "Specificity:  1.0\n",
      "---\n"
     ]
    }
   ],
   "source": [
    "# Optimizing the model.\n",
    "for k in range(3, 10):\n",
    "\n",
    "    # Initialize the model.\n",
    "    model = NearestNeighbors(sound_files, labels, neighbors = k)\n",
    "\n",
    "    # Predict sound category of test data and compute confusion matrix.\n",
    "    confusion_matrix = [[0, 0], [0, 0]]\n",
    "    for sound in test_data:   \n",
    "        if sound.find(\"ruido\"):\n",
    "            actual_label = 0\n",
    "        else: \n",
    "            actual_label = 1\n",
    "        res = model.predict(sound)\n",
    "        predicted_label = res.index(max(res))\n",
    "        confusion_matrix[actual_label][predicted_label] += 1\n",
    "\n",
    "    # Compute accuracy rate.\n",
    "    accuracy_rate = (confusion_matrix[0][0] + confusion_matrix[1][1]) \n",
    "    accuracy_rate /= len(test_data)\n",
    "\n",
    "    # Compute Error Rate.\n",
    "    error_rate = (confusion_matrix[0][1] + confusion_matrix[1][0])\n",
    "    error_rate /= len(test_data)\n",
    "\n",
    "    # Sensitivity.\n",
    "    sensitivity = confusion_matrix[0][0] / (confusion_matrix[0][0] + confusion_matrix[1][0])\n",
    "\n",
    "    # Specificity\n",
    "    specificity = confusion_matrix[1][1] / (confusion_matrix[1][1] + confusion_matrix[0][1])\n",
    "\n",
    "    print(\"\")\n",
    "    print(\"Number of Neighbors: \", k)\n",
    "    print(\"Accuracy Rate: \", accuracy_rate)\n",
    "    print(\"Error Rate: \", error_rate)\n",
    "    print(\"Sensitivty: \", round(sensitivity, 3))\n",
    "    print(\"Specificity: \",  round(specificity, 3))\n",
    "    print(\"---\")"
   ]
  },
  {
   "cell_type": "markdown",
   "metadata": {},
   "source": [
    "Así, por la optimización previa, se determinó utilizar nueve vecinos ($k = 9$) para inicializar el modelo de clasificación."
   ]
  },
  {
   "cell_type": "markdown",
   "metadata": {},
   "source": [
    "**Prueba interactiva.**\n",
    "\n",
    "---\n",
    "Antes de ejecutar el código de la siguiente casilla, recomendamos ponerse audífonos; el objetivo de esta pequeña sección, es que el lector escuche cada uno de los audios del conjunto de prueba, y en tiempo real pueda observar cuál es la categoría que le asigna el clasificador."
   ]
  },
  {
   "cell_type": "code",
   "execution_count": 21,
   "metadata": {
    "scrolled": false
   },
   "outputs": [
    {
     "name": "stdout",
     "output_type": "stream",
     "text": [
      "-----\n",
      "File name:  ruido_11.wav\n",
      "Audio classified as: NOISE.\n"
     ]
    },
    {
     "data": {
      "image/png": "[encoded data removed]",
      "text/plain": [
       "<Figure size 432x288 with 1 Axes>"
      ]
     },
     "metadata": {
      "needs_background": "light"
     },
     "output_type": "display_data"
    },
    {
     "name": "stdout",
     "output_type": "stream",
     "text": [
      "-----\n",
      "-----\n",
      "File name:  ruido_12.wav\n",
      "Audio classified as: SOUND.\n"
     ]
    },
    {
     "data": {
      "image/png": "[encoded data removed]",
      "text/plain": [
       "<Figure size 432x288 with 1 Axes>"
      ]
     },
     "metadata": {
      "needs_background": "light"
     },
     "output_type": "display_data"
    },
    {
     "name": "stdout",
     "output_type": "stream",
     "text": [
      "-----\n",
      "-----\n",
      "File name:  ruido_13.wav\n",
      "Audio classified as: NOISE.\n"
     ]
    },
    {
     "data": {
      "image/png": "[encoded data removed]",
      "text/plain": [
       "<Figure size 432x288 with 1 Axes>"
      ]
     },
     "metadata": {
      "needs_background": "light"
     },
     "output_type": "display_data"
    },
    {
     "name": "stdout",
     "output_type": "stream",
     "text": [
      "-----\n",
      "-----\n",
      "File name:  ruido_14.wav\n",
      "Audio classified as: NOISE.\n"
     ]
    },
    {
     "data": {
      "image/png": "[encoded data removed]",
      "text/plain": [
       "<Figure size 432x288 with 1 Axes>"
      ]
     },
     "metadata": {
      "needs_background": "light"
     },
     "output_type": "display_data"
    },
    {
     "name": "stdout",
     "output_type": "stream",
     "text": [
      "-----\n",
      "-----\n",
      "File name:  ruido_15.wav\n",
      "Audio classified as: SOUND.\n"
     ]
    },
    {
     "data": {
      "image/png": "[encoded data removed]",
      "text/plain": [
       "<Figure size 432x288 with 1 Axes>"
      ]
     },
     "metadata": {
      "needs_background": "light"
     },
     "output_type": "display_data"
    },
    {
     "name": "stdout",
     "output_type": "stream",
     "text": [
      "-----\n",
      "-----\n",
      "File name:  sonido_11.wav\n",
      "Audio classified as: SOUND.\n"
     ]
    },
    {
     "data": {
      "image/png": "[encoded data removed]",
      "text/plain": [
       "<Figure size 432x288 with 1 Axes>"
      ]
     },
     "metadata": {
      "needs_background": "light"
     },
     "output_type": "display_data"
    },
    {
     "name": "stdout",
     "output_type": "stream",
     "text": [
      "-----\n",
      "-----\n",
      "File name:  sonido_12.wav\n",
      "Audio classified as: SOUND.\n"
     ]
    },
    {
     "data": {
      "image/png": "[encoded data removed]",
      "text/plain": [
       "<Figure size 432x288 with 1 Axes>"
      ]
     },
     "metadata": {
      "needs_background": "light"
     },
     "output_type": "display_data"
    },
    {
     "name": "stdout",
     "output_type": "stream",
     "text": [
      "-----\n",
      "-----\n",
      "File name:  sonido_13.wav\n",
      "Audio classified as: SOUND.\n"
     ]
    },
    {
     "data": {
      "image/png": "[encoded data removed]",
      "text/plain": [
       "<Figure size 432x288 with 1 Axes>"
      ]
     },
     "metadata": {
      "needs_background": "light"
     },
     "output_type": "display_data"
    },
    {
     "name": "stdout",
     "output_type": "stream",
     "text": [
      "-----\n",
      "-----\n",
      "File name:  sonido_14.wav\n",
      "Audio classified as: SOUND.\n"
     ]
    },
    {
     "data": {
      "image/png": "[encoded data removed]",
      "text/plain": [
       "<Figure size 432x288 with 1 Axes>"
      ]
     },
     "metadata": {
      "needs_background": "light"
     },
     "output_type": "display_data"
    },
    {
     "name": "stdout",
     "output_type": "stream",
     "text": [
      "-----\n",
      "-----\n",
      "File name:  sonido_15.wav\n",
      "Audio classified as: SOUND.\n"
     ]
    },
    {
     "data": {
      "image/png": "[encoded data removed]",
      "text/plain": [
       "<Figure size 432x288 with 1 Axes>"
      ]
     },
     "metadata": {
      "needs_background": "light"
     },
     "output_type": "display_data"
    },
    {
     "name": "stdout",
     "output_type": "stream",
     "text": [
      "-----\n",
      "\n",
      "MODEL STATS:\n",
      "\n",
      "Number of Neighbors:  9\n",
      "Accuracy Rate:  0.8\n",
      "Error Rate:  0.2\n",
      "Sensitivity:  0.714\n",
      "Specificity:  1.0\n"
     ]
    }
   ],
   "source": [
    "# Best parameter.\n",
    "k = 9\n",
    "\n",
    "# Initialize the model.\n",
    "model = NearestNeighbors(sound_files, labels, neighbors = k)\n",
    "\n",
    "# Predict sound category of test data and compute confusion matrix.\n",
    "confusion_matrix = [[0, 0], [0, 0]]\n",
    "for sound in test_data:   \n",
    "    print(\"-----\")\n",
    "    print(\"File name: \", sound)\n",
    "    \n",
    "    playsound(\"./Audios/test_set/\" + sound)\n",
    "    if sound.find(\"ruido\"):\n",
    "        actual_label = 0\n",
    "    else: \n",
    "        actual_label = 1\n",
    "    res = model.predict(sound)\n",
    "    model.plotResults(res)\n",
    "    print(\"-----\")\n",
    "    predicted_label = res.index(max(res))\n",
    "    confusion_matrix[actual_label][predicted_label] += 1\n",
    "    time.sleep(1.5)\n",
    "\n",
    "# Compute accuracy rate.\n",
    "accuracy_rate = (confusion_matrix[0][0] + confusion_matrix[1][1]) \n",
    "accuracy_rate /= len(test_data)\n",
    "\n",
    "# Compute Error Rate.\n",
    "error_rate = (confusion_matrix[0][1] + confusion_matrix[1][0])\n",
    "error_rate /= len(test_data)\n",
    "\n",
    "# Sensitivity.\n",
    "sensitivity = confusion_matrix[0][0] / (confusion_matrix[0][0] + confusion_matrix[1][0])\n",
    "\n",
    "# Specificity\n",
    "specificity = confusion_matrix[1][1] / (confusion_matrix[1][1] + confusion_matrix[0][1])\n",
    "\n",
    "print(\"\")\n",
    "print(\"MODEL STATS:\")\n",
    "print(\"\")\n",
    "\n",
    "print(\"Number of Neighbors: \", k)\n",
    "print(\"Accuracy Rate: \", accuracy_rate)\n",
    "print(\"Error Rate: \", error_rate)\n",
    "print(\"Sensitivity: \", round(sensitivity, 3))\n",
    "print(\"Specificity: \",  round(specificity, 3))"
   ]
  },
  {
   "cell_type": "markdown",
   "metadata": {},
   "source": [
    "Por último, es importante señalar que el clasificador de sonidos y ruidos desarrollado en esta sección, no se utilizó al momento de procesar los audios registrados; lo anterior, se debe a que la baja calidad de los audios no permitía una correcta clasificación de los mismos; resultando en que todos eran clasificados como ruido."
   ]
  },
  {
   "cell_type": "markdown",
   "metadata": {},
   "source": [
    "**4.3. Clasificación de Datos con Regresión Logística**\n",
    "\n",
    "---\n",
    "Debido a las limitaciones que tiene el modelo k-vecinos, construimos el siguiente clasificador de audio con el método de regresión logística. La dinámica fue grabar varios audios que correspondieran a \"ruido\" y varios otros que correspondieran a \"no ruido\" esperando que las nuevas entradas de audio fueran clasificadas en estas dos categorías. Para ello usaremos los datos del valor máximo y mínimo de la amplitud así como su promedio y desviación estándar."
   ]
  },
  {
   "cell_type": "markdown",
   "metadata": {},
   "source": [
    "**IMPORTANTE: Esta sección no se puede ejecutar debido a que los archivos de audio y GPS que fueron tomados, se decidieron remover de esta carpeta debido a su peso (> 1.5 GB). Si desea consultar los archivos utilizados, estos se encuentran disponible en el siguiente enlace: https://drive.google.com/drive/folders/1uabmwSJh3pQK10Y7Hm2TrlTVu6xsI6Hi?usp=sharing. Adicionalmente, en caso en que quiera ver el funcionamiento del clasificador, puede correr el código del siguiente notebook: https://colab.research.google.com/drive/1CfhLau-orer5v4V-bEHasNKhdTqwLJgJ#scrollTo=MpxjPDcUuxKG**."
   ]
  },
  {
   "cell_type": "code",
   "execution_count": null,
   "metadata": {},
   "outputs": [],
   "source": [
    "pathFile =  \"/content/drive/My Drive/NoiseProject/Test/Test con 3-8\"\n",
    "sound_files = list()\n",
    "\n",
    "# Get CSV files.\n",
    "with os.scandir(pathFile) as entries:\n",
    "    for entry in entries:\n",
    "        if(entry.name.find(\"wav\") > 0):\n",
    "            sound_files.append(entry.name)\n",
    "print(sound_files)\n",
    "\n",
    "mini=list()\n",
    "maxi=list()\n",
    "prom=list()\n",
    "dsv=list()\n",
    "var=list()\n",
    "clase = list()\n",
    "\n",
    "# Grafica las muestras y crea los vectores con las estadisticas.\n",
    "for i in sound_files:  \n",
    "    (rate, audio) = scipy.io.wavfile.read('/content/drive/My Drive/NoiseProject/Test/Test con 3-8/'+i)  \n",
    "    if(i[-5]=='3'):\n",
    "        audio=audio[:,0] #Audios en esterios\n",
    "    time_array = np.arange(0, len(audio)/rate, 1/rate)\n",
    "    setup_graph(title= i, x_label='time (in seconds)', y_label='amplitude', fig_size=(14,7))\n",
    "    _ = plt.plot(time_array, audio)\n",
    "\n",
    "    mini.append(audio.min())\n",
    "    maxi.append(audio.max())\n",
    "    prom.append(audio.mean())\n",
    "    dsv.append(audio.std())\n",
    "    if(i[0:5]=='ruido'): \n",
    "        clase.append(1)\n",
    "    else: clase.append(0)"
   ]
  },
  {
   "cell_type": "code",
   "execution_count": null,
   "metadata": {},
   "outputs": [],
   "source": [
    "# Creación de csv con estadísticas.\n",
    "dicc = {'clase': clase,'max': maxi, 'min':mini,'prom':prom, 'dsv':dsv}\n",
    "df1 = pd.DataFrame(dicc)\n",
    "df1.to_csv('/content/drive/My Drive/NoiseProject/Test/Test con 3-8/data2.csv',  index=False)\n",
    "\n",
    "# Apertura de CVS con estadísticas.\n",
    "dataframe = pd.read_csv(r\"/content/drive/My Drive/NoiseProject/Test/Test con 3-8/data2.csv\")\n",
    "dataframe.head()"
   ]
  },
  {
   "cell_type": "code",
   "execution_count": null,
   "metadata": {},
   "outputs": [],
   "source": [
    "# Creación de vector con estadísticas y vector con clasificación.\n",
    "X = np.array(dataframe.drop(['clase'],1))\n",
    "y = np.array(dataframe['clase'])\n",
    "X.shape"
   ]
  },
  {
   "cell_type": "code",
   "execution_count": null,
   "metadata": {},
   "outputs": [],
   "source": [
    "# Creación de datos de entrenamiento y de test.\n",
    "validation_size = 0.20\n",
    "seed = 7\n",
    "X_train, X_validation, Y_train, Y_validation = model_selection.train_test_split(X, y, test_size=validation_size, random_state=seed)\n",
    "\n",
    "#creacion del modelo\n",
    "model = linear_model.LogisticRegression()\n",
    "model.fit(X_train,Y_train)"
   ]
  },
  {
   "cell_type": "code",
   "execution_count": null,
   "metadata": {},
   "outputs": [],
   "source": [
    "# Ajuste del modelo.\n",
    "name='Logistic Regression'\n",
    "kfold = model_selection.KFold(n_splits=10, random_state=seed)\n",
    "cv_results = model_selection.cross_val_score( model, X_train, Y_train, cv=kfold, scoring='accuracy')\n",
    "msg = \"%s: %f (%f)\" % (name, cv_results.mean(), cv_results.std())\n",
    "print(msg)\n",
    "\n",
    "# Validación del modelo.\n",
    "predictions = model.predict(X)\n",
    "print(accuracy_score(predictions,y ))\n",
    "\n",
    "# Estadisticas de la validación del modelo.\n",
    "print(classification_report(y, predictions))"
   ]
  },
  {
   "cell_type": "markdown",
   "metadata": {},
   "source": [
    "**4.3.1 Procesamiento de Datos sin Clasificación de Audios.**\n",
    "\n",
    "---\n",
    "Como se indicó previamente, el objetivo de esta sección es definir las reglas para asociar cada uno de los archivos de audio con su respectivo recorrido (archivo GPS): A continuación se describe cada una de las funciones, y el funcionamiento general del algoritmo. \n",
    " \n",
    "4.3.1. $noise_{levels}(decibels):$ Esta función recibe por parámetro un número real, que corresponde a los decibeles asociados a un determinado sonido. Paso seguido, dependiendo del nivel de ruido, la función retorna un string indicando el tipo de sonido al que corresponde dicho nivel de ruido.\n",
    "\n",
    "4.3.2. $convertToDatetime(date):$ Este método recibe por parámetro un string que contiene una fecha. A continuación, retorna un $datetime$ en el formato '%Y-%m-%d %H:%M:%S'.\n",
    "\n",
    "4.3.3. $addSecondsColumn(dataframe):$ Esta función recibe por parámetro un dataframe que contiene tres columnas, a saber: time (Tiempo), lat (Latitud) y lon (Longitud). A continuación, procede a convertir los string de fechas de la columna Tiempo a un $datetime$ en el formato '%Y-%m-%d %H:%M:%S', para luego, calcular la diferencia de tiempos par a par de cada fecha registrada. Finalmente, se retorna un nuevo dataframe, constituído por cuatro columnas: time, lat, lon, seconds, en donde los valores de la columna time son $datetimes$ y los vaores de la columna seconds corresponde a la diferencia de segundos par a par de cada fecha registrada.\n",
    "\n",
    "4.3.4. $getNoiseDataframe(df, time_{array}, input_{signal})$: Esta función recibe por parámetro un dataframe, una lista de tiempo y una señal. A continuación, la función procede a computar la mayor amplitud registrada en el arreglo $input_{signal}$, para luego, al momento de iterar sobre las filas del dataframe, normalizar los valores asociados a los valores extraídos del $input_signal$. Una vez extraído y normalizado dicho valor, se calculaba su nivel de decibeles. Finalmente, se retorna el dataframe original, con dos columnas adicionales, \"Noise\" y \"Description\", en donde se indica el nivel de ruido asociado a cada posición GPS registrada y la descripción de dicho ruido respectivamente."
   ]
  },
  {
   "cell_type": "markdown",
   "metadata": {},
   "source": [
    "**IMPORTANTE: Esta sección no se puede ejecutar debido a que los archivos de audio y GPS que fueron tomados, se decidieron remover de esta carpeta debido a su peso (> 1.5 GB). Si se desea consultar, se encuentran disponible en el siguiente enlace: https://drive.google.com/drive/folders/1uabmwSJh3pQK10Y7Hm2TrlTVu6xsI6Hi?usp=sharing.**"
   ]
  },
  {
   "cell_type": "code",
   "execution_count": 8,
   "metadata": {},
   "outputs": [],
   "source": [
    "# Noise Levels Messages.\n",
    "def noise_levels(db):\n",
    "    if(db <= 10): return \"Casi tranquilo, respirando\"\n",
    "    elif(db > 10 and db <= 20): return \"Hojas que aherrumbran, reloj que hace tictac\"\n",
    "    elif(db > 20 and db <= 30): return \"Susurro, zona rural tranquila\"\n",
    "    elif(db > 30 and db <= 40): return \"Biblioteca silenciosa, llamadas de aves\"\n",
    "    elif(db > 40 and db <= 50): return \"Oficina tranquila, lluvias moderadas\"\n",
    "    elif(db > 50 and db <= 60): return \"Conversacion normal\"\n",
    "    elif(db > 60 and db <= 70): return \"Trafico Ocupado, aspirador\"\n",
    "    elif(db > 70 and db <= 80): return \"Musica de la carga, despertadores\"\n",
    "    elif(db > 80 and db <= 90): return \"Carro diesel, cortacespedes\"\n",
    "    elif(db > 90 and db <= 100): return \"Motocicleta, secador de soplo\"\n",
    "    elif(db > 100 and db <= 110): return \"Conciertos, nino gritando\"\n",
    "    elif(db > 110 and db <= 120): return \"Umbral de dolor, trueno\"\n",
    "\n",
    "# Convert string to datetime.\n",
    "def convertToDatetime(date):\n",
    "    date = date.replace(\"T\", \" \").replace(\"Z\", \" \")[:19]\n",
    "    date = datetime.datetime.strptime(date, '%Y-%m-%d %H:%M:%S')\n",
    "    return date\n",
    "\n",
    "def addSecondsColumn(df):\n",
    "\n",
    "    df2 = pd.DataFrame()\n",
    "    for i in range(0, len(df) - 1):\n",
    "        d1 = convertToDatetime(df[\"time\"].iloc[i])\n",
    "        d2 = convertToDatetime(df[\"time\"].iloc[i+1])\n",
    "        diff = abs((d2-d1).seconds)\n",
    "        data = df.iloc[i]\n",
    "      \n",
    "        if diff <= 1000:\n",
    "            new_row = [d1 - datetime.timedelta(hours = 5), data[\"lat\"], data[\"lon\"], diff]\n",
    "            df2 = df2.append([new_row], ignore_index=True)\n",
    "\n",
    "    df2.columns=[\"time\", \"lat\", \"lon\", \"seconds\"]\n",
    "    return df2\n",
    "\n",
    "\n",
    "def getNoiseDataframe(df, time_array, input_signal):\n",
    "\n",
    "    # Initialize noise dataframe.\n",
    "    noise = pd.DataFrame()\n",
    "\n",
    "    # Seconds counter.\n",
    "    seconds = 0\n",
    "    \n",
    "    print(\"Procesando... puede tomar un tiempo.\")\n",
    "    \n",
    "    # Compute max amplitude.\n",
    "    if(max(input_signal) > abs(min(input_signal))): \n",
    "        max_amplitude = max(input_signal)\n",
    "    else: \n",
    "        max_amplitude = abs(min(input_signal))\n",
    "        \n",
    "    #input_signal_normalize = abs(input_signal / max_amplitude)\n",
    "    \n",
    "    # Process noise levels associate with time.\n",
    "    for i in range(0, len(df)): #len(df)\n",
    "\n",
    "        # Get audio partition.\n",
    "        audio_partition = input_signal[seconds]\n",
    "        audio_partition /= max_amplitude\n",
    "        #print(\"Audion partition: \", audio_partition)\n",
    "\n",
    "        # Compute dB of audio partition.\n",
    "        INCREASE = 40\n",
    "        decibeles = abs(20 * math.log(abs(i) + 1, 10)) + INCREASE\n",
    "        #print(decibeles)\n",
    "\n",
    "        # Append analysis \n",
    "        noise = noise.append([[decibeles/100, noise_levels(decibeles)]], ignore_index = True)\n",
    "\n",
    "        # Increase seconds.\n",
    "        seconds += df.iloc[i][3]\n",
    "\n",
    "    noise.columns=[\"Noise\", \"Description\"]\n",
    "    return noise"
   ]
  },
  {
   "cell_type": "code",
   "execution_count": null,
   "metadata": {},
   "outputs": [],
   "source": [
    "# Load audio & GPS files.\n",
    "pathFile =  \"./Almacenamiento de Audios y GPS/\"\n",
    "csv_files = list()\n",
    "sound_files = list()\n",
    "\n",
    "# Get CSV files.\n",
    "with os.scandir(pathFile) as entries:\n",
    "    for entry in entries:\n",
    "        if(entry.name.find(\"csv\") > 0):\n",
    "            csv_files.append(entry.name)\n",
    "            sound_files.append(entry.name[0:3])"
   ]
  },
  {
   "cell_type": "code",
   "execution_count": null,
   "metadata": {},
   "outputs": [],
   "source": [
    "for i in range(0, len(csv_files)):\n",
    "        \n",
    "    # Print author and info.\n",
    "    print(\"Autor: \", getAuthor(int(csv_files[i][0])))\n",
    "    print(csv_files[i])\n",
    "    print(sound_files[i])\n",
    "    \n",
    "    # Set gps and sound path file.\n",
    "    gpsPath = pathFile + csv_files[i] \n",
    "    soundPath = pathFile + sound_files[i] + \".wav\"\n",
    "    \n",
    "    # Get date, hour & compensation.\n",
    "    date = csv_files[i][4:8]\n",
    "    hour = csv_files[i][9:13]\n",
    "    compensation = int(csv_files[i][14])\n",
    "    print(\"Date: \", date, \", Hour: \", hour)\n",
    "\n",
    "    try:\n",
    "        df = pd.read_csv(gpsPath, delimiter=\";\", error_bad_lines=False)\n",
    "        df = addSecondsColumn(df)\n",
    "    except:\n",
    "        df = pd.read_csv(gpsPath, delimiter=\",\", error_bad_lines=False)\n",
    "        df = addSecondsColumn(df)\n",
    "    #print(df.head(10))\n",
    "    \n",
    "    # Load audio file.\n",
    "    (sample_rate, input_signal) = scipy.io.wavfile.read(pathFile + sound_files[i] + \".wav\", mmap = True)\n",
    "    time_array = np.arange(0, len(input_signal)/sample_rate, 1/sample_rate)   \n",
    "    audio_duration_minutes = time_array[-1] / 60\n",
    "    print(\"Sound ready! Duration in minutes: \", audio_duration_minutes)\n",
    "    \n",
    "    # Converting input signal if neccesary.\n",
    "    if(author(int(csv_files[i][0])) == \"Carlos\"):\n",
    "        input_signal = input_signal[:,0]\n",
    "    \n",
    "    # Append noise dataframe to dataframe.\n",
    "    noise = getNoiseDataframe(df, time_array, input_signal)\n",
    "    print(\"Noise computation ready!\")\n",
    "    \n",
    "    df = df.join(noise)\n",
    "    print(\"CSV Saved!\")\n",
    "    df.to_csv(\"./Resultados/\" + csv_files[i].replace(\".csv\", \"\") + \"-results.csv\")\n",
    "    \n",
    "    print(\"------\")"
   ]
  },
  {
   "cell_type": "markdown",
   "metadata": {},
   "source": [
    "**4.3.2 Clasificación de Datos con Regresor Logístico.**\n",
    "___\n",
    "\n",
    "Como vimos anteriormente el modelo de regresión logística tuvo mejores resultados que el método de k-vecinos. Por ello haremos uso de él para clasificar los audios recolectados. Como los datos de los audios ya están procesados bastará con dividir el audio en la misma cantidad de datos almacenados de ubicación gps y para cada una aplicar el clasificador y predecir a que categoría pertenece (\"ruido\" o \"no ruido\"), y en caso de ser \"no ruido\" cambiar el dato de decibeles a 0 para evitar que sea tomado en cuenta al momento de hacer el mapeo del ruido."
   ]
  },
  {
   "cell_type": "markdown",
   "metadata": {},
   "source": [
    "**IMPORTANTE: Esta sección no se puede ejecutar debido a que los archivos de audio y GPS que fueron tomados, se decidieron remover de esta carpeta debido a su peso (> 1.5 GB). Si desea consultar los archivos utilizados, estos se encuentran disponible en el siguiente enlace: https://drive.google.com/drive/folders/1uabmwSJh3pQK10Y7Hm2TrlTVu6xsI6Hi?usp=sharing. Adicionalmente, en caso en que quiera ver el funcionamiento del clasificador, puede correr el código del siguiente notebook: https://colab.research.google.com/drive/1CfhLau-orer5v4V-bEHasNKhdTqwLJgJ#scrollTo=MpxjPDcUuxKG**."
   ]
  },
  {
   "cell_type": "code",
   "execution_count": null,
   "metadata": {},
   "outputs": [],
   "source": [
    "# Load audio & GPS files.\n",
    "pathFile =  \"./Almacenamiento de Audios y GPS/\"\n",
    "pathFile_csv =  \"./Resultados2\"\n",
    "csv_files = list()\n",
    "sound_files = list()\n",
    "\n",
    "# Get CSV files.\n",
    "with os.scandir(pathFile_csv) as entries:\n",
    "    for entry in entries:\n",
    "        if(entry.name.find(\"csv\") > 0):\n",
    "            if(entry.name[0:1] != 'p' and entry.name[0:1] != 'P' ):\n",
    "                csv_files.append(entry.name)\n",
    "\n",
    "# Get WAV files\n",
    "with os.scandir(pathFile) as entries:\n",
    "    for entry in entries:\n",
    "        if(entry.name.find(\"wav\") > 0):\n",
    "            if(entry.name[0:1] != 'p' and entry.name[0:1] != 'P' and entry.name[0:3] != '1-6'):\n",
    "                sound_files.append(entry.name)\n",
    "\n",
    "sound_files.sort()\n",
    "sound_files.sort()\n",
    "csv_files.sort()\n",
    "\n",
    "print(csv_files)\n",
    "print(sound_files)"
   ]
  },
  {
   "cell_type": "code",
   "execution_count": null,
   "metadata": {},
   "outputs": [],
   "source": [
    "# FUNCIÓN QUE DIVIDE AUDIO.\n",
    "def dividirMuestra(audio):  # arreglo con [tasa de muestreo, datos]\n",
    "    samples_sonido = list()\n",
    "    partition = 30          # cada cuanto tiempo se realizan las particiones, en segundos\n",
    "    i = 0\n",
    "    f = audio[0]            # tasa de muestreo\n",
    "    time = int(len(audio[1])/audio[0])    # duración del audio en segundos\n",
    "    for k in range(int(time/partition)):\n",
    "        muestra = audio[1][i:f]\n",
    "        samples_sonido.append([muestra])\n",
    "        i += audio[0]\n",
    "        f += audio[0]\n",
    "    return (samples_sonido)\n",
    "\n",
    "#NORMALIZACIÓN DE DATOS\n",
    "def normalizarDatos(df): # pd.DataFrame\n",
    "    scaler = MinMaxScaler()\n",
    "    scaled_df = scaler.fit_transform(df)\n",
    "    scaled_df = pd.DataFrame(scaled_df, columns=['max', 'min', 'prom', 'dsv'])\n",
    "    return scaled_df\n",
    "\n",
    "# CLASIFICACIÓN DE RUIDO\n",
    "def predict(audio):\n",
    "    mini=list()\n",
    "    maxi=list()\n",
    "    prom=list()\n",
    "    dsv=list()\n",
    "\n",
    "    for i in audio:  \n",
    "        audio = i[0]  \n",
    "        mini.append(audio.min())\n",
    "        maxi.append(audio.max())\n",
    "        prom.append(audio.mean())\n",
    "        dsv.append(audio.std())\n",
    "\n",
    "    data = pd.DataFrame({'max': maxi, 'min':mini,'prom':prom, 'dsv':dsv})\n",
    "    scaled_df = normalizarDatos(data)\n",
    "\n",
    "    prediction = model.predict(scaled_df)\n",
    "    return (prediction)"
   ]
  },
  {
   "cell_type": "code",
   "execution_count": null,
   "metadata": {},
   "outputs": [],
   "source": [
    "predictions_ = list()\n",
    "time = list()\n",
    "\n",
    "for i in sound_files:\n",
    "    pathFile_ =  \"/content/drive/My Drive/NoiseProject/Almacenamiento de Audios y GPS/\"\n",
    "    (sample_rate, sample_data) = scipy.io.wavfile.read(pathFile_+i)\n",
    "\n",
    "    audio = [sample_rate, sample_data]\n",
    "    samples_sonido = dividirMuestra(audio)\n",
    "    if (i[0] == '4'):\n",
    "        # debido a que el hay más muestras que registros de GPS en los audios 4- \n",
    "        # se tomaron la mitad de las muestras\n",
    "        samples_sonido = [i for i in samples_sonido[1::2]]\n",
    "    predictions_.append(predict(samples_sonido))\n",
    "    time.append(len(predict(samples_sonido)))\n",
    "\n",
    "predictions_"
   ]
  },
  {
   "cell_type": "code",
   "execution_count": null,
   "metadata": {},
   "outputs": [],
   "source": [
    "# Se modifican los datos de decibeles, donde el clasificador\n",
    "# de regreción logistica marca no ruido se pone 0 en\n",
    "# la seccion correspondiente.\n",
    "count = 0\n",
    "for i in csv_files:\n",
    "        cvsReader = csv.reader(open(pathFile_csv+i))\n",
    "        rows = list(cvsReader)\n",
    "        with open(pathFile_csv+i) as f: size = sum(1 for line in f)\n",
    "        n_samples = round(size/time[count])\n",
    "        \n",
    "        n = 0    # posicion en el arreglo con los datos de ruido y no ruido\n",
    "        cnt = 0  # numero de fila en el csv\n",
    "        for row in rows: \n",
    "            if (predictions_[count][n] == 0):\n",
    "                row[5] = 0\n",
    "            if ( n_samples!= 0 and cnt%n_samples == 0 and n+1<len(predictions_[count]) ): n+=1 \n",
    "                cnt+= 1\n",
    "        count+=1\n",
    "        writer = csv.writer(open(pathFile_csv+i, 'w'))\n",
    "        writer.writerows(rows)"
   ]
  },
  {
   "cell_type": "markdown",
   "metadata": {},
   "source": [
    "**4.4 Análisis de Datos:**\n",
    "\n",
    "---\n",
    "Con base en el procesamiento de datos realizado en la sección inmediatamente anterior, -en donde se construyeron las tablas de ruido-, en esta seccion se utiliza el plugin $HeatMap$ de la librería Folium para generar los mapas de ruido (como se explicó en la sección de Materiales y Métodos). A continuación, se explica la función desarrollada.\n",
    " \n",
    "4.4.1 $generateMap(dataframe):$ Esta función recibe por parámetro un dataframe el cual está constituído por cuatro columnas: Tiempo, Latitud, Longitud y Ruido. A continuación, computa el array $heat_{data}$, constuído por una cantidad $N$ de $3$-tuplas, constuídas por tres variables: latitud, longitud y peso, en donde el peso corresponde al nivel de ruido (0 - 1.20) de esa posición GPS. Finalmente, construye el mapa de ruido utilizando el plugin $HeatMap$, y sobre el mapa posiciona dos marcadores, los cuales indican la fecha de inicio y finalización del trayecto en cuestión. Finalmente, retorna el mapa.\n",
    "\n",
    "**Por último:** es importante señalar que los mapas de ruido generados en esta sección no están siendo correctamente desplegados. Una de las deficiencias del plugin $HeatMap$, es que no tiene en cuenta la cercanía de las coordenadas registradas, es decir, dadas dos posiciones GPS muy cercanas (menos de 10 metros), el ruido asociado a dichas posiciones se \"acumula\" o \"amplifica\", dando una percepción errónea del ruido captado en dicha locación. Este inconveniente se puede solucionar a partir del establecimiento de reglas más estrictas al momento de tomar las posiciones GPS, por ejemplo, prohibiendole a la aplicación tomar una nueva posición si esta está muy cercana a la anterior. Adicionalmente, pudieron haberse establecidos recorridos específicos de tal manera que el caminante nunca pasara de nuevo por los lugares que ya había visitado (esto, con el fin de no solapar las ubicaciones registradas). Esto será materia de futuros trabajos."
   ]
  },
  {
   "cell_type": "code",
   "execution_count": 4,
   "metadata": {},
   "outputs": [],
   "source": [
    "def generateMap(df):\n",
    "    try: \n",
    "        # Initialize map.\n",
    "        lat = df.iloc[0][\"lat\"]\n",
    "        lon = df.iloc[0][\"lon\"]\n",
    "        map_hooray = folium.Map(location=[4.6378758, -74.0839653], zoom_start = 16)\n",
    "\n",
    "\n",
    "        # Get Data.\n",
    "        latitude = list()\n",
    "        longitude = list()\n",
    "        weight = list()\n",
    "\n",
    "        for i in range(0, len(df)):\n",
    "            latitude.append(float(str(df.iloc[i][\"lat\"]).replace(\",\",\".\")))\n",
    "            longitude.append(float(str(df.iloc[i][\"lon\"]).replace(\",\",\".\")))\n",
    "            weight.append(float(str(df.iloc[i][\"Noise\"]).replace(\",\",\".\")))\n",
    "\n",
    "        data = pd.DataFrame(data={\"Latitude\": latitude, \"Longitude\": longitude, \"Weight\":weight }) #\"Weight\":weight})\n",
    "        #folium.PolyLine(heat_data, maxval = 10, color=\"red\", weight=2.5, opacity=1).add_to(map_hooray)\n",
    "\n",
    "        # List comprehension to make out list of lists\n",
    "        heat_data = [[row['Latitude'],row['Longitude'], row[\"Weight\"]] for index, row in data.iterrows()] # , row[\"Weight\"]] \n",
    "        #print(heat_data)\n",
    "\n",
    "        # Plot it on the map\n",
    "        HeatMap(heat_data).add_to(map_hooray)\n",
    "\n",
    "        #add markers\n",
    "        folium.Marker(heat_data[0][0:2], popup='<i>Inicio Trayecto. Hora:' +  df.iloc[0][\"time\"] + '</i>',).add_to(map_hooray)\n",
    "        folium.Marker(heat_data[-1][0:2], popup='<i>Fin Trayecto. Hora: ' +  df.iloc[-1][\"time\"] + '</i>',).add_to(map_hooray)\n",
    "\n",
    "\n",
    "        # Display the map\n",
    "        return map_hooray\n",
    "    except: \n",
    "        print(\"No hay datos para mostrar.\")"
   ]
  },
  {
   "cell_type": "markdown",
   "metadata": {},
   "source": [
    "**4.4.1 Análisis de Datos sin Clasificación de Audios:**"
   ]
  },
  {
   "cell_type": "code",
   "execution_count": 13,
   "metadata": {},
   "outputs": [],
   "source": [
    "pathFile =  \"./Resultados/\"\n",
    "csv_files = list()\n",
    "\n",
    "# Get CSV files.\n",
    "with os.scandir(pathFile) as entries:\n",
    "    for entry in entries:\n",
    "        csv_files.append(entry.name)\n",
    "        \n",
    "print(\"Results: \")\n",
    "for csv in csv_files:\n",
    "    print(csv)"
   ]
  },
  {
   "cell_type": "code",
   "execution_count": 32,
   "metadata": {},
   "outputs": [
    {
     "name": "stdout",
     "output_type": "stream",
     "text": [
      "Digite index del dataframe a consultar: (< 15) 5\n",
      "Author's name:  Carlos\n",
      "File's name:  3-4-1010-1100-0-results.csv\n"
     ]
    },
    {
     "data": {
      "text/html": [
       "<div style=\"width:100%;\"><div style=\"position:relative;width:100%;height:0;padding-bottom:60%;\"><iframe src=\"data:text/html;charset=utf-8;base64,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\" style=\"position:absolute;width:100%;height:100%;left:0;top:0;border:none !important;\" allowfullscreen webkitallowfullscreen mozallowfullscreen></iframe></div></div>"
      ],
      "text/plain": [
       "<folium.folium.Map at 0x1959e5d83c8>"
      ]
     },
     "execution_count": 32,
     "metadata": {},
     "output_type": "execute_result"
    }
   ],
   "source": [
    "# Select dataframe to see.\n",
    "i = int(input(\"Digite index del dataframe a consultar: (< 15) \"))\n",
    "\n",
    "# Load dataframe.\n",
    "df = pd.read_csv(\"./Resultados/\" + csv_files[i])\n",
    "df = df.drop(\"Unnamed: 0\", axis = 1)\n",
    "\n",
    "# Print author's and files's name.\n",
    "print(\"Author's name: \", getAuthor(int(csv_files[i][0])))\n",
    "print(\"File's name: \", csv_files[i])\n",
    "\n",
    "# Show heat map.\n",
    "generateMap(df)"
   ]
  },
  {
   "cell_type": "markdown",
   "metadata": {},
   "source": [
    "**4.4.2 Análisis de Datos con Regresor Logístico:**"
   ]
  },
  {
   "cell_type": "code",
   "execution_count": 9,
   "metadata": {},
   "outputs": [],
   "source": [
    "# Load audio & GPS files.\n",
    "pathFile = \"./Resultados2/\"\n",
    "csv_files = list()\n",
    "\n",
    "# Get CSV files.\n",
    "with os.scandir(pathFile) as entries:\n",
    "    for entry in entries:\n",
    "        csv_files.append(entry.name)"
   ]
  },
  {
   "cell_type": "code",
   "execution_count": 11,
   "metadata": {},
   "outputs": [
    {
     "name": "stdout",
     "output_type": "stream",
     "text": [
      "Digite la hora a consultar: (0-24) 7\n",
      "Digite el rango de tiempo: 5\n"
     ]
    },
    {
     "data": {
      "text/html": [
       "<div style=\"width:100%;\"><div style=\"position:relative;width:100%;height:0;padding-bottom:60%;\"><iframe src=\"data:text/html;charset=utf-8;base64,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\" style=\"position:absolute;width:100%;height:100%;left:0;top:0;border:none !important;\" allowfullscreen webkitallowfullscreen mozallowfullscreen></iframe></div></div>"
      ],
      "text/plain": [
       "<folium.folium.Map at 0x1c9487af208>"
      ]
     },
     "execution_count": 11,
     "metadata": {},
     "output_type": "execute_result"
    }
   ],
   "source": [
    "def limit(df,hora, rango):\n",
    "    count = 0\n",
    "    for i in df.iloc[:, 0].tolist():\n",
    "        data1 = df[\"time\"].iloc[count].split(\" \")\n",
    "        data2 = data1[1].split(\":\")\n",
    "        hour = int(data2[0])\n",
    "        minutes = int(data2[1])\n",
    "        if(hour>(hora+rango) or hour<hora): \n",
    "            try:\n",
    "                df = df[df.time != i]\n",
    "            except:\n",
    "                print(len(df.index))  \n",
    "        else: count+=1\n",
    "    return df\n",
    "\n",
    "hora = int(input(\"Digite la hora a consultar: (0-24) \"))\n",
    "rango = int(input(\"Digite el rango de tiempo: \"))\n",
    "df2 = pd.DataFrame(columns=('time', 'lat', 'lon', 'seconds', 'Noise', 'Description'))\n",
    "bol=True\n",
    "for i in range(0, 15):\n",
    "    df = pd.read_csv(\"./Resultados2/\" + csv_files[i])\n",
    "    df = df.drop(\"Unnamed: 0\", axis = 1)\n",
    "    df.columns=[\"time\", \"lat\", \"lon\", \"seconds\", \"Noise\", \"Description\"]\n",
    "    df3 = limit(df,hora, rango)\n",
    "    df2 = pd.concat([df2, df3], ignore_index=True)\n",
    "generateMap(df2)"
   ]
  },
  {
   "cell_type": "markdown",
   "metadata": {},
   "source": [
    "**4.5 Simulaciones.**\n",
    "\n",
    "---\n",
    "Como se mencionó en la sección anterior, los mapas de ruido asociados a las caminatas registradas representan deficientemente la realidad de la contaminación auditiva de la Universidad Nacional de Colombia: Sede Bogotá. Adicionalmente, la cantidad de información registrada es insuficiente para observar el comportamiento del ruido en la universidad a lo largo del día en varios días de la semana. Por estas razones, se decidió incluir una última sección del trabajo: Simulaciones. Este método es ampliamente utilizado para la generación de mapas de ruido, puesto acortan la duración del proceso de obtención de datos y abaratan su coste. Así, con base en los resultados de los datos recolectados, se realizó una serie de simulaciones de mapas de ruido de la universidad, las cuales corresponden a los niveles de ruidos que se generan de lunes a viernes, en los horarios: 7:00 a 9:00, 9:00 a 11:00, 11:00 a 13:00, 14:00 a 16:00 y 16:00 a 18:00. A continuación, se explican los métodos utilizados:\n",
    "\n",
    "4.5.1. $generateTimes(dataframe, dt, end, step)$: Esta función recibe por parámetro un dataframe, una fecha de inicio $dt$, una fecha de finalización $end$, y un $step$ (que es un timedelta). La finalidad de esta función es construir un dataframe con una columna \"Date\", en donde los valores de dicha columna corresponden a una serie de fechas, tales que la primera fecha corresponde a $dt$, la última corresponde a $end$, y las intermedias se calculan comenzando en $dt$ y sumándole $step$ en cada iteración. De esta manera, retorna un dataframe de fechas simuladas.\n",
    "\n",
    "4.5.2. $modifyCoordinates(dataframe)$: Este método es el encargado de llevar a cabo las simulaciones de los mapas de ruido. En primer lugar, recibe como parámetro un dataframe que contiene tres columnas: Latitud, Longitud y Ruido. A continuación, itera sobre cada fila del dataframe, aplicando una distorsión tanto en los valores de las posiciones GPS registradas, como en el nivel de ruido asociado a dicha posición. Finalmente, retorna un dataframe con las posiciones y variable de ruido modificadas."
   ]
  },
  {
   "cell_type": "code",
   "execution_count": 26,
   "metadata": {},
   "outputs": [],
   "source": [
    "def generateTimes(df, dt, end, step = 15):\n",
    "    step = datetime.timedelta(seconds = step)\n",
    "    result = []\n",
    "    contador = 0\n",
    "    \n",
    "    while dt < end and contador < len(df):\n",
    "        result.append(dt.strftime(\"%Y-%m-%d %H:%M:%S\"))\n",
    "        dt += step\n",
    "        contador += 1\n",
    "    df2 = pd.DataFrame(data = result, columns = [\"Date\"])\n",
    "    return df2\n",
    "\n",
    "def modifyCoordinates(df):\n",
    "    lat = df[\"lat\"].values\n",
    "    lon = df[\"lon\"].values\n",
    "    noise = df[\"noise\"].values\n",
    "    \n",
    "    #print(noise)\n",
    "    \n",
    "    for i in range(0, len(lat)):\n",
    "        r1 = random.uniform(0.000001, 0.000099)\n",
    "        r2 = random.uniform(0.000001, 0.000099)\n",
    "        signo = random.randint(1, 2)\n",
    "        if(signo == 1): signo = 1\n",
    "        else: signo = -1\n",
    "            \n",
    "        lat[i] = lat[i] + signo * r1\n",
    "        lon[i] = lon[i] + signo * r2\n",
    "        \n",
    "        r3 = random.uniform(0, 5)\n",
    "        noise[i] = (noise[i] + signo * r3)/10\n",
    "        \n",
    "    df2 = pd.DataFrame(data = lat, columns = [\"lat\"])\n",
    "    df3 = pd.DataFrame(data = lon, columns = [\"lon\"])\n",
    "    df4 = pd.DataFrame(data = noise, columns = [\"noise\"])\n",
    "    \n",
    "    \n",
    "    df_temp = df2.join(df3)\n",
    "    df_temp = df_temp.join(df4)\n",
    "\n",
    "    return df_temp"
   ]
  },
  {
   "cell_type": "code",
   "execution_count": 27,
   "metadata": {},
   "outputs": [],
   "source": [
    "pathFile = \"./coordenadas.csv\"\n",
    "df = pd.read_csv(pathFile, delimiter = \";\", decimal = \",\", float_precision = \"high\")\n",
    "df.columns = \"registro lat lon noise\".split()\n",
    "df = df[[\"lat\", \"lon\", \"noise\"]]\n",
    "df.dropna(inplace = True)\n",
    "\n",
    "days = [7, 8, 9, 10, 11]\n",
    "hours = [7, 9, 11, 14, 16, 18]\n",
    "df_array = list()\n",
    "\n",
    "for d in days:\n",
    "    df_copy = df.copy()\n",
    "    for h in hours: \n",
    "        dt = datetime.datetime(2019, 11, d, h, 0, 0)\n",
    "        end = datetime.datetime(2019, 11, d, h + 2, 0, 0)\n",
    "        dates = generateTimes(df, dt, end, 15)\n",
    "        df_copy = modifyCoordinates(df_copy)\n",
    "        df_copy = df_copy.join(dates)\n",
    "        df_copy.set_index(\"Date\", inplace = True)\n",
    "        df_array.append(df_copy)"
   ]
  },
  {
   "cell_type": "code",
   "execution_count": 28,
   "metadata": {},
   "outputs": [
    {
     "data": {
      "text/html": [
       "<div>\n",
       "<style scoped>\n",
       "    .dataframe tbody tr th:only-of-type {\n",
       "        vertical-align: middle;\n",
       "    }\n",
       "\n",
       "    .dataframe tbody tr th {\n",
       "        vertical-align: top;\n",
       "    }\n",
       "\n",
       "    .dataframe thead th {\n",
       "        text-align: right;\n",
       "    }\n",
       "</style>\n",
       "<table border=\"1\" class=\"dataframe\">\n",
       "  <thead>\n",
       "    <tr style=\"text-align: right;\">\n",
       "      <th></th>\n",
       "      <th>lat</th>\n",
       "      <th>lon</th>\n",
       "      <th>noise</th>\n",
       "    </tr>\n",
       "    <tr>\n",
       "      <th>Date</th>\n",
       "      <th></th>\n",
       "      <th></th>\n",
       "      <th></th>\n",
       "    </tr>\n",
       "  </thead>\n",
       "  <tbody>\n",
       "    <tr>\n",
       "      <th>2019-11-07 07:00:00</th>\n",
       "      <td>4.633458</td>\n",
       "      <td>-74.081750</td>\n",
       "      <td>0.577883</td>\n",
       "    </tr>\n",
       "    <tr>\n",
       "      <th>2019-11-07 07:00:15</th>\n",
       "      <td>4.633575</td>\n",
       "      <td>-74.081706</td>\n",
       "      <td>0.308442</td>\n",
       "    </tr>\n",
       "    <tr>\n",
       "      <th>2019-11-07 07:00:30</th>\n",
       "      <td>4.633617</td>\n",
       "      <td>-74.081377</td>\n",
       "      <td>0.656434</td>\n",
       "    </tr>\n",
       "    <tr>\n",
       "      <th>2019-11-07 07:00:45</th>\n",
       "      <td>4.633964</td>\n",
       "      <td>-74.081021</td>\n",
       "      <td>0.488363</td>\n",
       "    </tr>\n",
       "    <tr>\n",
       "      <th>2019-11-07 07:01:00</th>\n",
       "      <td>4.634065</td>\n",
       "      <td>-74.080652</td>\n",
       "      <td>0.896488</td>\n",
       "    </tr>\n",
       "  </tbody>\n",
       "</table>\n",
       "</div>"
      ],
      "text/plain": [
       "                          lat        lon     noise\n",
       "Date                                              \n",
       "2019-11-07 07:00:00  4.633458 -74.081750  0.577883\n",
       "2019-11-07 07:00:15  4.633575 -74.081706  0.308442\n",
       "2019-11-07 07:00:30  4.633617 -74.081377  0.656434\n",
       "2019-11-07 07:00:45  4.633964 -74.081021  0.488363\n",
       "2019-11-07 07:01:00  4.634065 -74.080652  0.896488"
      ]
     },
     "execution_count": 28,
     "metadata": {},
     "output_type": "execute_result"
    }
   ],
   "source": [
    "df_array[0].head()"
   ]
  },
  {
   "cell_type": "markdown",
   "metadata": {},
   "source": [
    "**Visualización de mapas de ruido.**\n",
    "\n",
    "---\n",
    "A continuación, se presenta una interfaz para poder visualizar los 30 mapas de ruidos simulados.\n"
   ]
  },
  {
   "cell_type": "code",
   "execution_count": 30,
   "metadata": {},
   "outputs": [
    {
     "name": "stdout",
     "output_type": "stream",
     "text": [
      "Digite index de dataframe a consultar: (< 30) 5\n",
      "\n",
      "--- Fecha --- \n",
      "Thursday\n",
      "Desde:  2019-11-07 18:01:15  a  2019-11-07 18:58:15\n"
     ]
    },
    {
     "data": {
      "text/html": [
       "<div style=\"width:100%;\"><div style=\"position:relative;width:100%;height:0;padding-bottom:60%;\"><iframe src=\"data:text/html;charset=utf-8;base64,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\" style=\"position:absolute;width:100%;height:100%;left:0;top:0;border:none !important;\" allowfullscreen webkitallowfullscreen mozallowfullscreen></iframe></div></div>"
      ],
      "text/plain": [
       "<folium.folium.Map at 0x1959d61aba8>"
      ]
     },
     "execution_count": 30,
     "metadata": {},
     "output_type": "execute_result"
    }
   ],
   "source": [
    "# Set map to draw.\n",
    "i = int(input(\"Digite index de dataframe a consultar: (< 30) \"))\n",
    "\n",
    "# Create map instance. \n",
    "map_hooray = folium.Map(location=[4.6378758, -74.0839653], zoom_start = 16)\n",
    "\n",
    "# Get Data. \n",
    "data = df_array[i].copy()\n",
    "\n",
    "# Generate path & add markers.\n",
    "path_data = [[row['lat'],row['lon']] for index, row in data.iterrows()] \n",
    "#folium.PolyLine(path_data, maxval = 10, color=\"red\", weight=2.5, opacity=1).add_to(map_hooray)\n",
    "folium.Marker(path_data[0], popup='<i>Inicio Trayecto. Hora:' +  data.index[0] + '</i>', icon=folium.Icon(icon='cloud')).add_to(map_hooray)\n",
    "folium.Marker(path_data[-1], popup='<i>Fin Trayecto. Hora: ' +  data.index[-1] + '</i>', icon=folium.Icon(color='red', icon='info-sign')).add_to(map_hooray)\n",
    "\n",
    "# Markers Path.\n",
    "#for d in range(0, len(path_data)):\n",
    "#    folium.Marker(path_data[d], popup = str(path_data[d]) + \" \" + str(d)) .add_to(map_hooray)\n",
    "\n",
    "# Generate heat map.\n",
    "heat_data = [[row['lat'],row['lon'], row[\"noise\"]] for index, row in data.iterrows()] # , row[\"Weight\"]] \n",
    "HeatMap(heat_data, name = \"Mapa de Ruido UNAL\", max_val = 1.4, radius = 25, min_opacity = 0.4).add_to(map_hooray)\n",
    " \n",
    "print(\"\")\n",
    "print(\"--- Fecha --- \")\n",
    "print(calendar.day_name[datetime.datetime.strptime(data.index[i], \"%Y-%m-%d %H:%M:%S\").weekday()])\n",
    "print(\"Desde: \", data.index[i], \" a \", data.index[-1])\n",
    "\n",
    "map_hooray"
   ]
  },
  {
   "cell_type": "markdown",
   "metadata": {},
   "source": [
    "### 5. Conclusiones.\n",
    "\n",
    "**I)**. Los mapas de ruido generados por el plugin $HeatMap$ presentaron muchas deficiencias al momento de representar la realidad de la contaminación auditiva en la universidad, puesto a que esta API no tiene en cuenta la cercanía de las coordenadas registradas, generando una \"acumulación\" o \"amplificación\" del ruido. Este inconveniente se puede solucionar a partir del establecimiento de reglas más estrictas al momento de tomar las posiciones GPS, por ejemplo, prohibiendole a la aplicación tomar una nueva posición si esta está muy cercana a la anterior. Adicionalmente, pudieron haberse establecidos recorridos específicos de tal manera que el caminante nunca pasara de nuevo por los lugares que ya había visitado (esto, con el fin de no solapar las ubicaciones registradas). Esto será materia de futuros trabajos.\n",
    "\n",
    "**II)**. Como futura mejora del presente proyecto, se debe seguir trabajando en la construcción de un mejor modelo de clasificación de ruidos y sonidos. Adicionalmente, se puede trabajar en el desarrollo de un algorítmo capaz de identificar la fuente del sonido o ruido generado, permitiendo no solo reconocer qué es y qué no es ruido, sino quien o qué está emitiendo el ruido. Lo anterior, representaría un avance importante en materia de prevención y generación de planes de acción para mitigar y controlar el ruido en la Universidad Nacional de Colombia: Sede Bogotá.\n",
    "\n",
    "**III)**. Para futuras etapas del proyecto, se puede plantear la posibilidad de replicar el proyecto [SONYC: Sounds of New York City](https://wp.nyu.edu/sonyc/) en la Universidad Nacional de Colombia: Sede Bogotá, lo que requeriría establecer una metodología para la recolección, procesamiento y análisis de datos de manera eficiente, así como la generación de mapas de ruido dinámicos minuto a minuto. Esto, con la finalidad de poder trabajar en la elaboración de planes de acción para la mitigación y control de ruido en la universidad."
   ]
  },
  {
   "cell_type": "markdown",
   "metadata": {},
   "source": [
    "### 6. Bibliografía.\n",
    "\n",
    "1. Anthony Ivan. (2018, 19 noviembre). Spatial Visualizations and Analysis in Python with Folium. Recuperado 6 diciembre, 2019, de https://towardsdatascience.com/data-101s-spatial-visualizations-and-analysis-in-python-with-folium-39730da2adf\n",
    "\n",
    "2. Guerrero, J. (1992). Estrés laboral en Colombia: rasgos actuales y perspectivas de intervención. Bogotá: Universidad Nacional de Colombia.\n",
    "\n",
    "3. El Tiempo. (13 de febrero 2012). Los pájaros copetones ya no soportan vivir en la ciudad por el ruido. Recuperado 6 diciembre, 2019, de https://www.eltiempo.com/archivo/documento/CMS-11130684\n",
    "\n",
    "4. Sound of New York City. (s.f.). Recuperado 6 diciembre, 2019, de https://wp.nyu.edu/sonyc/\n",
    "\n",
    "5. ¿Qué es y cómo interpretar una regresión logística? (s.f.). Recuperado 6 diciembre, 2019, de https://conceptosclaros.com/que-es-regresion-logistica/"
   ]
  },
  {
   "cell_type": "code",
   "execution_count": null,
   "metadata": {},
   "outputs": [],
   "source": []
  }
 ],
 "metadata": {
  "kernelspec": {
   "display_name": "Python 3",
   "language": "python",
   "name": "python3"
  },
  "language_info": {
   "codemirror_mode": {
    "name": "ipython",
    "version": 3
   },
   "file_extension": ".py",
   "mimetype": "text/x-python",
   "name": "python",
   "nbconvert_exporter": "python",
   "pygments_lexer": "ipython3",
   "version": "3.7.3"
  }
 },
 "nbformat": 4,
 "nbformat_minor": 2
}
