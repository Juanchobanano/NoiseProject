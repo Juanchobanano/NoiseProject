{
 "cells": [
  {
   "cell_type": "code",
   "execution_count": 158,
   "metadata": {},
   "outputs": [],
   "source": [
    "# Import libraries.\n",
    "import pandas as pd\n",
    "import numpy as np\n",
    "import scipy\n",
    "import scipy.io.wavfile\n",
    "from scipy import signal\n",
    "import matplotlib.pyplot as plt\n",
    "import math\n",
    "import os\n",
    "import datetime\n",
    "\n",
    "import warnings\n",
    "warnings.filterwarnings(\"ignore\")\n",
    "\n",
    "%matplotlib inline"
   ]
  },
  {
   "cell_type": "code",
   "execution_count": 9,
   "metadata": {},
   "outputs": [],
   "source": [
    "# Graphing helper function\n",
    "def setup_graph(title='', x_label='', y_label='', fig_size=None):\n",
    "    fig = plt.figure()\n",
    "    if fig_size != None:\n",
    "        fig.set_size_inches(fig_size[0], fig_size[1])\n",
    "    ax = fig.add_subplot(111)\n",
    "    ax.set_title(title)\n",
    "    ax.set_xlabel(x_label)\n",
    "    ax.set_ylabel(y_label)\n",
    "    \n",
    "def setLabel(file_name):\n",
    "    if(file_name.find(\"ruido\")) >= 0: return 0\n",
    "    else: return 1"
   ]
  },
  {
   "cell_type": "code",
   "execution_count": 26,
   "metadata": {},
   "outputs": [
    {
     "name": "stdout",
     "output_type": "stream",
     "text": [
      "['ruido.wav', 'ruido_traffic2.wav', 'sonata.wav']\n",
      "[0, 0, 1]\n"
     ]
    }
   ],
   "source": [
    "# Load Training data.\n",
    "sound_files = list()\n",
    "with os.scandir(\"./Audios/\") as entries:\n",
    "    for entry in entries:\n",
    "        sound_files.append(entry.name)\n",
    "\n",
    "labels = list()\n",
    "for s in sound_files:\n",
    "    labels.append(setLabel(s))\n",
    "    \n",
    "print(sound_files)\n",
    "print(labels)"
   ]
  },
  {
   "cell_type": "code",
   "execution_count": 180,
   "metadata": {},
   "outputs": [],
   "source": [
    "class NearestNeighbors():\n",
    "    \n",
    "    # Load data.\n",
    "    def __init__(self, X, y, neighbors = 5):\n",
    "        self.sounds = X\n",
    "        self.labels = y\n",
    "        self.neighbors = neighbors\n",
    "        print(\"Classifier initialize!\")\n",
    "        \n",
    "    def predict(self, sound):\n",
    "        \n",
    "        categories = [0, 0]\n",
    "        signal_to_predict = self.processSound(sound)\n",
    "        similar_vector = list()\n",
    "        \n",
    "        # Compute audio similarity.\n",
    "        for s in self.sounds:\n",
    "            training_sound = self.processSound(s)\n",
    "            fs = 10e3\n",
    "            f, Cxy = scipy.signal.coherence(signal_to_predict, training_sound, fs, nperseg=1024)\n",
    "            similar_vector.append(Cxy.mean())\n",
    "            #print(s, Cxy.mean())\n",
    "            \n",
    "        # Select K-nearest neigbors.\n",
    "        temp = similar_vector.copy()\n",
    "        nearest_neighbors = list()\n",
    "        contador = 0\n",
    "        \n",
    "        while(contador < 3):\n",
    "            element = min(temp)\n",
    "            nearest_neighbors.append(element)\n",
    "            temp.remove(element)\n",
    "            contador += 1\n",
    "            \n",
    "        for k in nearest_neighbors:\n",
    "            \n",
    "            index = similar_vector.index(k)\n",
    "            if labels[index] == 0: \n",
    "                categories[0] += 1\n",
    "            else: \n",
    "                categories[1] += 1\n",
    "            \n",
    "        for c in range(0, len(categories)):\n",
    "            categories[c] = categories[c] / len(self.sounds)\n",
    "        return categories\n",
    "    \n",
    "    # Process Sound.\n",
    "    def processSound(self, sound):\n",
    "        \n",
    "        # Load audio.\n",
    "        pathFile =  \"./Audios/\" + str(sound)\n",
    "        (sample_rate, input_signal) = scipy.io.wavfile.read(pathFile, mmap = True)\n",
    "\n",
    "        # Convert to mono.\n",
    "        input_signal = input_signal[:,0]\n",
    "\n",
    "        # Calculate time array (max 10 seconds).\n",
    "        time_array = np.arange(0, len(input_signal)/sample_rate, 1/sample_rate)   \n",
    "        audio_duration_minutes = time_array[-1] / 60\n",
    "\n",
    "        # Print audio duration.\n",
    "        #print(\"Sound ready! Duration in minutes: \", audio_duration_minutes)\n",
    "\n",
    "        # Convert input signal to 4000 hz.\n",
    "        input_signal_4000hz = [input_signal[i] for i in range(0, len(input_signal), sample_rate//4000)]\n",
    "        \n",
    "        # Return process audio.\n",
    "        return input_signal_4000hz\n",
    "        \n",
    "    # Get Euclidean Distance between two points.\n",
    "    def getEuclideanDistance(self, p1, p2):\n",
    "        distance = 0\n",
    "        for i in range(0, len(p1)):\n",
    "            distance += (p1[i] - p2[i])**2\n",
    "        return math.sqrt(distance)\n",
    "    \n",
    "    # Plot results. \n",
    "    def plotResults(self, res):\n",
    "        plt.bar([\"Ruido\", \"No Ruido\"], res, width = 0.5, hatch = \"/\", color = \"red\", edgecolor = \"black\")\n",
    "        plt.ylabel(\"Probability\")\n",
    "        plt.title(\"Sound Classification\")\n",
    "        plt.ylim(0, 1)\n",
    "        plt.show()\n",
    "        \n",
    "        if res[0] > res[1]: print(\"Audio classified as NOISE.\")\n",
    "        elif res[1] > res[0]: print(\"Audio classified as SOUND.\")\n",
    "        "
   ]
  },
  {
   "cell_type": "code",
   "execution_count": 181,
   "metadata": {},
   "outputs": [
    {
     "name": "stdout",
     "output_type": "stream",
     "text": [
      "Classifier initialize!\n"
     ]
    }
   ],
   "source": [
    "model = NearestNeighbors(sound_files, labels)"
   ]
  },
  {
   "cell_type": "code",
   "execution_count": 182,
   "metadata": {},
   "outputs": [],
   "source": [
    "res = model.predict(sound_files[0])"
   ]
  },
  {
   "cell_type": "code",
   "execution_count": 183,
   "metadata": {},
   "outputs": [
    {
     "data": {
      "image/png": "[encoded data removed]",
      "text/plain": [
       "<Figure size 432x288 with 1 Axes>"
      ]
     },
     "metadata": {
      "needs_background": "light"
     },
     "output_type": "display_data"
    },
    {
     "name": "stdout",
     "output_type": "stream",
     "text": [
      "Audio classified as NOISE.\n"
     ]
    }
   ],
   "source": [
    "model.plotResults(res)"
   ]
  },
  {
   "cell_type": "code",
   "execution_count": null,
   "metadata": {},
   "outputs": [],
   "source": []
  }
 ],
 "metadata": {
  "kernelspec": {
   "display_name": "Python 3",
   "language": "python",
   "name": "python3"
  },
  "language_info": {
   "codemirror_mode": {
    "name": "ipython",
    "version": 3
   },
   "file_extension": ".py",
   "mimetype": "text/x-python",
   "name": "python",
   "nbconvert_exporter": "python",
   "pygments_lexer": "ipython3",
   "version": "3.7.3"
  }
 },
 "nbformat": 4,
 "nbformat_minor": 2
}
