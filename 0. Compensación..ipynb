{
 "cells": [
  {
   "cell_type": "markdown",
   "metadata": {},
   "source": [
    "## 0. Compensación de Decibeles."
   ]
  },
  {
   "cell_type": "markdown",
   "metadata": {},
   "source": [
    "En este módulo, se estandarizan los niveles de ruido que captan cada uno de los dispositivos móviles utilizando por la aplicación."
   ]
  },
  {
   "cell_type": "code",
   "execution_count": 89,
   "metadata": {},
   "outputs": [],
   "source": [
    "# Import libraries.\n",
    "import scipy.io.wavfile\n",
    "import os\n",
    "import numpy as np\n",
    "import math"
   ]
  },
  {
   "cell_type": "code",
   "execution_count": 90,
   "metadata": {},
   "outputs": [
    {
     "data": {
      "text/plain": [
       "['Prueba-2.wav', 'prueba-3.wav', 'prueba-4.wav']"
      ]
     },
     "execution_count": 90,
     "metadata": {},
     "output_type": "execute_result"
    }
   ],
   "source": [
    "# Set path to files.\n",
    "pathFile = \"./Pruebas Compensacion\"\n",
    "sound_files = list()\n",
    "\n",
    "# Get CSV files.\n",
    "with os.scandir(pathFile) as entries:\n",
    "    for entry in entries:\n",
    "        sound_files.append(entry.name)\n",
    "sound_files"
   ]
  },
  {
   "cell_type": "code",
   "execution_count": 91,
   "metadata": {},
   "outputs": [],
   "source": [
    "# Mean function.\n",
    "def getMean(lista):\n",
    "    suma = 0\n",
    "    for i in lista: \n",
    "        suma += i\n",
    "    return suma/len(lista)\n",
    "\n",
    "# Convert amplitude to db.\n",
    "def getDB(input_signal):\n",
    "    INCREASE = 35\n",
    "\n",
    "    if(max(input_signal) > abs(min(input_signal))): \n",
    "        max_amplitude = max(input_signal)\n",
    "    else: \n",
    "        max_amplitude = abs(min(input_signal))\n",
    "    input_signal_normalize = abs(input_signal / max_amplitude)\n",
    "\n",
    "    db = list()\n",
    "    for i in input_signal_normalize:\n",
    "        if i != 0: \n",
    "            db.append(abs(20 * math.log(abs(i), 10)) + INCREASE)\n",
    "        else:\n",
    "            db.append(0)\n",
    "    return db\n",
    "\n",
    "# Get audio-gps author.\n",
    "def author(id):\n",
    "    if id == 0: return \"Juan Esteban\"\n",
    "    elif id == 1: return \"Carlos\"\n",
    "    elif id == 2: return \"Tania\"\n",
    "    elif id == 3: return \"Daniel\"\n",
    "    \n",
    "def toArray(matrix):\n",
    "    new_signal = list()\n",
    "    for i in range(0, len(matrix)):\n",
    "        new_signal.append(matrix[i][0] + matrix[i][1])\n",
    "    return new_signal"
   ]
  },
  {
   "cell_type": "code",
   "execution_count": 88,
   "metadata": {},
   "outputs": [
    {
     "name": "stdout",
     "output_type": "stream",
     "text": [
      "Resultados: \n",
      "Juan Esteban Decibels : 58.08575640203698\n",
      "Carlos Decibels : 58.02173670203892\n",
      "Tania Decibels : 58.39429498705403\n"
     ]
    }
   ],
   "source": [
    "print(\"Resultados: \")\n",
    "# Load audio file.\n",
    "for i in range(0, len(sound_files)):\n",
    "    (sample_rate, input_signal) = scipy.io.wavfile.read(pathFile + \"/\" + sound_files[i])\n",
    "    time_array = np.arange(0, len(input_signal)/sample_rate, 1/sample_rate)   \n",
    "    audio_duration_minutes = time_array[-1] / 60\n",
    "\n",
    "    #print(\"Sound ready! Duration in minutes: \", audio_duration_minutes)\n",
    "    try: \n",
    "        input_signal = toArray(input_signal) # Esta función sólo se ejecuta para el audio de Carlos.\n",
    "    except: \n",
    "        pass\n",
    "    print(author(i), \"Decibels :\", getMean(getDB(input_signal)))"
   ]
  }
 ],
 "metadata": {
  "kernelspec": {
   "display_name": "Python 3",
   "language": "python",
   "name": "python3"
  },
  "language_info": {
   "codemirror_mode": {
    "name": "ipython",
    "version": 3
   },
   "file_extension": ".py",
   "mimetype": "text/x-python",
   "name": "python",
   "nbconvert_exporter": "python",
   "pygments_lexer": "ipython3",
   "version": "3.7.3"
  }
 },
 "nbformat": 4,
 "nbformat_minor": 2
}
