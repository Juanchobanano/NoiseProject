{
 "cells": [
  {
   "cell_type": "markdown",
   "metadata": {},
   "source": [
    "## Mapas de Calor."
   ]
  },
  {
   "cell_type": "code",
   "execution_count": 52,
   "metadata": {},
   "outputs": [],
   "source": [
    "# Import libraries.\n",
    "import pandas as pd\n",
    "import numpy as np\n",
    "import os\n",
    "\n",
    "import folium\n",
    "from folium import plugins\n",
    "from folium.plugins import HeatMap"
   ]
  },
  {
   "cell_type": "code",
   "execution_count": 53,
   "metadata": {},
   "outputs": [],
   "source": [
    "# Load audio & GPS files.\n",
    "pathFile =  \"./Resultados/\"\n",
    "csv_files = list()\n",
    "\n",
    "# Get CSV files.\n",
    "with os.scandir(pathFile) as entries:\n",
    "    for entry in entries:\n",
    "        csv_files.append(entry.name)"
   ]
  },
  {
   "cell_type": "code",
   "execution_count": 54,
   "metadata": {},
   "outputs": [],
   "source": [
    "# Get audio-gps author.\n",
    "def author(id):\n",
    "    if id == 1: return \"Daniel\"\n",
    "    elif id == 2: return \"Juan Esteban\"\n",
    "    elif id == 3: return \"Carlos\"\n",
    "    elif id == 4: return \"Tania\""
   ]
  },
  {
   "cell_type": "code",
   "execution_count": 55,
   "metadata": {},
   "outputs": [
    {
     "data": {
      "text/plain": [
       "['1-1-0910-0920-0-results.csv',\n",
       " '1-2-0910-0947-0-results.csv',\n",
       " '1-3-0910-1613-0-results.csv',\n",
       " '1-4-1017-1500-0-results.csv',\n",
       " '1-5-1018-1508-0-results.csv',\n",
       " '3-4-1010-1100-0-results.csv',\n",
       " '3-5-1510-1054-0-results.csv',\n",
       " '3-6-1710-1057-0-results.csv',\n",
       " '3-7-2110-0938-0-results.csv',\n",
       " '3-8-2210-1350-0-results.csv',\n",
       " '3-9-2310-1000-0-results.csv',\n",
       " '3-a-2410-1144-0-results.csv',\n",
       " '3-b-2410-1259-0-results.csv',\n",
       " '4-1-1110-0939-0-results.csv',\n",
       " '4-2-1110-1139-0-results.csv']"
      ]
     },
     "execution_count": 55,
     "metadata": {},
     "output_type": "execute_result"
    }
   ],
   "source": [
    "csv_files"
   ]
  },
  {
   "cell_type": "code",
   "execution_count": 5,
   "metadata": {},
   "outputs": [],
   "source": [
    "def generateMap(df):\n",
    "\n",
    "    # Initialize map.\n",
    "    lat = df.iloc[0][\"lat\"]\n",
    "    lon = df.iloc[0][\"lon\"]\n",
    "    map_hooray = folium.Map(location=[4.6365, -74.0815], zoom_start = 17 , width = 800, height = 480)\n",
    "\n",
    "    # Get Data.\n",
    "    latitude = list()\n",
    "    longitude = list()\n",
    "    weight = list()\n",
    "\n",
    "    for i in range(0, len(df)):\n",
    "        latitude.append(float(str(df.iloc[i][\"lat\"]).replace(\",\",\".\")))\n",
    "        longitude.append(float(str(df.iloc[i][\"lon\"]).replace(\",\",\".\")))\n",
    "        weight.append(float(str(df.iloc[i][\"Noise\"]).replace(\",\",\".\")))\n",
    "\n",
    "    data = pd.DataFrame(data={\"Latitude\": latitude, \"Longitude\": longitude, \"Weight\":weight }) #\"Weight\":weight})\n",
    "    #print(data)\n",
    "\n",
    "    # List comprehension to make out list of lists\n",
    "    heat_data = [[row['Latitude'],row['Longitude'], row[\"Weight\"]] for index, row in data.iterrows()] # , row[\"Weight\"]] \n",
    "    print(heat_data)\n",
    "    \n",
    "    # Plot it on the map\n",
    "    HeatMap(heat_data).add_to(map_hooray)\n",
    "\n",
    "    #add markers\n",
    "    folium.Marker(heat_data[0], popup='<i>Inicio Trayecto. Hora:' +  df.iloc[0][\"time\"] + '</i>',).add_to(map_hooray)\n",
    "    folium.Marker(heat_data[-1], popup='<i>Fin Trayecto. Hora: ' +  df.iloc[-1][\"time\"] + '</i>',).add_to(map_hooray)\n",
    "\n",
    "    folium.PolyLine(heat_data, maxval = 10, color=\"red\", weight=2.5, opacity=1).add_to(map_hooray)\n",
    "\n",
    "    # Display the map\n",
    "    return map_hooray\n",
    "\n",
    "\n"
   ]
  },
  {
   "cell_type": "code",
   "execution_count": 105,
   "metadata": {},
   "outputs": [
    {
     "name": "stdout",
     "output_type": "stream",
     "text": [
      "Help on class HeatMap in module folium.plugins.heat_map:\n",
      "\n",
      "class HeatMap(folium.map.Layer)\n",
      " |  HeatMap(data, name=None, min_opacity=0.5, max_zoom=18, max_val=1.0, radius=25, blur=15, gradient=None, overlay=True, control=True, show=True, **kwargs)\n",
      " |  \n",
      " |  Create a Heatmap layer\n",
      " |  \n",
      " |  Parameters\n",
      " |  ----------\n",
      " |  data : list of points of the form [lat, lng] or [lat, lng, weight]\n",
      " |      The points you want to plot.\n",
      " |      You can also provide a numpy.array of shape (n,2) or (n,3).\n",
      " |  name : string, default None\n",
      " |      The name of the Layer, as it will appear in LayerControls.\n",
      " |  min_opacity  : default 1.\n",
      " |      The minimum opacity the heat will start at.\n",
      " |  max_zoom : default 18\n",
      " |      Zoom level where the points reach maximum intensity (as intensity\n",
      " |      scales with zoom), equals maxZoom of the map by default\n",
      " |  max_val : float, default 1.\n",
      " |      Maximum point intensity\n",
      " |  radius : int, default 25\n",
      " |      Radius of each \"point\" of the heatmap\n",
      " |  blur : int, default 15\n",
      " |      Amount of blur\n",
      " |  gradient : dict, default None\n",
      " |      Color gradient config. e.g. {0.4: 'blue', 0.65: 'lime', 1: 'red'}\n",
      " |  overlay : bool, default True\n",
      " |      Adds the layer as an optional overlay (True) or the base layer (False).\n",
      " |  control : bool, default True\n",
      " |      Whether the Layer will be included in LayerControls.\n",
      " |  show: bool, default True\n",
      " |      Whether the layer will be shown on opening (only for overlays).\n",
      " |  \n",
      " |  Method resolution order:\n",
      " |      HeatMap\n",
      " |      folium.map.Layer\n",
      " |      branca.element.MacroElement\n",
      " |      branca.element.Element\n",
      " |      builtins.object\n",
      " |  \n",
      " |  Methods defined here:\n",
      " |  \n",
      " |  __init__(self, data, name=None, min_opacity=0.5, max_zoom=18, max_val=1.0, radius=25, blur=15, gradient=None, overlay=True, control=True, show=True, **kwargs)\n",
      " |      Initialize self.  See help(type(self)) for accurate signature.\n",
      " |  \n",
      " |  render(self, **kwargs)\n",
      " |      Renders the HTML representation of the element.\n",
      " |  \n",
      " |  ----------------------------------------------------------------------\n",
      " |  Methods inherited from branca.element.Element:\n",
      " |  \n",
      " |  add_child(self, child, name=None, index=None)\n",
      " |      Add a child.\n",
      " |  \n",
      " |  add_children(self, child, name=None, index=None)\n",
      " |      Add a child.\n",
      " |  \n",
      " |  add_to(self, parent, name=None, index=None)\n",
      " |      Add element to a parent.\n",
      " |  \n",
      " |  get_bounds(self)\n",
      " |      Computes the bounds of the object and all it's children\n",
      " |      in the form [[lat_min, lon_min], [lat_max, lon_max]].\n",
      " |  \n",
      " |  get_name(self)\n",
      " |      Returns a string representation of the object.\n",
      " |      This string has to be unique and to be a python and\n",
      " |      javascript-compatible\n",
      " |      variable name.\n",
      " |  \n",
      " |  get_root(self)\n",
      " |      Returns the root of the elements tree.\n",
      " |  \n",
      " |  save(self, outfile, close_file=True, **kwargs)\n",
      " |      Saves an Element into a file.\n",
      " |      \n",
      " |      Parameters\n",
      " |      ----------\n",
      " |      outfile : str or file object\n",
      " |          The file (or filename) where you want to output the html.\n",
      " |      close_file : bool, default True\n",
      " |          Whether the file has to be closed after write.\n",
      " |  \n",
      " |  to_dict(self, depth=-1, ordered=True, **kwargs)\n",
      " |      Returns a dict representation of the object.\n",
      " |  \n",
      " |  to_json(self, depth=-1, **kwargs)\n",
      " |      Returns a JSON representation of the object.\n",
      " |  \n",
      " |  ----------------------------------------------------------------------\n",
      " |  Data descriptors inherited from branca.element.Element:\n",
      " |  \n",
      " |  __dict__\n",
      " |      dictionary for instance variables (if defined)\n",
      " |  \n",
      " |  __weakref__\n",
      " |      list of weak references to the object (if defined)\n",
      "\n"
     ]
    }
   ],
   "source": [
    "help(HeatMap)"
   ]
  },
  {
   "cell_type": "code",
   "execution_count": 59,
   "metadata": {},
   "outputs": [
    {
     "name": "stdout",
     "output_type": "stream",
     "text": [
      "                    time       lat        lon  seconds     Noise  \\\n",
      "0    2019-10-24 11:40:11  4.637208 -74.082795       23  0.400000   \n",
      "1    2019-10-24 11:40:34  4.634320 -74.082277      242  0.460206   \n",
      "2    2019-10-24 11:41:31  4.637617 -74.083402      251  0.495424   \n",
      "3    2019-10-24 11:42:10  4.636538 -74.083502      249  0.520412   \n",
      "4    2019-10-24 11:46:19  4.637362 -74.082746       16  0.539794   \n",
      "5    2019-10-24 11:42:58  4.636950 -74.082875      249  0.555630   \n",
      "6    2019-10-24 11:47:07  4.636975 -74.082539        5  0.569020   \n",
      "7    2019-10-24 11:43:34  4.637740 -74.082265       13  0.580618   \n",
      "8    2019-10-24 11:43:47  4.637672 -74.082707      237  0.590849   \n",
      "9    2019-10-24 11:47:44  4.636964 -74.082407       16  0.600000   \n",
      "10   2019-10-24 11:48:00  4.636822 -74.082683       24  0.608279   \n",
      "11   2019-10-24 11:44:57  4.636235 -74.082705       15  0.615836   \n",
      "12   2019-10-24 11:45:12  4.635950 -74.082642       15  0.622789   \n",
      "13   2019-10-24 11:45:27  4.635860 -74.082740       23  0.629226   \n",
      "14   2019-10-24 11:45:50  4.635413 -74.082807       15  0.635218   \n",
      "15   2019-10-24 11:46:05  4.635385 -74.082965       17  0.640824   \n",
      "16   2019-10-24 11:46:22  4.635132 -74.083025       14  0.646090   \n",
      "17   2019-10-24 11:46:36  4.634512 -74.083300       18  0.651055   \n",
      "18   2019-10-24 11:46:54  4.635170 -74.082715      268  0.655751   \n",
      "19   2019-10-24 11:47:41  4.634970 -74.082602       16  0.660206   \n",
      "20   2019-10-24 11:47:57  4.634857 -74.082987       35  0.664444   \n",
      "21   2019-10-24 11:48:32  4.635178 -74.082570       17  0.668485   \n",
      "22   2019-10-24 11:48:49  4.634638 -74.082625       31  0.672346   \n",
      "23   2019-10-24 11:49:20  4.634510 -74.082642       15  0.676042   \n",
      "24   2019-10-24 11:49:35  4.635058 -74.082765      256  0.679588   \n",
      "25   2019-10-24 11:51:12  4.634505 -74.083348       13  0.682995   \n",
      "26   2019-10-24 11:51:25  4.634535 -74.083092      250  0.686273   \n",
      "27   2019-10-24 11:51:56  4.634558 -74.083217       14  0.689432   \n",
      "28   2019-10-24 11:52:10  4.634427 -74.083247       16  0.692480   \n",
      "29   2019-10-24 11:52:26  4.634247 -74.083387       15  0.695424   \n",
      "..                   ...       ...        ...      ...       ...   \n",
      "136  2019-10-24 12:28:56  4.636888 -74.090433      241  0.827344   \n",
      "137  2019-10-24 12:29:22  4.636690 -74.090593       15  0.827976   \n",
      "138  2019-10-24 12:29:37  4.636762 -74.090712      244  0.828603   \n",
      "139  2019-10-24 12:30:03  4.636795 -74.090892      265  0.829226   \n",
      "140  2019-10-24 12:34:28  4.636650 -74.091074       24  0.829844   \n",
      "141  2019-10-24 12:34:52  4.636565 -74.090992       79  0.830458   \n",
      "142  2019-10-24 12:36:11  4.636656 -74.091083       12  0.831067   \n",
      "143  2019-10-24 12:34:23  4.636983 -74.090965       50  0.831672   \n",
      "144  2019-10-24 12:35:13  4.636298 -74.091058       61  0.832274   \n",
      "145  2019-10-24 12:36:14  4.636852 -74.090768       45  0.832871   \n",
      "146  2019-10-24 12:36:59  4.636285 -74.091038       19  0.833463   \n",
      "147  2019-10-24 12:37:18  4.636288 -74.090913       78  0.834052   \n",
      "148  2019-10-24 12:38:36  4.634825 -74.091980       15  0.834637   \n",
      "149  2019-10-24 12:38:51  4.636648 -74.091368       35  0.835218   \n",
      "150  2019-10-24 12:39:26  4.636763 -74.091383       22  0.835795   \n",
      "151  2019-10-24 12:39:48  4.636557 -74.091480       11  0.836369   \n",
      "152  2019-10-24 12:39:59  4.636792 -74.091412       13  0.836938   \n",
      "153  2019-10-24 12:40:12  4.636735 -74.091495      251  0.837504   \n",
      "154  2019-10-24 12:44:23  4.636478 -74.091457       12  0.838066   \n",
      "155  2019-10-24 12:40:49  4.635937 -74.091470       13  0.838625   \n",
      "156  2019-10-24 12:41:02  4.636372 -74.091283       13  0.839180   \n",
      "157  2019-10-24 12:41:15  4.636287 -74.091372      249  0.839731   \n",
      "158  2019-10-24 12:41:40  4.636165 -74.091378       13  0.840279   \n",
      "159  2019-10-24 12:41:53  4.636060 -74.091252       13  0.840824   \n",
      "160  2019-10-24 12:42:06  4.636033 -74.091150      251  0.841365   \n",
      "161  2019-10-24 12:46:17  4.635548 -74.092151       30  0.841903   \n",
      "162  2019-10-24 12:46:47  4.635467 -74.092049       15  0.842438   \n",
      "163  2019-10-24 12:47:02  4.635391 -74.091949       12  0.842969   \n",
      "164  2019-10-24 12:43:27  4.636525 -74.090683       14  0.843497   \n",
      "165  2019-10-24 12:43:41  4.636623 -74.090565       14  0.844022   \n",
      "\n",
      "                                 Description  \n",
      "0    Biblioteca silenciosa, llamadas de aves  \n",
      "1       Oficina tranquila, lluvias moderadas  \n",
      "2       Oficina tranquila, lluvias moderadas  \n",
      "3                        Conversacion normal  \n",
      "4                        Conversacion normal  \n",
      "5                        Conversacion normal  \n",
      "6                        Conversacion normal  \n",
      "7                        Conversacion normal  \n",
      "8                        Conversacion normal  \n",
      "9                        Conversacion normal  \n",
      "10                Trafico Ocupado, aspirador  \n",
      "11                Trafico Ocupado, aspirador  \n",
      "12                Trafico Ocupado, aspirador  \n",
      "13                Trafico Ocupado, aspirador  \n",
      "14                Trafico Ocupado, aspirador  \n",
      "15                Trafico Ocupado, aspirador  \n",
      "16                Trafico Ocupado, aspirador  \n",
      "17                Trafico Ocupado, aspirador  \n",
      "18                Trafico Ocupado, aspirador  \n",
      "19                Trafico Ocupado, aspirador  \n",
      "20                Trafico Ocupado, aspirador  \n",
      "21                Trafico Ocupado, aspirador  \n",
      "22                Trafico Ocupado, aspirador  \n",
      "23                Trafico Ocupado, aspirador  \n",
      "24                Trafico Ocupado, aspirador  \n",
      "25                Trafico Ocupado, aspirador  \n",
      "26                Trafico Ocupado, aspirador  \n",
      "27                Trafico Ocupado, aspirador  \n",
      "28                Trafico Ocupado, aspirador  \n",
      "29                Trafico Ocupado, aspirador  \n",
      "..                                       ...  \n",
      "136              Carro diesel, cortacespedes  \n",
      "137              Carro diesel, cortacespedes  \n",
      "138              Carro diesel, cortacespedes  \n",
      "139              Carro diesel, cortacespedes  \n",
      "140              Carro diesel, cortacespedes  \n",
      "141              Carro diesel, cortacespedes  \n",
      "142              Carro diesel, cortacespedes  \n",
      "143              Carro diesel, cortacespedes  \n",
      "144              Carro diesel, cortacespedes  \n",
      "145              Carro diesel, cortacespedes  \n",
      "146              Carro diesel, cortacespedes  \n",
      "147              Carro diesel, cortacespedes  \n",
      "148              Carro diesel, cortacespedes  \n",
      "149              Carro diesel, cortacespedes  \n",
      "150              Carro diesel, cortacespedes  \n",
      "151              Carro diesel, cortacespedes  \n",
      "152              Carro diesel, cortacespedes  \n",
      "153              Carro diesel, cortacespedes  \n",
      "154              Carro diesel, cortacespedes  \n",
      "155              Carro diesel, cortacespedes  \n",
      "156              Carro diesel, cortacespedes  \n",
      "157              Carro diesel, cortacespedes  \n",
      "158              Carro diesel, cortacespedes  \n",
      "159              Carro diesel, cortacespedes  \n",
      "160              Carro diesel, cortacespedes  \n",
      "161              Carro diesel, cortacespedes  \n",
      "162              Carro diesel, cortacespedes  \n",
      "163              Carro diesel, cortacespedes  \n",
      "164              Carro diesel, cortacespedes  \n",
      "165              Carro diesel, cortacespedes  \n",
      "\n",
      "[166 rows x 6 columns]\n",
      "Carlos\n",
      "3-a-2410-1144-0-results.csv\n"
     ]
    }
   ],
   "source": [
    "i = 11\n",
    "\n",
    "df = pd.read_csv(\"./Resultados/\" + csv_files[i])\n",
    "df = df.drop(\"Unnamed: 0\", axis = 1)\n",
    "\n",
    "print(df)\n",
    "\n",
    "print(author(int(csv_files[i][0])))\n",
    "print(csv_files[i])\n",
    "  \n",
    "#generateMap(df)"
   ]
  },
  {
   "cell_type": "code",
   "execution_count": 88,
   "metadata": {},
   "outputs": [],
   "source": [
    "pathFile =  \"./coordenadas.csv\""
   ]
  },
  {
   "cell_type": "code",
   "execution_count": 89,
   "metadata": {},
   "outputs": [
    {
     "data": {
      "text/html": [
       "<div>\n",
       "<style scoped>\n",
       "    .dataframe tbody tr th:only-of-type {\n",
       "        vertical-align: middle;\n",
       "    }\n",
       "\n",
       "    .dataframe tbody tr th {\n",
       "        vertical-align: top;\n",
       "    }\n",
       "\n",
       "    .dataframe thead th {\n",
       "        text-align: right;\n",
       "    }\n",
       "</style>\n",
       "<table border=\"1\" class=\"dataframe\">\n",
       "  <thead>\n",
       "    <tr style=\"text-align: right;\">\n",
       "      <th></th>\n",
       "      <th>lat</th>\n",
       "      <th>lon</th>\n",
       "    </tr>\n",
       "  </thead>\n",
       "  <tbody>\n",
       "    <tr>\n",
       "      <th>0</th>\n",
       "      <td>4.633601</td>\n",
       "      <td>-74.081609</td>\n",
       "    </tr>\n",
       "    <tr>\n",
       "      <th>1</th>\n",
       "      <td>4.633655</td>\n",
       "      <td>-74.081548</td>\n",
       "    </tr>\n",
       "    <tr>\n",
       "      <th>2</th>\n",
       "      <td>4.633791</td>\n",
       "      <td>-74.081264</td>\n",
       "    </tr>\n",
       "    <tr>\n",
       "      <th>3</th>\n",
       "      <td>4.633944</td>\n",
       "      <td>-74.080971</td>\n",
       "    </tr>\n",
       "    <tr>\n",
       "      <th>4</th>\n",
       "      <td>4.634123</td>\n",
       "      <td>-74.080641</td>\n",
       "    </tr>\n",
       "  </tbody>\n",
       "</table>\n",
       "</div>"
      ],
      "text/plain": [
       "        lat        lon\n",
       "0  4.633601 -74.081609\n",
       "1  4.633655 -74.081548\n",
       "2  4.633791 -74.081264\n",
       "3  4.633944 -74.080971\n",
       "4  4.634123 -74.080641"
      ]
     },
     "execution_count": 89,
     "metadata": {},
     "output_type": "execute_result"
    }
   ],
   "source": [
    "df = pd.read_csv(pathFile, delimiter = \";\", decimal = \",\", float_precision='high')\n",
    "df.columns = \"registro lat lon\".split()\n",
    "df = df[[\"lat\", \"lon\"]]\n",
    "df.dropna(inplace = True)\n",
    "df.head()"
   ]
  },
  {
   "cell_type": "code",
   "execution_count": 104,
   "metadata": {},
   "outputs": [
    {
     "data": {
      "text/html": [
       "<div style=\"width:100%;\"><div style=\"position:relative;width:100%;height:0;padding-bottom:60%;\"><iframe src=\"data:text/html;charset=utf-8;base64,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\" style=\"position:absolute;width:100%;height:100%;left:0;top:0;border:none !important;\" allowfullscreen webkitallowfullscreen mozallowfullscreen></iframe></div></div>"
      ],
      "text/plain": [
       "<folium.folium.Map at 0x1a96c3aa160>"
      ]
     },
     "execution_count": 104,
     "metadata": {},
     "output_type": "execute_result"
    }
   ],
   "source": [
    "heat_data = [[row['lat'],row['lon']] for index, row in df.iterrows()] # , row[\"Weight\"]] \n",
    "map_hooray = folium.Map(location=[4.638594, -74.084442], zoom_start = 16) # , width = 800, height = 480)\n",
    "folium.PolyLine(heat_data, maxval = 10, color=\"red\", weight=2.5, opacity=1).add_to(map_hooray)\n",
    "HeatMap(heat_data).add_to(map_hooray)\n",
    "\n",
    "#for d in range(0, len(heat_data)):\n",
    "#    folium.Marker(heat_data[d], popup = heat_data[d]).add_to(map_hooray)\n",
    "\n",
    "map_hooray"
   ]
  },
  {
   "cell_type": "code",
   "execution_count": null,
   "metadata": {},
   "outputs": [],
   "source": []
  },
  {
   "cell_type": "code",
   "execution_count": 106,
   "metadata": {},
   "outputs": [],
   "source": [
    "line = [1, 2, 3]"
   ]
  },
  {
   "cell_type": "code",
   "execution_count": 107,
   "metadata": {},
   "outputs": [
    {
     "data": {
      "text/plain": [
       "[1, 2]"
      ]
     },
     "execution_count": 107,
     "metadata": {},
     "output_type": "execute_result"
    }
   ],
   "source": [
    "line[:2]"
   ]
  },
  {
   "cell_type": "code",
   "execution_count": 108,
   "metadata": {},
   "outputs": [
    {
     "data": {
      "text/plain": [
       "[3]"
      ]
     },
     "execution_count": 108,
     "metadata": {},
     "output_type": "execute_result"
    }
   ],
   "source": [
    "line[2:]"
   ]
  },
  {
   "cell_type": "code",
   "execution_count": null,
   "metadata": {},
   "outputs": [],
   "source": []
  }
 ],
 "metadata": {
  "kernelspec": {
   "display_name": "Python 3",
   "language": "python",
   "name": "python3"
  },
  "language_info": {
   "codemirror_mode": {
    "name": "ipython",
    "version": 3
   },
   "file_extension": ".py",
   "mimetype": "text/x-python",
   "name": "python",
   "nbconvert_exporter": "python",
   "pygments_lexer": "ipython3",
   "version": "3.7.3"
  }
 },
 "nbformat": 4,
 "nbformat_minor": 2
}
